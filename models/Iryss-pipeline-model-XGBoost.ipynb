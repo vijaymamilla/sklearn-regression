{
 "cells": [
  {
   "cell_type": "code",
   "execution_count": 1,
   "id": "0d9943f8",
   "metadata": {},
   "outputs": [],
   "source": [
    "import numpy as np\n",
    "import pandas as pd\n",
    "\n",
    "pd.set_option('display.max_columns',None)\n"
   ]
  },
  {
   "cell_type": "code",
   "execution_count": 2,
   "id": "df69883b",
   "metadata": {},
   "outputs": [],
   "source": [
    "from sklearn.model_selection import train_test_split\n",
    "from sklearn.compose import ColumnTransformer\n",
    "from sklearn.impute import SimpleImputer\n",
    "from sklearn.preprocessing import StandardScaler,OneHotEncoder\n",
    "from sklearn.preprocessing import MinMaxScaler\n",
    "from sklearn.pipeline import Pipeline,make_pipeline\n",
    "from sklearn.feature_selection import SelectKBest,chi2\n",
    "from sklearn.metrics import mean_squared_error\n",
    "import xgboost as xgb"
   ]
  },
  {
   "cell_type": "code",
   "execution_count": 3,
   "id": "ca201ccd",
   "metadata": {},
   "outputs": [
    {
     "name": "stdout",
     "output_type": "stream",
     "text": [
      "1.3.0\n"
     ]
    }
   ],
   "source": [
    "import sklearn\n",
    "print(sklearn.__version__)"
   ]
  },
  {
   "cell_type": "code",
   "execution_count": 4,
   "id": "c53e16cc",
   "metadata": {},
   "outputs": [],
   "source": [
    "df = pd.read_csv('iryss-data.csv')"
   ]
  },
  {
   "cell_type": "code",
   "execution_count": 5,
   "id": "eab70695",
   "metadata": {},
   "outputs": [
    {
     "data": {
      "text/html": [
       "<div>\n",
       "<style scoped>\n",
       "    .dataframe tbody tr th:only-of-type {\n",
       "        vertical-align: middle;\n",
       "    }\n",
       "\n",
       "    .dataframe tbody tr th {\n",
       "        vertical-align: top;\n",
       "    }\n",
       "\n",
       "    .dataframe thead th {\n",
       "        text-align: right;\n",
       "    }\n",
       "</style>\n",
       "<table border=\"1\" class=\"dataframe\">\n",
       "  <thead>\n",
       "    <tr style=\"text-align: right;\">\n",
       "      <th></th>\n",
       "      <th>AGE</th>\n",
       "      <th>SEX</th>\n",
       "      <th>RACE</th>\n",
       "      <th>HOSPID</th>\n",
       "      <th>DRG</th>\n",
       "      <th>NPR</th>\n",
       "      <th>NCHRONIC</th>\n",
       "      <th>ZIPINC_QRTL</th>\n",
       "      <th>PAY1</th>\n",
       "      <th>PAY2</th>\n",
       "      <th>CM_AIDS</th>\n",
       "      <th>CM_ALCOHOL</th>\n",
       "      <th>CM_ANEMDEF</th>\n",
       "      <th>CM_ARTH</th>\n",
       "      <th>CM_BLDLOSS</th>\n",
       "      <th>CM_CHF</th>\n",
       "      <th>CM_DRUG</th>\n",
       "      <th>DXn</th>\n",
       "      <th>TRAN_IN</th>\n",
       "      <th>TRAN_OUT</th>\n",
       "      <th>TOTCHG</th>\n",
       "    </tr>\n",
       "  </thead>\n",
       "  <tbody>\n",
       "    <tr>\n",
       "      <th>0</th>\n",
       "      <td>56</td>\n",
       "      <td>Other</td>\n",
       "      <td>Black</td>\n",
       "      <td>2</td>\n",
       "      <td>ICD-10-CM</td>\n",
       "      <td>1365516690</td>\n",
       "      <td>1</td>\n",
       "      <td>3</td>\n",
       "      <td>Medicare</td>\n",
       "      <td>None</td>\n",
       "      <td>no</td>\n",
       "      <td>no</td>\n",
       "      <td>no</td>\n",
       "      <td>no</td>\n",
       "      <td>no</td>\n",
       "      <td>yes</td>\n",
       "      <td>current</td>\n",
       "      <td>3</td>\n",
       "      <td>Transferred from acute care hospital</td>\n",
       "      <td>Not a transfer</td>\n",
       "      <td>43000.0</td>\n",
       "    </tr>\n",
       "    <tr>\n",
       "      <th>1</th>\n",
       "      <td>19</td>\n",
       "      <td>Male</td>\n",
       "      <td>Other</td>\n",
       "      <td>9</td>\n",
       "      <td>ICD-10-CM</td>\n",
       "      <td>6951096330</td>\n",
       "      <td>1</td>\n",
       "      <td>2</td>\n",
       "      <td>Medicaid</td>\n",
       "      <td>COBRA Coverage</td>\n",
       "      <td>no</td>\n",
       "      <td>yes</td>\n",
       "      <td>no</td>\n",
       "      <td>no</td>\n",
       "      <td>no</td>\n",
       "      <td>yes</td>\n",
       "      <td>current</td>\n",
       "      <td>4</td>\n",
       "      <td>Not a transfer</td>\n",
       "      <td>Not a transfer</td>\n",
       "      <td>47500.0</td>\n",
       "    </tr>\n",
       "    <tr>\n",
       "      <th>2</th>\n",
       "      <td>76</td>\n",
       "      <td>Male</td>\n",
       "      <td>White</td>\n",
       "      <td>3</td>\n",
       "      <td>ICD-10-CM/PCS</td>\n",
       "      <td>5600059825</td>\n",
       "      <td>1</td>\n",
       "      <td>2</td>\n",
       "      <td>Medicare</td>\n",
       "      <td>None</td>\n",
       "      <td>no</td>\n",
       "      <td>no</td>\n",
       "      <td>no</td>\n",
       "      <td>no</td>\n",
       "      <td>no</td>\n",
       "      <td>no</td>\n",
       "      <td>current</td>\n",
       "      <td>4</td>\n",
       "      <td>Transferred from another health facility</td>\n",
       "      <td>Not a transfer</td>\n",
       "      <td>3000.0</td>\n",
       "    </tr>\n",
       "    <tr>\n",
       "      <th>3</th>\n",
       "      <td>65</td>\n",
       "      <td>Male</td>\n",
       "      <td>Hispanic</td>\n",
       "      <td>2</td>\n",
       "      <td>ICD-9-CM</td>\n",
       "      <td>6280085793</td>\n",
       "      <td>2</td>\n",
       "      <td>3</td>\n",
       "      <td>Medicare</td>\n",
       "      <td>Secondary Health Insurance</td>\n",
       "      <td>no</td>\n",
       "      <td>no</td>\n",
       "      <td>no</td>\n",
       "      <td>no</td>\n",
       "      <td>no</td>\n",
       "      <td>yes</td>\n",
       "      <td>current</td>\n",
       "      <td>4</td>\n",
       "      <td>Not a transfer</td>\n",
       "      <td>Transferred out to acute are hospital</td>\n",
       "      <td>31000.0</td>\n",
       "    </tr>\n",
       "    <tr>\n",
       "      <th>4</th>\n",
       "      <td>25</td>\n",
       "      <td>Female</td>\n",
       "      <td>Native American</td>\n",
       "      <td>9</td>\n",
       "      <td>ICD-10-CM</td>\n",
       "      <td>6448432997</td>\n",
       "      <td>2</td>\n",
       "      <td>3</td>\n",
       "      <td>Medicare</td>\n",
       "      <td>Secondary Health Insurance</td>\n",
       "      <td>no</td>\n",
       "      <td>no</td>\n",
       "      <td>no</td>\n",
       "      <td>no</td>\n",
       "      <td>yes</td>\n",
       "      <td>yes</td>\n",
       "      <td>current</td>\n",
       "      <td>4</td>\n",
       "      <td>Not a transfer</td>\n",
       "      <td>Not a transfer</td>\n",
       "      <td>46000.0</td>\n",
       "    </tr>\n",
       "  </tbody>\n",
       "</table>\n",
       "</div>"
      ],
      "text/plain": [
       "   AGE     SEX             RACE  HOSPID            DRG         NPR  NCHRONIC  \\\n",
       "0   56   Other            Black       2      ICD-10-CM  1365516690         1   \n",
       "1   19    Male            Other       9      ICD-10-CM  6951096330         1   \n",
       "2   76    Male            White       3  ICD-10-CM/PCS  5600059825         1   \n",
       "3   65    Male         Hispanic       2       ICD-9-CM  6280085793         2   \n",
       "4   25  Female  Native American       9      ICD-10-CM  6448432997         2   \n",
       "\n",
       "   ZIPINC_QRTL      PAY1                        PAY2 CM_AIDS CM_ALCOHOL  \\\n",
       "0            3  Medicare                        None      no         no   \n",
       "1            2  Medicaid              COBRA Coverage      no        yes   \n",
       "2            2  Medicare                        None      no         no   \n",
       "3            3  Medicare  Secondary Health Insurance      no         no   \n",
       "4            3  Medicare  Secondary Health Insurance      no         no   \n",
       "\n",
       "  CM_ANEMDEF CM_ARTH CM_BLDLOSS CM_CHF  CM_DRUG  DXn  \\\n",
       "0         no      no         no    yes  current    3   \n",
       "1         no      no         no    yes  current    4   \n",
       "2         no      no         no     no  current    4   \n",
       "3         no      no         no    yes  current    4   \n",
       "4         no      no        yes    yes  current    4   \n",
       "\n",
       "                                    TRAN_IN  \\\n",
       "0      Transferred from acute care hospital   \n",
       "1                            Not a transfer   \n",
       "2  Transferred from another health facility   \n",
       "3                            Not a transfer   \n",
       "4                            Not a transfer   \n",
       "\n",
       "                                TRAN_OUT   TOTCHG  \n",
       "0                         Not a transfer  43000.0  \n",
       "1                         Not a transfer  47500.0  \n",
       "2                         Not a transfer   3000.0  \n",
       "3  Transferred out to acute are hospital  31000.0  \n",
       "4                         Not a transfer  46000.0  "
      ]
     },
     "execution_count": 5,
     "metadata": {},
     "output_type": "execute_result"
    }
   ],
   "source": [
    "df.head()"
   ]
  },
  {
   "cell_type": "code",
   "execution_count": 6,
   "id": "64166c50",
   "metadata": {},
   "outputs": [
    {
     "name": "stdout",
     "output_type": "stream",
     "text": [
      "<class 'pandas.core.frame.DataFrame'>\n",
      "RangeIndex: 898 entries, 0 to 897\n",
      "Data columns (total 21 columns):\n",
      " #   Column       Non-Null Count  Dtype  \n",
      "---  ------       --------------  -----  \n",
      " 0   AGE          898 non-null    int64  \n",
      " 1   SEX          898 non-null    object \n",
      " 2   RACE         898 non-null    object \n",
      " 3   HOSPID       898 non-null    int64  \n",
      " 4   DRG          898 non-null    object \n",
      " 5   NPR          898 non-null    int64  \n",
      " 6   NCHRONIC     898 non-null    int64  \n",
      " 7   ZIPINC_QRTL  898 non-null    int64  \n",
      " 8   PAY1         898 non-null    object \n",
      " 9   PAY2         898 non-null    object \n",
      " 10  CM_AIDS      898 non-null    object \n",
      " 11  CM_ALCOHOL   898 non-null    object \n",
      " 12  CM_ANEMDEF   898 non-null    object \n",
      " 13  CM_ARTH      898 non-null    object \n",
      " 14  CM_BLDLOSS   898 non-null    object \n",
      " 15  CM_CHF       898 non-null    object \n",
      " 16  CM_DRUG      898 non-null    object \n",
      " 17  DXn          898 non-null    int64  \n",
      " 18  TRAN_IN      898 non-null    object \n",
      " 19  TRAN_OUT     897 non-null    object \n",
      " 20  TOTCHG       897 non-null    float64\n",
      "dtypes: float64(1), int64(6), object(14)\n",
      "memory usage: 147.5+ KB\n"
     ]
    }
   ],
   "source": [
    "df.info()"
   ]
  },
  {
   "cell_type": "code",
   "execution_count": 7,
   "id": "09eac107",
   "metadata": {},
   "outputs": [
    {
     "data": {
      "text/plain": [
       "AGE            0\n",
       "SEX            0\n",
       "RACE           0\n",
       "HOSPID         0\n",
       "DRG            0\n",
       "NPR            0\n",
       "NCHRONIC       0\n",
       "ZIPINC_QRTL    0\n",
       "PAY1           0\n",
       "PAY2           0\n",
       "CM_AIDS        0\n",
       "CM_ALCOHOL     0\n",
       "CM_ANEMDEF     0\n",
       "CM_ARTH        0\n",
       "CM_BLDLOSS     0\n",
       "CM_CHF         0\n",
       "CM_DRUG        0\n",
       "DXn            0\n",
       "TRAN_IN        0\n",
       "TRAN_OUT       1\n",
       "TOTCHG         1\n",
       "dtype: int64"
      ]
     },
     "execution_count": 7,
     "metadata": {},
     "output_type": "execute_result"
    }
   ],
   "source": [
    "df.isnull().sum()"
   ]
  },
  {
   "cell_type": "code",
   "execution_count": 8,
   "id": "861730b9",
   "metadata": {},
   "outputs": [],
   "source": [
    "df.dropna(subset=['TRAN_OUT','TOTCHG'],inplace=True)"
   ]
  },
  {
   "cell_type": "code",
   "execution_count": 9,
   "id": "ee7377b0",
   "metadata": {},
   "outputs": [
    {
     "data": {
      "text/plain": [
       "AGE            0\n",
       "SEX            0\n",
       "RACE           0\n",
       "HOSPID         0\n",
       "DRG            0\n",
       "NPR            0\n",
       "NCHRONIC       0\n",
       "ZIPINC_QRTL    0\n",
       "PAY1           0\n",
       "PAY2           0\n",
       "CM_AIDS        0\n",
       "CM_ALCOHOL     0\n",
       "CM_ANEMDEF     0\n",
       "CM_ARTH        0\n",
       "CM_BLDLOSS     0\n",
       "CM_CHF         0\n",
       "CM_DRUG        0\n",
       "DXn            0\n",
       "TRAN_IN        0\n",
       "TRAN_OUT       0\n",
       "TOTCHG         0\n",
       "dtype: int64"
      ]
     },
     "execution_count": 9,
     "metadata": {},
     "output_type": "execute_result"
    }
   ],
   "source": [
    "df.isnull().sum()"
   ]
  },
  {
   "cell_type": "code",
   "execution_count": 10,
   "id": "71ec838c",
   "metadata": {},
   "outputs": [],
   "source": [
    "#Step-1\n",
    "X_train,X_test,y_train,y_test = train_test_split(df.drop(columns=['TOTCHG']),df['TOTCHG'],test_size=0.2,random_state=42)"
   ]
  },
  {
   "cell_type": "code",
   "execution_count": 11,
   "id": "e67f6187",
   "metadata": {},
   "outputs": [
    {
     "data": {
      "text/html": [
       "<div>\n",
       "<style scoped>\n",
       "    .dataframe tbody tr th:only-of-type {\n",
       "        vertical-align: middle;\n",
       "    }\n",
       "\n",
       "    .dataframe tbody tr th {\n",
       "        vertical-align: top;\n",
       "    }\n",
       "\n",
       "    .dataframe thead th {\n",
       "        text-align: right;\n",
       "    }\n",
       "</style>\n",
       "<table border=\"1\" class=\"dataframe\">\n",
       "  <thead>\n",
       "    <tr style=\"text-align: right;\">\n",
       "      <th></th>\n",
       "      <th>AGE</th>\n",
       "      <th>SEX</th>\n",
       "      <th>RACE</th>\n",
       "      <th>HOSPID</th>\n",
       "      <th>DRG</th>\n",
       "      <th>NPR</th>\n",
       "      <th>NCHRONIC</th>\n",
       "      <th>ZIPINC_QRTL</th>\n",
       "      <th>PAY1</th>\n",
       "      <th>PAY2</th>\n",
       "      <th>CM_AIDS</th>\n",
       "      <th>CM_ALCOHOL</th>\n",
       "      <th>CM_ANEMDEF</th>\n",
       "      <th>CM_ARTH</th>\n",
       "      <th>CM_BLDLOSS</th>\n",
       "      <th>CM_CHF</th>\n",
       "      <th>CM_DRUG</th>\n",
       "      <th>DXn</th>\n",
       "      <th>TRAN_IN</th>\n",
       "      <th>TRAN_OUT</th>\n",
       "    </tr>\n",
       "  </thead>\n",
       "  <tbody>\n",
       "    <tr>\n",
       "      <th>870</th>\n",
       "      <td>27</td>\n",
       "      <td>Male</td>\n",
       "      <td>Other</td>\n",
       "      <td>7</td>\n",
       "      <td>ICD-10-CM</td>\n",
       "      <td>8738844579</td>\n",
       "      <td>2</td>\n",
       "      <td>3</td>\n",
       "      <td>Medicare</td>\n",
       "      <td>Employer-Sponsored Plans</td>\n",
       "      <td>no</td>\n",
       "      <td>no</td>\n",
       "      <td>no</td>\n",
       "      <td>no</td>\n",
       "      <td>yes</td>\n",
       "      <td>no</td>\n",
       "      <td>current</td>\n",
       "      <td>4</td>\n",
       "      <td>Transferred from another health facility</td>\n",
       "      <td>Transferred out to acute are hospital</td>\n",
       "    </tr>\n",
       "    <tr>\n",
       "      <th>740</th>\n",
       "      <td>43</td>\n",
       "      <td>Male</td>\n",
       "      <td>Black</td>\n",
       "      <td>4</td>\n",
       "      <td>ICD-10-CM/PCS</td>\n",
       "      <td>1884677531</td>\n",
       "      <td>1</td>\n",
       "      <td>2</td>\n",
       "      <td>Medicaid</td>\n",
       "      <td>None</td>\n",
       "      <td>no</td>\n",
       "      <td>no</td>\n",
       "      <td>no</td>\n",
       "      <td>no</td>\n",
       "      <td>no</td>\n",
       "      <td>yes</td>\n",
       "      <td>current</td>\n",
       "      <td>3</td>\n",
       "      <td>Transferred from another health facility</td>\n",
       "      <td>Transferred out to another health facility</td>\n",
       "    </tr>\n",
       "    <tr>\n",
       "      <th>231</th>\n",
       "      <td>28</td>\n",
       "      <td>Male</td>\n",
       "      <td>Other</td>\n",
       "      <td>7</td>\n",
       "      <td>ICD-10-PCS</td>\n",
       "      <td>3456703593</td>\n",
       "      <td>1</td>\n",
       "      <td>2</td>\n",
       "      <td>Medicaid</td>\n",
       "      <td>Secondary Health Insurance</td>\n",
       "      <td>no</td>\n",
       "      <td>no</td>\n",
       "      <td>no</td>\n",
       "      <td>no</td>\n",
       "      <td>yes</td>\n",
       "      <td>no</td>\n",
       "      <td>former</td>\n",
       "      <td>4</td>\n",
       "      <td>Transferred from another health facility</td>\n",
       "      <td>Transferred out to acute are hospital</td>\n",
       "    </tr>\n",
       "    <tr>\n",
       "      <th>388</th>\n",
       "      <td>66</td>\n",
       "      <td>Female</td>\n",
       "      <td>Black</td>\n",
       "      <td>1</td>\n",
       "      <td>ICD-10-CM</td>\n",
       "      <td>5389740698</td>\n",
       "      <td>1</td>\n",
       "      <td>1</td>\n",
       "      <td>Medicare</td>\n",
       "      <td>Employer-Sponsored Plans</td>\n",
       "      <td>yes</td>\n",
       "      <td>no</td>\n",
       "      <td>no</td>\n",
       "      <td>no</td>\n",
       "      <td>no</td>\n",
       "      <td>yes</td>\n",
       "      <td>current</td>\n",
       "      <td>4</td>\n",
       "      <td>Not a transfer</td>\n",
       "      <td>Transferred out to acute are hospital</td>\n",
       "    </tr>\n",
       "    <tr>\n",
       "      <th>118</th>\n",
       "      <td>56</td>\n",
       "      <td>Other</td>\n",
       "      <td>White</td>\n",
       "      <td>7</td>\n",
       "      <td>ICD-9-CM</td>\n",
       "      <td>4526086619</td>\n",
       "      <td>1</td>\n",
       "      <td>2</td>\n",
       "      <td>Medicaid</td>\n",
       "      <td>Secondary Health Insurance</td>\n",
       "      <td>no</td>\n",
       "      <td>yes</td>\n",
       "      <td>no</td>\n",
       "      <td>no</td>\n",
       "      <td>no</td>\n",
       "      <td>no</td>\n",
       "      <td>never</td>\n",
       "      <td>4</td>\n",
       "      <td>Transferred from acute care hospital</td>\n",
       "      <td>Not a transfer</td>\n",
       "    </tr>\n",
       "  </tbody>\n",
       "</table>\n",
       "</div>"
      ],
      "text/plain": [
       "     AGE     SEX   RACE  HOSPID            DRG         NPR  NCHRONIC  \\\n",
       "870   27    Male  Other       7      ICD-10-CM  8738844579         2   \n",
       "740   43    Male  Black       4  ICD-10-CM/PCS  1884677531         1   \n",
       "231   28    Male  Other       7     ICD-10-PCS  3456703593         1   \n",
       "388   66  Female  Black       1      ICD-10-CM  5389740698         1   \n",
       "118   56   Other  White       7       ICD-9-CM  4526086619         1   \n",
       "\n",
       "     ZIPINC_QRTL      PAY1                        PAY2 CM_AIDS CM_ALCOHOL  \\\n",
       "870            3  Medicare    Employer-Sponsored Plans      no         no   \n",
       "740            2  Medicaid                        None      no         no   \n",
       "231            2  Medicaid  Secondary Health Insurance      no         no   \n",
       "388            1  Medicare    Employer-Sponsored Plans     yes         no   \n",
       "118            2  Medicaid  Secondary Health Insurance      no        yes   \n",
       "\n",
       "    CM_ANEMDEF CM_ARTH CM_BLDLOSS CM_CHF  CM_DRUG  DXn  \\\n",
       "870         no      no        yes     no  current    4   \n",
       "740         no      no         no    yes  current    3   \n",
       "231         no      no        yes     no   former    4   \n",
       "388         no      no         no    yes  current    4   \n",
       "118         no      no         no     no    never    4   \n",
       "\n",
       "                                      TRAN_IN  \\\n",
       "870  Transferred from another health facility   \n",
       "740  Transferred from another health facility   \n",
       "231  Transferred from another health facility   \n",
       "388                            Not a transfer   \n",
       "118      Transferred from acute care hospital   \n",
       "\n",
       "                                       TRAN_OUT  \n",
       "870       Transferred out to acute are hospital  \n",
       "740  Transferred out to another health facility  \n",
       "231       Transferred out to acute are hospital  \n",
       "388       Transferred out to acute are hospital  \n",
       "118                              Not a transfer  "
      ]
     },
     "execution_count": 11,
     "metadata": {},
     "output_type": "execute_result"
    }
   ],
   "source": [
    "X_train.head()"
   ]
  },
  {
   "cell_type": "code",
   "execution_count": 12,
   "id": "c3390203",
   "metadata": {},
   "outputs": [
    {
     "data": {
      "text/plain": [
       "571    10000.0\n",
       "161     2000.0\n",
       "451    29000.0\n",
       "126    52000.0\n",
       "142    43000.0\n",
       "Name: TOTCHG, dtype: float64"
      ]
     },
     "execution_count": 12,
     "metadata": {},
     "output_type": "execute_result"
    }
   ],
   "source": [
    "y_train.sample(5)"
   ]
  },
  {
   "cell_type": "code",
   "execution_count": 13,
   "id": "b425db7c",
   "metadata": {},
   "outputs": [],
   "source": [
    "numeric_features = ['AGE', 'HOSPID','NPR','NCHRONIC','ZIPINC_QRTL','DXn'] \n",
    "categorical_features = ['RACE','DRG','PAY1','PAY2','CM_AIDS','CM_ALCOHOL','CM_ANEMDEF','CM_ARTH','CM_BLDLOSS','CM_CHF','CM_DRUG','TRAN_IN','TRAN_OUT']"
   ]
  },
  {
   "cell_type": "code",
   "execution_count": 14,
   "id": "4ca95ae8",
   "metadata": {},
   "outputs": [],
   "source": [
    "numeric_transformer = Pipeline(steps=[('scaler', MinMaxScaler(feature_range=(-1, 1)))])"
   ]
  },
  {
   "cell_type": "code",
   "execution_count": 15,
   "id": "808bab1e",
   "metadata": {},
   "outputs": [],
   "source": [
    "categorical_transformer = Pipeline(steps=[\n",
    "    ('onehot', OneHotEncoder(sparse_output=True, handle_unknown='ignore'))])"
   ]
  },
  {
   "cell_type": "code",
   "execution_count": 16,
   "id": "ffb5a829",
   "metadata": {},
   "outputs": [],
   "source": [
    "preprocessor = ColumnTransformer(\n",
    "    transformers=[\n",
    "        ('num', numeric_transformer, numeric_features),\n",
    "        ('cat', categorical_transformer, categorical_features)\n",
    "    ])"
   ]
  },
  {
   "cell_type": "code",
   "execution_count": 17,
   "id": "50db4835",
   "metadata": {},
   "outputs": [],
   "source": [
    "#Feature Selection\n",
    "#feature_selection = SelectKBest(score_func=chi2,k=8)"
   ]
  },
  {
   "cell_type": "code",
   "execution_count": 18,
   "id": "6b4dea3d",
   "metadata": {},
   "outputs": [],
   "source": [
    "# train the model\n",
    "xgb_regressor=xgb.XGBRegressor(eval_metric='rmsle')"
   ]
  },
  {
   "cell_type": "markdown",
   "id": "a2413031",
   "metadata": {},
   "source": [
    "# Create Pipeline"
   ]
  },
  {
   "cell_type": "code",
   "execution_count": 19,
   "id": "bacd41d2",
   "metadata": {},
   "outputs": [],
   "source": [
    "from sklearn import set_config\n",
    "set_config(display='diagram')"
   ]
  },
  {
   "cell_type": "code",
   "execution_count": 20,
   "id": "e1d5a815",
   "metadata": {},
   "outputs": [],
   "source": [
    "pipeline = Pipeline(steps=[\n",
    "    ('precprocessor', preprocessor),\n",
    "    ('xgb_regressor', xgb_regressor)\n",
    "])"
   ]
  },
  {
   "cell_type": "code",
   "execution_count": 21,
   "id": "e3702138",
   "metadata": {},
   "outputs": [
    {
     "data": {
      "text/html": [
       "<style>#sk-container-id-1 {color: black;}#sk-container-id-1 pre{padding: 0;}#sk-container-id-1 div.sk-toggleable {background-color: white;}#sk-container-id-1 label.sk-toggleable__label {cursor: pointer;display: block;width: 100%;margin-bottom: 0;padding: 0.3em;box-sizing: border-box;text-align: center;}#sk-container-id-1 label.sk-toggleable__label-arrow:before {content: \"▸\";float: left;margin-right: 0.25em;color: #696969;}#sk-container-id-1 label.sk-toggleable__label-arrow:hover:before {color: black;}#sk-container-id-1 div.sk-estimator:hover label.sk-toggleable__label-arrow:before {color: black;}#sk-container-id-1 div.sk-toggleable__content {max-height: 0;max-width: 0;overflow: hidden;text-align: left;background-color: #f0f8ff;}#sk-container-id-1 div.sk-toggleable__content pre {margin: 0.2em;color: black;border-radius: 0.25em;background-color: #f0f8ff;}#sk-container-id-1 input.sk-toggleable__control:checked~div.sk-toggleable__content {max-height: 200px;max-width: 100%;overflow: auto;}#sk-container-id-1 input.sk-toggleable__control:checked~label.sk-toggleable__label-arrow:before {content: \"▾\";}#sk-container-id-1 div.sk-estimator input.sk-toggleable__control:checked~label.sk-toggleable__label {background-color: #d4ebff;}#sk-container-id-1 div.sk-label input.sk-toggleable__control:checked~label.sk-toggleable__label {background-color: #d4ebff;}#sk-container-id-1 input.sk-hidden--visually {border: 0;clip: rect(1px 1px 1px 1px);clip: rect(1px, 1px, 1px, 1px);height: 1px;margin: -1px;overflow: hidden;padding: 0;position: absolute;width: 1px;}#sk-container-id-1 div.sk-estimator {font-family: monospace;background-color: #f0f8ff;border: 1px dotted black;border-radius: 0.25em;box-sizing: border-box;margin-bottom: 0.5em;}#sk-container-id-1 div.sk-estimator:hover {background-color: #d4ebff;}#sk-container-id-1 div.sk-parallel-item::after {content: \"\";width: 100%;border-bottom: 1px solid gray;flex-grow: 1;}#sk-container-id-1 div.sk-label:hover label.sk-toggleable__label {background-color: #d4ebff;}#sk-container-id-1 div.sk-serial::before {content: \"\";position: absolute;border-left: 1px solid gray;box-sizing: border-box;top: 0;bottom: 0;left: 50%;z-index: 0;}#sk-container-id-1 div.sk-serial {display: flex;flex-direction: column;align-items: center;background-color: white;padding-right: 0.2em;padding-left: 0.2em;position: relative;}#sk-container-id-1 div.sk-item {position: relative;z-index: 1;}#sk-container-id-1 div.sk-parallel {display: flex;align-items: stretch;justify-content: center;background-color: white;position: relative;}#sk-container-id-1 div.sk-item::before, #sk-container-id-1 div.sk-parallel-item::before {content: \"\";position: absolute;border-left: 1px solid gray;box-sizing: border-box;top: 0;bottom: 0;left: 50%;z-index: -1;}#sk-container-id-1 div.sk-parallel-item {display: flex;flex-direction: column;z-index: 1;position: relative;background-color: white;}#sk-container-id-1 div.sk-parallel-item:first-child::after {align-self: flex-end;width: 50%;}#sk-container-id-1 div.sk-parallel-item:last-child::after {align-self: flex-start;width: 50%;}#sk-container-id-1 div.sk-parallel-item:only-child::after {width: 0;}#sk-container-id-1 div.sk-dashed-wrapped {border: 1px dashed gray;margin: 0 0.4em 0.5em 0.4em;box-sizing: border-box;padding-bottom: 0.4em;background-color: white;}#sk-container-id-1 div.sk-label label {font-family: monospace;font-weight: bold;display: inline-block;line-height: 1.2em;}#sk-container-id-1 div.sk-label-container {text-align: center;}#sk-container-id-1 div.sk-container {/* jupyter's `normalize.less` sets `[hidden] { display: none; }` but bootstrap.min.css set `[hidden] { display: none !important; }` so we also need the `!important` here to be able to override the default hidden behavior on the sphinx rendered scikit-learn.org. See: https://github.com/scikit-learn/scikit-learn/issues/21755 */display: inline-block !important;position: relative;}#sk-container-id-1 div.sk-text-repr-fallback {display: none;}</style><div id=\"sk-container-id-1\" class=\"sk-top-container\"><div class=\"sk-text-repr-fallback\"><pre>Pipeline(steps=[(&#x27;precprocessor&#x27;,\n",
       "                 ColumnTransformer(transformers=[(&#x27;num&#x27;,\n",
       "                                                  Pipeline(steps=[(&#x27;scaler&#x27;,\n",
       "                                                                   MinMaxScaler(feature_range=(-1,\n",
       "                                                                                               1)))]),\n",
       "                                                  [&#x27;AGE&#x27;, &#x27;HOSPID&#x27;, &#x27;NPR&#x27;,\n",
       "                                                   &#x27;NCHRONIC&#x27;, &#x27;ZIPINC_QRTL&#x27;,\n",
       "                                                   &#x27;DXn&#x27;]),\n",
       "                                                 (&#x27;cat&#x27;,\n",
       "                                                  Pipeline(steps=[(&#x27;onehot&#x27;,\n",
       "                                                                   OneHotEncoder(handle_unknown=&#x27;ignore&#x27;))]),\n",
       "                                                  [&#x27;RACE&#x27;, &#x27;DRG&#x27;, &#x27;PAY1&#x27;,\n",
       "                                                   &#x27;PAY2&#x27;, &#x27;CM_AIDS&#x27;,\n",
       "                                                   &#x27;CM_ALCOHOL&#x27;, &#x27;CM_ANEMDEF&#x27;,\n",
       "                                                   &#x27;CM_ARTH&#x27;, &#x27;CM_BLDLOS...\n",
       "                              feature_types=None, gamma=None, gpu_id=None,\n",
       "                              grow_policy=None, importance_type=None,\n",
       "                              interaction_constraints=None, learning_rate=None,\n",
       "                              max_bin=None, max_cat_threshold=None,\n",
       "                              max_cat_to_onehot=None, max_delta_step=None,\n",
       "                              max_depth=None, max_leaves=None,\n",
       "                              min_child_weight=None, missing=nan,\n",
       "                              monotone_constraints=None, n_estimators=100,\n",
       "                              n_jobs=None, num_parallel_tree=None,\n",
       "                              predictor=None, random_state=None, ...))])</pre><b>In a Jupyter environment, please rerun this cell to show the HTML representation or trust the notebook. <br />On GitHub, the HTML representation is unable to render, please try loading this page with nbviewer.org.</b></div><div class=\"sk-container\" hidden><div class=\"sk-item sk-dashed-wrapped\"><div class=\"sk-label-container\"><div class=\"sk-label sk-toggleable\"><input class=\"sk-toggleable__control sk-hidden--visually\" id=\"sk-estimator-id-1\" type=\"checkbox\" ><label for=\"sk-estimator-id-1\" class=\"sk-toggleable__label sk-toggleable__label-arrow\">Pipeline</label><div class=\"sk-toggleable__content\"><pre>Pipeline(steps=[(&#x27;precprocessor&#x27;,\n",
       "                 ColumnTransformer(transformers=[(&#x27;num&#x27;,\n",
       "                                                  Pipeline(steps=[(&#x27;scaler&#x27;,\n",
       "                                                                   MinMaxScaler(feature_range=(-1,\n",
       "                                                                                               1)))]),\n",
       "                                                  [&#x27;AGE&#x27;, &#x27;HOSPID&#x27;, &#x27;NPR&#x27;,\n",
       "                                                   &#x27;NCHRONIC&#x27;, &#x27;ZIPINC_QRTL&#x27;,\n",
       "                                                   &#x27;DXn&#x27;]),\n",
       "                                                 (&#x27;cat&#x27;,\n",
       "                                                  Pipeline(steps=[(&#x27;onehot&#x27;,\n",
       "                                                                   OneHotEncoder(handle_unknown=&#x27;ignore&#x27;))]),\n",
       "                                                  [&#x27;RACE&#x27;, &#x27;DRG&#x27;, &#x27;PAY1&#x27;,\n",
       "                                                   &#x27;PAY2&#x27;, &#x27;CM_AIDS&#x27;,\n",
       "                                                   &#x27;CM_ALCOHOL&#x27;, &#x27;CM_ANEMDEF&#x27;,\n",
       "                                                   &#x27;CM_ARTH&#x27;, &#x27;CM_BLDLOS...\n",
       "                              feature_types=None, gamma=None, gpu_id=None,\n",
       "                              grow_policy=None, importance_type=None,\n",
       "                              interaction_constraints=None, learning_rate=None,\n",
       "                              max_bin=None, max_cat_threshold=None,\n",
       "                              max_cat_to_onehot=None, max_delta_step=None,\n",
       "                              max_depth=None, max_leaves=None,\n",
       "                              min_child_weight=None, missing=nan,\n",
       "                              monotone_constraints=None, n_estimators=100,\n",
       "                              n_jobs=None, num_parallel_tree=None,\n",
       "                              predictor=None, random_state=None, ...))])</pre></div></div></div><div class=\"sk-serial\"><div class=\"sk-item sk-dashed-wrapped\"><div class=\"sk-label-container\"><div class=\"sk-label sk-toggleable\"><input class=\"sk-toggleable__control sk-hidden--visually\" id=\"sk-estimator-id-2\" type=\"checkbox\" ><label for=\"sk-estimator-id-2\" class=\"sk-toggleable__label sk-toggleable__label-arrow\">precprocessor: ColumnTransformer</label><div class=\"sk-toggleable__content\"><pre>ColumnTransformer(transformers=[(&#x27;num&#x27;,\n",
       "                                 Pipeline(steps=[(&#x27;scaler&#x27;,\n",
       "                                                  MinMaxScaler(feature_range=(-1,\n",
       "                                                                              1)))]),\n",
       "                                 [&#x27;AGE&#x27;, &#x27;HOSPID&#x27;, &#x27;NPR&#x27;, &#x27;NCHRONIC&#x27;,\n",
       "                                  &#x27;ZIPINC_QRTL&#x27;, &#x27;DXn&#x27;]),\n",
       "                                (&#x27;cat&#x27;,\n",
       "                                 Pipeline(steps=[(&#x27;onehot&#x27;,\n",
       "                                                  OneHotEncoder(handle_unknown=&#x27;ignore&#x27;))]),\n",
       "                                 [&#x27;RACE&#x27;, &#x27;DRG&#x27;, &#x27;PAY1&#x27;, &#x27;PAY2&#x27;, &#x27;CM_AIDS&#x27;,\n",
       "                                  &#x27;CM_ALCOHOL&#x27;, &#x27;CM_ANEMDEF&#x27;, &#x27;CM_ARTH&#x27;,\n",
       "                                  &#x27;CM_BLDLOSS&#x27;, &#x27;CM_CHF&#x27;, &#x27;CM_DRUG&#x27;, &#x27;TRAN_IN&#x27;,\n",
       "                                  &#x27;TRAN_OUT&#x27;])])</pre></div></div></div><div class=\"sk-parallel\"><div class=\"sk-parallel-item\"><div class=\"sk-item\"><div class=\"sk-label-container\"><div class=\"sk-label sk-toggleable\"><input class=\"sk-toggleable__control sk-hidden--visually\" id=\"sk-estimator-id-3\" type=\"checkbox\" ><label for=\"sk-estimator-id-3\" class=\"sk-toggleable__label sk-toggleable__label-arrow\">num</label><div class=\"sk-toggleable__content\"><pre>[&#x27;AGE&#x27;, &#x27;HOSPID&#x27;, &#x27;NPR&#x27;, &#x27;NCHRONIC&#x27;, &#x27;ZIPINC_QRTL&#x27;, &#x27;DXn&#x27;]</pre></div></div></div><div class=\"sk-serial\"><div class=\"sk-item\"><div class=\"sk-serial\"><div class=\"sk-item\"><div class=\"sk-estimator sk-toggleable\"><input class=\"sk-toggleable__control sk-hidden--visually\" id=\"sk-estimator-id-4\" type=\"checkbox\" ><label for=\"sk-estimator-id-4\" class=\"sk-toggleable__label sk-toggleable__label-arrow\">MinMaxScaler</label><div class=\"sk-toggleable__content\"><pre>MinMaxScaler(feature_range=(-1, 1))</pre></div></div></div></div></div></div></div></div><div class=\"sk-parallel-item\"><div class=\"sk-item\"><div class=\"sk-label-container\"><div class=\"sk-label sk-toggleable\"><input class=\"sk-toggleable__control sk-hidden--visually\" id=\"sk-estimator-id-5\" type=\"checkbox\" ><label for=\"sk-estimator-id-5\" class=\"sk-toggleable__label sk-toggleable__label-arrow\">cat</label><div class=\"sk-toggleable__content\"><pre>[&#x27;RACE&#x27;, &#x27;DRG&#x27;, &#x27;PAY1&#x27;, &#x27;PAY2&#x27;, &#x27;CM_AIDS&#x27;, &#x27;CM_ALCOHOL&#x27;, &#x27;CM_ANEMDEF&#x27;, &#x27;CM_ARTH&#x27;, &#x27;CM_BLDLOSS&#x27;, &#x27;CM_CHF&#x27;, &#x27;CM_DRUG&#x27;, &#x27;TRAN_IN&#x27;, &#x27;TRAN_OUT&#x27;]</pre></div></div></div><div class=\"sk-serial\"><div class=\"sk-item\"><div class=\"sk-serial\"><div class=\"sk-item\"><div class=\"sk-estimator sk-toggleable\"><input class=\"sk-toggleable__control sk-hidden--visually\" id=\"sk-estimator-id-6\" type=\"checkbox\" ><label for=\"sk-estimator-id-6\" class=\"sk-toggleable__label sk-toggleable__label-arrow\">OneHotEncoder</label><div class=\"sk-toggleable__content\"><pre>OneHotEncoder(handle_unknown=&#x27;ignore&#x27;)</pre></div></div></div></div></div></div></div></div></div></div><div class=\"sk-item\"><div class=\"sk-estimator sk-toggleable\"><input class=\"sk-toggleable__control sk-hidden--visually\" id=\"sk-estimator-id-7\" type=\"checkbox\" ><label for=\"sk-estimator-id-7\" class=\"sk-toggleable__label sk-toggleable__label-arrow\">XGBRegressor</label><div class=\"sk-toggleable__content\"><pre>XGBRegressor(base_score=None, booster=None, callbacks=None,\n",
       "             colsample_bylevel=None, colsample_bynode=None,\n",
       "             colsample_bytree=None, early_stopping_rounds=None,\n",
       "             enable_categorical=False, eval_metric=&#x27;rmsle&#x27;, feature_types=None,\n",
       "             gamma=None, gpu_id=None, grow_policy=None, importance_type=None,\n",
       "             interaction_constraints=None, learning_rate=None, max_bin=None,\n",
       "             max_cat_threshold=None, max_cat_to_onehot=None,\n",
       "             max_delta_step=None, max_depth=None, max_leaves=None,\n",
       "             min_child_weight=None, missing=nan, monotone_constraints=None,\n",
       "             n_estimators=100, n_jobs=None, num_parallel_tree=None,\n",
       "             predictor=None, random_state=None, ...)</pre></div></div></div></div></div></div></div>"
      ],
      "text/plain": [
       "Pipeline(steps=[('precprocessor',\n",
       "                 ColumnTransformer(transformers=[('num',\n",
       "                                                  Pipeline(steps=[('scaler',\n",
       "                                                                   MinMaxScaler(feature_range=(-1,\n",
       "                                                                                               1)))]),\n",
       "                                                  ['AGE', 'HOSPID', 'NPR',\n",
       "                                                   'NCHRONIC', 'ZIPINC_QRTL',\n",
       "                                                   'DXn']),\n",
       "                                                 ('cat',\n",
       "                                                  Pipeline(steps=[('onehot',\n",
       "                                                                   OneHotEncoder(handle_unknown='ignore'))]),\n",
       "                                                  ['RACE', 'DRG', 'PAY1',\n",
       "                                                   'PAY2', 'CM_AIDS',\n",
       "                                                   'CM_ALCOHOL', 'CM_ANEMDEF',\n",
       "                                                   'CM_ARTH', 'CM_BLDLOS...\n",
       "                              feature_types=None, gamma=None, gpu_id=None,\n",
       "                              grow_policy=None, importance_type=None,\n",
       "                              interaction_constraints=None, learning_rate=None,\n",
       "                              max_bin=None, max_cat_threshold=None,\n",
       "                              max_cat_to_onehot=None, max_delta_step=None,\n",
       "                              max_depth=None, max_leaves=None,\n",
       "                              min_child_weight=None, missing=nan,\n",
       "                              monotone_constraints=None, n_estimators=100,\n",
       "                              n_jobs=None, num_parallel_tree=None,\n",
       "                              predictor=None, random_state=None, ...))])"
      ]
     },
     "execution_count": 21,
     "metadata": {},
     "output_type": "execute_result"
    }
   ],
   "source": [
    "# train\n",
    "pipeline.fit(X_train,y_train)"
   ]
  },
  {
   "cell_type": "code",
   "execution_count": 22,
   "id": "a6376900",
   "metadata": {},
   "outputs": [
    {
     "data": {
      "text/plain": [
       "{'precprocessor': ColumnTransformer(transformers=[('num',\n",
       "                                  Pipeline(steps=[('scaler',\n",
       "                                                   MinMaxScaler(feature_range=(-1,\n",
       "                                                                               1)))]),\n",
       "                                  ['AGE', 'HOSPID', 'NPR', 'NCHRONIC',\n",
       "                                   'ZIPINC_QRTL', 'DXn']),\n",
       "                                 ('cat',\n",
       "                                  Pipeline(steps=[('onehot',\n",
       "                                                   OneHotEncoder(handle_unknown='ignore'))]),\n",
       "                                  ['RACE', 'DRG', 'PAY1', 'PAY2', 'CM_AIDS',\n",
       "                                   'CM_ALCOHOL', 'CM_ANEMDEF', 'CM_ARTH',\n",
       "                                   'CM_BLDLOSS', 'CM_CHF', 'CM_DRUG', 'TRAN_IN',\n",
       "                                   'TRAN_OUT'])]),\n",
       " 'xgb_regressor': XGBRegressor(base_score=None, booster=None, callbacks=None,\n",
       "              colsample_bylevel=None, colsample_bynode=None,\n",
       "              colsample_bytree=None, early_stopping_rounds=None,\n",
       "              enable_categorical=False, eval_metric='rmsle', feature_types=None,\n",
       "              gamma=None, gpu_id=None, grow_policy=None, importance_type=None,\n",
       "              interaction_constraints=None, learning_rate=None, max_bin=None,\n",
       "              max_cat_threshold=None, max_cat_to_onehot=None,\n",
       "              max_delta_step=None, max_depth=None, max_leaves=None,\n",
       "              min_child_weight=None, missing=nan, monotone_constraints=None,\n",
       "              n_estimators=100, n_jobs=None, num_parallel_tree=None,\n",
       "              predictor=None, random_state=None, ...)}"
      ]
     },
     "execution_count": 22,
     "metadata": {},
     "output_type": "execute_result"
    }
   ],
   "source": [
    "pipeline.named_steps"
   ]
  },
  {
   "cell_type": "code",
   "execution_count": 23,
   "id": "a7ec4dc3",
   "metadata": {},
   "outputs": [],
   "source": [
    "final_predictions = pipeline.predict(X_test)"
   ]
  },
  {
   "cell_type": "code",
   "execution_count": 24,
   "id": "20753534",
   "metadata": {},
   "outputs": [
    {
     "data": {
      "text/plain": [
       "array([49151.04   , 32851.95   , 72262.875  , 41210.047  , 29454.957  ,\n",
       "         618.0651 , 31176.633  ,   439.86176, 38300.977  ,  6258.466  ,\n",
       "       42524.242  ,  6791.759  , 32468.629  , 47579.14   , 31544.283  ,\n",
       "       37700.75   , 48643.38   ,   715.22815, 48460.133  ,  2709.0989 ,\n",
       "       44366.965  , 64437.223  , 30616.898  , 40548.91   , 10771.756  ,\n",
       "       41819.875  , 67439.04   ,  2017.084  , 68111.17   ,  2186.3008 ,\n",
       "       60907.086  ,  4617.1895 , 49445.223  , 39908.492  ,  2412.029  ,\n",
       "        3921.2463 , 42987.04   , 41694.09   , 59219.582  , 47584.47   ,\n",
       "        4877.9487 , 30025.846  , 38239.14   , 70641.53   , 39141.29   ,\n",
       "       70317.57   , 65602.25   ,  5778.4062 , 69063.81   , 11678.594  ,\n",
       "       41639.36   , 35784.04   , 68667.25   , 29686.951  , 41539.324  ,\n",
       "       65563.42   , 36145.086  ,  7241.5684 ,  3920.29   ,  2187.7007 ,\n",
       "       32308.848  , 43578.566  ,  3603.439  , 33620.19   , 63076.9    ,\n",
       "       37629.332  , 75115.71   , 29529.879  , 41527.812  , 12154.756  ,\n",
       "        5022.5146 , 33758.414  , 62089.062  , 40065.793  ,  6170.3823 ,\n",
       "        5907.9688 , 65872.72   , 41861.51   ,  9754.204  ,  8188.586  ,\n",
       "       50199.445  , 70881.39   , 69052.99   ,  5599.287  , 43879.598  ,\n",
       "       49542.     , 41672.53   , 49314.746  , 45288.434  , 71114.92   ,\n",
       "       39035.8    , 43042.418  , 56651.97   ,  4593.3965 ,  5498.4224 ,\n",
       "       45972.96   , 42098.52   , 69237.25   ,  5809.2134 , 70043.41   ,\n",
       "        2127.3179 , 41530.53   , 45514.477  , 42871.98   , 33270.35   ,\n",
       "        2897.9233 , 31712.416  , 42631.324  , 64227.598  , 42002.664  ,\n",
       "       33287.492  , 62870.727  , 38870.492  , 41971.367  , 64620.805  ,\n",
       "       63370.28   , 56602.     , 30285.533  , 39361.957  , 39754.08   ,\n",
       "       65546.04   , 28353.488  , 59125.605  , 33907.5    , 48507.7    ,\n",
       "       67511.54   , 22622.97   , 50112.93   , 37361.062  , 46301.574  ,\n",
       "       35892.043  ,  3070.8364 , 69060.664  , 59179.336  , 42237.023  ,\n",
       "       50522.16   , 47863.668  , 38588.273  , 55029.023  , 48917.023  ,\n",
       "       41539.16   , 70678.1    , 37649.6    , 39370.383  , 64788.9    ,\n",
       "        6141.6646 ,  8587.448  , 40809.53   , 60298.312  , 36831.76   ,\n",
       "        7643.9014 ,  1090.9581 , 41723.12   , 51248.848  , 38150.95   ,\n",
       "        6009.1113 ,  4503.0728 , 67541.63   , 30593.758  , 34692.574  ,\n",
       "       37635.62   , 61077.504  , 29646.686  , 47146.074  , 33592.4    ,\n",
       "        1918.7969 , 74128.87   , 61504.008  , 48412.445  , 67340.28   ,\n",
       "       62769.477  ,  3561.1497 , 32783.34   ,  7358.486  ,  7387.1924 ,\n",
       "       68932.28   , 33022.67   , 56309.805  , 39066.668  , 46541.223  ],\n",
       "      dtype=float32)"
      ]
     },
     "execution_count": 24,
     "metadata": {},
     "output_type": "execute_result"
    }
   ],
   "source": [
    "final_predictions"
   ]
  },
  {
   "cell_type": "code",
   "execution_count": 25,
   "id": "52bd7803",
   "metadata": {},
   "outputs": [
    {
     "data": {
      "text/plain": [
       "1606.4094090173187"
      ]
     },
     "execution_count": 25,
     "metadata": {},
     "output_type": "execute_result"
    }
   ],
   "source": [
    "xgb_rmse = mean_squared_error(y_test, final_predictions,squared=False)\n",
    "xgb_rmse"
   ]
  },
  {
   "cell_type": "code",
   "execution_count": 26,
   "id": "33338a86",
   "metadata": {},
   "outputs": [
    {
     "data": {
      "text/plain": [
       "0.994597060987101"
      ]
     },
     "execution_count": 26,
     "metadata": {},
     "output_type": "execute_result"
    }
   ],
   "source": [
    "pipeline.score(X_test, y_test)"
   ]
  },
  {
   "cell_type": "markdown",
   "id": "cb395d28",
   "metadata": {},
   "source": [
    "# Cross Validation using Pipeline"
   ]
  },
  {
   "cell_type": "code",
   "execution_count": 27,
   "id": "694d3517",
   "metadata": {},
   "outputs": [],
   "source": [
    "# no change in the error after doing cross validation "
   ]
  },
  {
   "cell_type": "markdown",
   "id": "7987841b",
   "metadata": {},
   "source": [
    "# Fine-Tune Your Model\n",
    "Grid Search"
   ]
  },
  {
   "cell_type": "markdown",
   "id": "b951e035",
   "metadata": {},
   "source": [
    "# Specify the hyperparameter space"
   ]
  },
  {
   "cell_type": "code",
   "execution_count": null,
   "id": "3ee758b6",
   "metadata": {},
   "outputs": [],
   "source": []
  },
  {
   "cell_type": "markdown",
   "id": "0afc9728",
   "metadata": {},
   "source": [
    "# Instantiate the GridSearchCV model"
   ]
  },
  {
   "cell_type": "code",
   "execution_count": null,
   "id": "aa02f4ad",
   "metadata": {},
   "outputs": [],
   "source": []
  },
  {
   "cell_type": "code",
   "execution_count": null,
   "id": "d5a36cec",
   "metadata": {},
   "outputs": [],
   "source": []
  },
  {
   "cell_type": "markdown",
   "id": "ed6498aa",
   "metadata": {},
   "source": [
    "# Print the tuned parameters\n"
   ]
  },
  {
   "cell_type": "code",
   "execution_count": null,
   "id": "3c10f48f",
   "metadata": {},
   "outputs": [],
   "source": []
  },
  {
   "cell_type": "markdown",
   "id": "b15d575f",
   "metadata": {},
   "source": [
    "# Exporting the Pipeline"
   ]
  },
  {
   "cell_type": "code",
   "execution_count": null,
   "id": "85d48926",
   "metadata": {},
   "outputs": [],
   "source": []
  },
  {
   "cell_type": "code",
   "execution_count": null,
   "id": "d7f1d130",
   "metadata": {},
   "outputs": [],
   "source": []
  }
 ],
 "metadata": {
  "kernelspec": {
   "display_name": "Python 3 (ipykernel)",
   "language": "python",
   "name": "python3"
  },
  "language_info": {
   "codemirror_mode": {
    "name": "ipython",
    "version": 3
   },
   "file_extension": ".py",
   "mimetype": "text/x-python",
   "name": "python",
   "nbconvert_exporter": "python",
   "pygments_lexer": "ipython3",
   "version": "3.9.13"
  }
 },
 "nbformat": 4,
 "nbformat_minor": 5
}
