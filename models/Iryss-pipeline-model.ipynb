{
 "cells": [
  {
   "cell_type": "code",
   "execution_count": 2,
   "id": "0d9943f8",
   "metadata": {},
   "outputs": [],
   "source": [
    "import numpy as np\n",
    "import pandas as pd\n",
    "\n",
    "pd.set_option('display.max_columns',None)\n"
   ]
  },
  {
   "cell_type": "code",
   "execution_count": 3,
   "id": "df69883b",
   "metadata": {},
   "outputs": [],
   "source": [
    "from sklearn.model_selection import train_test_split\n",
    "from sklearn.compose import ColumnTransformer\n",
    "from sklearn.impute import SimpleImputer\n",
    "from sklearn.preprocessing import StandardScaler,OneHotEncoder\n",
    "from sklearn.preprocessing import MinMaxScaler\n",
    "from sklearn.pipeline import Pipeline,make_pipeline\n",
    "from sklearn.feature_selection import SelectKBest,chi2\n",
    "from sklearn.metrics import mean_squared_error\n",
    "from sklearn.ensemble import RandomForestRegressor\n",
    "from sklearn.tree  import DecisionTreeRegressor"
   ]
  },
  {
   "cell_type": "code",
   "execution_count": 4,
   "id": "ca201ccd",
   "metadata": {},
   "outputs": [
    {
     "name": "stdout",
     "output_type": "stream",
     "text": [
      "1.3.0\n"
     ]
    }
   ],
   "source": [
    "import sklearn\n",
    "print(sklearn.__version__)"
   ]
  },
  {
   "cell_type": "code",
   "execution_count": 5,
   "id": "c53e16cc",
   "metadata": {},
   "outputs": [],
   "source": [
    "df = pd.read_csv('iryss-data.csv')"
   ]
  },
  {
   "cell_type": "code",
   "execution_count": 6,
   "id": "eab70695",
   "metadata": {},
   "outputs": [
    {
     "data": {
      "text/html": [
       "<div>\n",
       "<style scoped>\n",
       "    .dataframe tbody tr th:only-of-type {\n",
       "        vertical-align: middle;\n",
       "    }\n",
       "\n",
       "    .dataframe tbody tr th {\n",
       "        vertical-align: top;\n",
       "    }\n",
       "\n",
       "    .dataframe thead th {\n",
       "        text-align: right;\n",
       "    }\n",
       "</style>\n",
       "<table border=\"1\" class=\"dataframe\">\n",
       "  <thead>\n",
       "    <tr style=\"text-align: right;\">\n",
       "      <th></th>\n",
       "      <th>AGE</th>\n",
       "      <th>SEX</th>\n",
       "      <th>RACE</th>\n",
       "      <th>HOSPID</th>\n",
       "      <th>DRG</th>\n",
       "      <th>NPR</th>\n",
       "      <th>NCHRONIC</th>\n",
       "      <th>ZIPINC_QRTL</th>\n",
       "      <th>PAY1</th>\n",
       "      <th>PAY2</th>\n",
       "      <th>CM_AIDS</th>\n",
       "      <th>CM_ALCOHOL</th>\n",
       "      <th>CM_ANEMDEF</th>\n",
       "      <th>CM_ARTH</th>\n",
       "      <th>CM_BLDLOSS</th>\n",
       "      <th>CM_CHF</th>\n",
       "      <th>CM_DRUG</th>\n",
       "      <th>DXn</th>\n",
       "      <th>TRAN_IN</th>\n",
       "      <th>TRAN_OUT</th>\n",
       "      <th>TOTCHG</th>\n",
       "    </tr>\n",
       "  </thead>\n",
       "  <tbody>\n",
       "    <tr>\n",
       "      <th>0</th>\n",
       "      <td>56</td>\n",
       "      <td>Other</td>\n",
       "      <td>Black</td>\n",
       "      <td>2</td>\n",
       "      <td>ICD-10-CM</td>\n",
       "      <td>1365516690</td>\n",
       "      <td>1</td>\n",
       "      <td>3</td>\n",
       "      <td>Medicare</td>\n",
       "      <td>None</td>\n",
       "      <td>no</td>\n",
       "      <td>no</td>\n",
       "      <td>no</td>\n",
       "      <td>no</td>\n",
       "      <td>no</td>\n",
       "      <td>yes</td>\n",
       "      <td>current</td>\n",
       "      <td>3</td>\n",
       "      <td>Transferred from acute care hospital</td>\n",
       "      <td>Not a transfer</td>\n",
       "      <td>43000.0</td>\n",
       "    </tr>\n",
       "    <tr>\n",
       "      <th>1</th>\n",
       "      <td>19</td>\n",
       "      <td>Male</td>\n",
       "      <td>Other</td>\n",
       "      <td>9</td>\n",
       "      <td>ICD-10-CM</td>\n",
       "      <td>6951096330</td>\n",
       "      <td>1</td>\n",
       "      <td>2</td>\n",
       "      <td>Medicaid</td>\n",
       "      <td>COBRA Coverage</td>\n",
       "      <td>no</td>\n",
       "      <td>yes</td>\n",
       "      <td>no</td>\n",
       "      <td>no</td>\n",
       "      <td>no</td>\n",
       "      <td>yes</td>\n",
       "      <td>current</td>\n",
       "      <td>4</td>\n",
       "      <td>Not a transfer</td>\n",
       "      <td>Not a transfer</td>\n",
       "      <td>47500.0</td>\n",
       "    </tr>\n",
       "    <tr>\n",
       "      <th>2</th>\n",
       "      <td>76</td>\n",
       "      <td>Male</td>\n",
       "      <td>White</td>\n",
       "      <td>3</td>\n",
       "      <td>ICD-10-CM/PCS</td>\n",
       "      <td>5600059825</td>\n",
       "      <td>1</td>\n",
       "      <td>2</td>\n",
       "      <td>Medicare</td>\n",
       "      <td>None</td>\n",
       "      <td>no</td>\n",
       "      <td>no</td>\n",
       "      <td>no</td>\n",
       "      <td>no</td>\n",
       "      <td>no</td>\n",
       "      <td>no</td>\n",
       "      <td>current</td>\n",
       "      <td>4</td>\n",
       "      <td>Transferred from another health facility</td>\n",
       "      <td>Not a transfer</td>\n",
       "      <td>3000.0</td>\n",
       "    </tr>\n",
       "    <tr>\n",
       "      <th>3</th>\n",
       "      <td>65</td>\n",
       "      <td>Male</td>\n",
       "      <td>Hispanic</td>\n",
       "      <td>2</td>\n",
       "      <td>ICD-9-CM</td>\n",
       "      <td>6280085793</td>\n",
       "      <td>2</td>\n",
       "      <td>3</td>\n",
       "      <td>Medicare</td>\n",
       "      <td>Secondary Health Insurance</td>\n",
       "      <td>no</td>\n",
       "      <td>no</td>\n",
       "      <td>no</td>\n",
       "      <td>no</td>\n",
       "      <td>no</td>\n",
       "      <td>yes</td>\n",
       "      <td>current</td>\n",
       "      <td>4</td>\n",
       "      <td>Not a transfer</td>\n",
       "      <td>Transferred out to acute are hospital</td>\n",
       "      <td>31000.0</td>\n",
       "    </tr>\n",
       "    <tr>\n",
       "      <th>4</th>\n",
       "      <td>25</td>\n",
       "      <td>Female</td>\n",
       "      <td>Native American</td>\n",
       "      <td>9</td>\n",
       "      <td>ICD-10-CM</td>\n",
       "      <td>6448432997</td>\n",
       "      <td>2</td>\n",
       "      <td>3</td>\n",
       "      <td>Medicare</td>\n",
       "      <td>Secondary Health Insurance</td>\n",
       "      <td>no</td>\n",
       "      <td>no</td>\n",
       "      <td>no</td>\n",
       "      <td>no</td>\n",
       "      <td>yes</td>\n",
       "      <td>yes</td>\n",
       "      <td>current</td>\n",
       "      <td>4</td>\n",
       "      <td>Not a transfer</td>\n",
       "      <td>Not a transfer</td>\n",
       "      <td>46000.0</td>\n",
       "    </tr>\n",
       "  </tbody>\n",
       "</table>\n",
       "</div>"
      ],
      "text/plain": [
       "   AGE     SEX             RACE  HOSPID            DRG         NPR  NCHRONIC  \\\n",
       "0   56   Other            Black       2      ICD-10-CM  1365516690         1   \n",
       "1   19    Male            Other       9      ICD-10-CM  6951096330         1   \n",
       "2   76    Male            White       3  ICD-10-CM/PCS  5600059825         1   \n",
       "3   65    Male         Hispanic       2       ICD-9-CM  6280085793         2   \n",
       "4   25  Female  Native American       9      ICD-10-CM  6448432997         2   \n",
       "\n",
       "   ZIPINC_QRTL      PAY1                        PAY2 CM_AIDS CM_ALCOHOL  \\\n",
       "0            3  Medicare                        None      no         no   \n",
       "1            2  Medicaid              COBRA Coverage      no        yes   \n",
       "2            2  Medicare                        None      no         no   \n",
       "3            3  Medicare  Secondary Health Insurance      no         no   \n",
       "4            3  Medicare  Secondary Health Insurance      no         no   \n",
       "\n",
       "  CM_ANEMDEF CM_ARTH CM_BLDLOSS CM_CHF  CM_DRUG  DXn  \\\n",
       "0         no      no         no    yes  current    3   \n",
       "1         no      no         no    yes  current    4   \n",
       "2         no      no         no     no  current    4   \n",
       "3         no      no         no    yes  current    4   \n",
       "4         no      no        yes    yes  current    4   \n",
       "\n",
       "                                    TRAN_IN  \\\n",
       "0      Transferred from acute care hospital   \n",
       "1                            Not a transfer   \n",
       "2  Transferred from another health facility   \n",
       "3                            Not a transfer   \n",
       "4                            Not a transfer   \n",
       "\n",
       "                                TRAN_OUT   TOTCHG  \n",
       "0                         Not a transfer  43000.0  \n",
       "1                         Not a transfer  47500.0  \n",
       "2                         Not a transfer   3000.0  \n",
       "3  Transferred out to acute are hospital  31000.0  \n",
       "4                         Not a transfer  46000.0  "
      ]
     },
     "execution_count": 6,
     "metadata": {},
     "output_type": "execute_result"
    }
   ],
   "source": [
    "df.head()"
   ]
  },
  {
   "cell_type": "code",
   "execution_count": 7,
   "id": "64166c50",
   "metadata": {},
   "outputs": [
    {
     "name": "stdout",
     "output_type": "stream",
     "text": [
      "<class 'pandas.core.frame.DataFrame'>\n",
      "RangeIndex: 898 entries, 0 to 897\n",
      "Data columns (total 21 columns):\n",
      " #   Column       Non-Null Count  Dtype  \n",
      "---  ------       --------------  -----  \n",
      " 0   AGE          898 non-null    int64  \n",
      " 1   SEX          898 non-null    object \n",
      " 2   RACE         898 non-null    object \n",
      " 3   HOSPID       898 non-null    int64  \n",
      " 4   DRG          898 non-null    object \n",
      " 5   NPR          898 non-null    int64  \n",
      " 6   NCHRONIC     898 non-null    int64  \n",
      " 7   ZIPINC_QRTL  898 non-null    int64  \n",
      " 8   PAY1         898 non-null    object \n",
      " 9   PAY2         898 non-null    object \n",
      " 10  CM_AIDS      898 non-null    object \n",
      " 11  CM_ALCOHOL   898 non-null    object \n",
      " 12  CM_ANEMDEF   898 non-null    object \n",
      " 13  CM_ARTH      898 non-null    object \n",
      " 14  CM_BLDLOSS   898 non-null    object \n",
      " 15  CM_CHF       898 non-null    object \n",
      " 16  CM_DRUG      898 non-null    object \n",
      " 17  DXn          898 non-null    int64  \n",
      " 18  TRAN_IN      898 non-null    object \n",
      " 19  TRAN_OUT     897 non-null    object \n",
      " 20  TOTCHG       897 non-null    float64\n",
      "dtypes: float64(1), int64(6), object(14)\n",
      "memory usage: 147.5+ KB\n"
     ]
    }
   ],
   "source": [
    "df.info()"
   ]
  },
  {
   "cell_type": "code",
   "execution_count": 8,
   "id": "09eac107",
   "metadata": {},
   "outputs": [
    {
     "data": {
      "text/plain": [
       "AGE            0\n",
       "SEX            0\n",
       "RACE           0\n",
       "HOSPID         0\n",
       "DRG            0\n",
       "NPR            0\n",
       "NCHRONIC       0\n",
       "ZIPINC_QRTL    0\n",
       "PAY1           0\n",
       "PAY2           0\n",
       "CM_AIDS        0\n",
       "CM_ALCOHOL     0\n",
       "CM_ANEMDEF     0\n",
       "CM_ARTH        0\n",
       "CM_BLDLOSS     0\n",
       "CM_CHF         0\n",
       "CM_DRUG        0\n",
       "DXn            0\n",
       "TRAN_IN        0\n",
       "TRAN_OUT       1\n",
       "TOTCHG         1\n",
       "dtype: int64"
      ]
     },
     "execution_count": 8,
     "metadata": {},
     "output_type": "execute_result"
    }
   ],
   "source": [
    "df.isnull().sum()"
   ]
  },
  {
   "cell_type": "code",
   "execution_count": 9,
   "id": "861730b9",
   "metadata": {},
   "outputs": [],
   "source": [
    "df.dropna(subset=['TRAN_OUT','TOTCHG'],inplace=True)"
   ]
  },
  {
   "cell_type": "code",
   "execution_count": 10,
   "id": "ee7377b0",
   "metadata": {},
   "outputs": [
    {
     "data": {
      "text/plain": [
       "AGE            0\n",
       "SEX            0\n",
       "RACE           0\n",
       "HOSPID         0\n",
       "DRG            0\n",
       "NPR            0\n",
       "NCHRONIC       0\n",
       "ZIPINC_QRTL    0\n",
       "PAY1           0\n",
       "PAY2           0\n",
       "CM_AIDS        0\n",
       "CM_ALCOHOL     0\n",
       "CM_ANEMDEF     0\n",
       "CM_ARTH        0\n",
       "CM_BLDLOSS     0\n",
       "CM_CHF         0\n",
       "CM_DRUG        0\n",
       "DXn            0\n",
       "TRAN_IN        0\n",
       "TRAN_OUT       0\n",
       "TOTCHG         0\n",
       "dtype: int64"
      ]
     },
     "execution_count": 10,
     "metadata": {},
     "output_type": "execute_result"
    }
   ],
   "source": [
    "df.isnull().sum()"
   ]
  },
  {
   "cell_type": "code",
   "execution_count": 11,
   "id": "71ec838c",
   "metadata": {},
   "outputs": [],
   "source": [
    "#Step-1\n",
    "X_train,X_test,y_train,y_test = train_test_split(df.drop(columns=['TOTCHG']),df['TOTCHG'],test_size=0.2,random_state=42)"
   ]
  },
  {
   "cell_type": "code",
   "execution_count": 12,
   "id": "e67f6187",
   "metadata": {},
   "outputs": [
    {
     "data": {
      "text/html": [
       "<div>\n",
       "<style scoped>\n",
       "    .dataframe tbody tr th:only-of-type {\n",
       "        vertical-align: middle;\n",
       "    }\n",
       "\n",
       "    .dataframe tbody tr th {\n",
       "        vertical-align: top;\n",
       "    }\n",
       "\n",
       "    .dataframe thead th {\n",
       "        text-align: right;\n",
       "    }\n",
       "</style>\n",
       "<table border=\"1\" class=\"dataframe\">\n",
       "  <thead>\n",
       "    <tr style=\"text-align: right;\">\n",
       "      <th></th>\n",
       "      <th>AGE</th>\n",
       "      <th>SEX</th>\n",
       "      <th>RACE</th>\n",
       "      <th>HOSPID</th>\n",
       "      <th>DRG</th>\n",
       "      <th>NPR</th>\n",
       "      <th>NCHRONIC</th>\n",
       "      <th>ZIPINC_QRTL</th>\n",
       "      <th>PAY1</th>\n",
       "      <th>PAY2</th>\n",
       "      <th>CM_AIDS</th>\n",
       "      <th>CM_ALCOHOL</th>\n",
       "      <th>CM_ANEMDEF</th>\n",
       "      <th>CM_ARTH</th>\n",
       "      <th>CM_BLDLOSS</th>\n",
       "      <th>CM_CHF</th>\n",
       "      <th>CM_DRUG</th>\n",
       "      <th>DXn</th>\n",
       "      <th>TRAN_IN</th>\n",
       "      <th>TRAN_OUT</th>\n",
       "    </tr>\n",
       "  </thead>\n",
       "  <tbody>\n",
       "    <tr>\n",
       "      <th>870</th>\n",
       "      <td>27</td>\n",
       "      <td>Male</td>\n",
       "      <td>Other</td>\n",
       "      <td>7</td>\n",
       "      <td>ICD-10-CM</td>\n",
       "      <td>8738844579</td>\n",
       "      <td>2</td>\n",
       "      <td>3</td>\n",
       "      <td>Medicare</td>\n",
       "      <td>Employer-Sponsored Plans</td>\n",
       "      <td>no</td>\n",
       "      <td>no</td>\n",
       "      <td>no</td>\n",
       "      <td>no</td>\n",
       "      <td>yes</td>\n",
       "      <td>no</td>\n",
       "      <td>current</td>\n",
       "      <td>4</td>\n",
       "      <td>Transferred from another health facility</td>\n",
       "      <td>Transferred out to acute are hospital</td>\n",
       "    </tr>\n",
       "    <tr>\n",
       "      <th>740</th>\n",
       "      <td>43</td>\n",
       "      <td>Male</td>\n",
       "      <td>Black</td>\n",
       "      <td>4</td>\n",
       "      <td>ICD-10-CM/PCS</td>\n",
       "      <td>1884677531</td>\n",
       "      <td>1</td>\n",
       "      <td>2</td>\n",
       "      <td>Medicaid</td>\n",
       "      <td>None</td>\n",
       "      <td>no</td>\n",
       "      <td>no</td>\n",
       "      <td>no</td>\n",
       "      <td>no</td>\n",
       "      <td>no</td>\n",
       "      <td>yes</td>\n",
       "      <td>current</td>\n",
       "      <td>3</td>\n",
       "      <td>Transferred from another health facility</td>\n",
       "      <td>Transferred out to another health facility</td>\n",
       "    </tr>\n",
       "    <tr>\n",
       "      <th>231</th>\n",
       "      <td>28</td>\n",
       "      <td>Male</td>\n",
       "      <td>Other</td>\n",
       "      <td>7</td>\n",
       "      <td>ICD-10-PCS</td>\n",
       "      <td>3456703593</td>\n",
       "      <td>1</td>\n",
       "      <td>2</td>\n",
       "      <td>Medicaid</td>\n",
       "      <td>Secondary Health Insurance</td>\n",
       "      <td>no</td>\n",
       "      <td>no</td>\n",
       "      <td>no</td>\n",
       "      <td>no</td>\n",
       "      <td>yes</td>\n",
       "      <td>no</td>\n",
       "      <td>former</td>\n",
       "      <td>4</td>\n",
       "      <td>Transferred from another health facility</td>\n",
       "      <td>Transferred out to acute are hospital</td>\n",
       "    </tr>\n",
       "    <tr>\n",
       "      <th>388</th>\n",
       "      <td>66</td>\n",
       "      <td>Female</td>\n",
       "      <td>Black</td>\n",
       "      <td>1</td>\n",
       "      <td>ICD-10-CM</td>\n",
       "      <td>5389740698</td>\n",
       "      <td>1</td>\n",
       "      <td>1</td>\n",
       "      <td>Medicare</td>\n",
       "      <td>Employer-Sponsored Plans</td>\n",
       "      <td>yes</td>\n",
       "      <td>no</td>\n",
       "      <td>no</td>\n",
       "      <td>no</td>\n",
       "      <td>no</td>\n",
       "      <td>yes</td>\n",
       "      <td>current</td>\n",
       "      <td>4</td>\n",
       "      <td>Not a transfer</td>\n",
       "      <td>Transferred out to acute are hospital</td>\n",
       "    </tr>\n",
       "    <tr>\n",
       "      <th>118</th>\n",
       "      <td>56</td>\n",
       "      <td>Other</td>\n",
       "      <td>White</td>\n",
       "      <td>7</td>\n",
       "      <td>ICD-9-CM</td>\n",
       "      <td>4526086619</td>\n",
       "      <td>1</td>\n",
       "      <td>2</td>\n",
       "      <td>Medicaid</td>\n",
       "      <td>Secondary Health Insurance</td>\n",
       "      <td>no</td>\n",
       "      <td>yes</td>\n",
       "      <td>no</td>\n",
       "      <td>no</td>\n",
       "      <td>no</td>\n",
       "      <td>no</td>\n",
       "      <td>never</td>\n",
       "      <td>4</td>\n",
       "      <td>Transferred from acute care hospital</td>\n",
       "      <td>Not a transfer</td>\n",
       "    </tr>\n",
       "  </tbody>\n",
       "</table>\n",
       "</div>"
      ],
      "text/plain": [
       "     AGE     SEX   RACE  HOSPID            DRG         NPR  NCHRONIC  \\\n",
       "870   27    Male  Other       7      ICD-10-CM  8738844579         2   \n",
       "740   43    Male  Black       4  ICD-10-CM/PCS  1884677531         1   \n",
       "231   28    Male  Other       7     ICD-10-PCS  3456703593         1   \n",
       "388   66  Female  Black       1      ICD-10-CM  5389740698         1   \n",
       "118   56   Other  White       7       ICD-9-CM  4526086619         1   \n",
       "\n",
       "     ZIPINC_QRTL      PAY1                        PAY2 CM_AIDS CM_ALCOHOL  \\\n",
       "870            3  Medicare    Employer-Sponsored Plans      no         no   \n",
       "740            2  Medicaid                        None      no         no   \n",
       "231            2  Medicaid  Secondary Health Insurance      no         no   \n",
       "388            1  Medicare    Employer-Sponsored Plans     yes         no   \n",
       "118            2  Medicaid  Secondary Health Insurance      no        yes   \n",
       "\n",
       "    CM_ANEMDEF CM_ARTH CM_BLDLOSS CM_CHF  CM_DRUG  DXn  \\\n",
       "870         no      no        yes     no  current    4   \n",
       "740         no      no         no    yes  current    3   \n",
       "231         no      no        yes     no   former    4   \n",
       "388         no      no         no    yes  current    4   \n",
       "118         no      no         no     no    never    4   \n",
       "\n",
       "                                      TRAN_IN  \\\n",
       "870  Transferred from another health facility   \n",
       "740  Transferred from another health facility   \n",
       "231  Transferred from another health facility   \n",
       "388                            Not a transfer   \n",
       "118      Transferred from acute care hospital   \n",
       "\n",
       "                                       TRAN_OUT  \n",
       "870       Transferred out to acute are hospital  \n",
       "740  Transferred out to another health facility  \n",
       "231       Transferred out to acute are hospital  \n",
       "388       Transferred out to acute are hospital  \n",
       "118                              Not a transfer  "
      ]
     },
     "execution_count": 12,
     "metadata": {},
     "output_type": "execute_result"
    }
   ],
   "source": [
    "X_train.head()"
   ]
  },
  {
   "cell_type": "code",
   "execution_count": 13,
   "id": "c3390203",
   "metadata": {},
   "outputs": [
    {
     "data": {
      "text/plain": [
       "468    41500.0\n",
       "301     4000.0\n",
       "453    71000.0\n",
       "410    33000.0\n",
       "631    42000.0\n",
       "Name: TOTCHG, dtype: float64"
      ]
     },
     "execution_count": 13,
     "metadata": {},
     "output_type": "execute_result"
    }
   ],
   "source": [
    "y_train.sample(5)"
   ]
  },
  {
   "cell_type": "code",
   "execution_count": 14,
   "id": "b425db7c",
   "metadata": {},
   "outputs": [],
   "source": [
    "numeric_features = ['AGE', 'HOSPID','NPR','NCHRONIC','ZIPINC_QRTL','DXn'] \n",
    "categorical_features = ['RACE','DRG','PAY1','PAY2','CM_AIDS','CM_ALCOHOL','CM_ANEMDEF','CM_ARTH','CM_BLDLOSS','CM_CHF','CM_DRUG','TRAN_IN','TRAN_OUT']"
   ]
  },
  {
   "cell_type": "code",
   "execution_count": 15,
   "id": "4ca95ae8",
   "metadata": {},
   "outputs": [],
   "source": [
    "numeric_transformer = Pipeline(steps=[('scaler', MinMaxScaler(feature_range=(-1, 1)))])"
   ]
  },
  {
   "cell_type": "code",
   "execution_count": 16,
   "id": "808bab1e",
   "metadata": {},
   "outputs": [],
   "source": [
    "categorical_transformer = Pipeline(steps=[\n",
    "    ('onehot', OneHotEncoder(sparse_output=True, handle_unknown='ignore'))])"
   ]
  },
  {
   "cell_type": "code",
   "execution_count": 17,
   "id": "ffb5a829",
   "metadata": {},
   "outputs": [],
   "source": [
    "preprocessor = ColumnTransformer(\n",
    "    transformers=[\n",
    "        ('num', numeric_transformer, numeric_features),\n",
    "        ('cat', categorical_transformer, categorical_features)\n",
    "    ])"
   ]
  },
  {
   "cell_type": "code",
   "execution_count": 18,
   "id": "50db4835",
   "metadata": {},
   "outputs": [],
   "source": [
    "#Feature Selection\n",
    "#feature_selection = SelectKBest(score_func=chi2,k=8)"
   ]
  },
  {
   "cell_type": "code",
   "execution_count": 19,
   "id": "6b4dea3d",
   "metadata": {},
   "outputs": [],
   "source": [
    "# train the model\n",
    "random_forest = RandomForestRegressor(random_state=42)\n",
    "#DecisionTreeRegressor(random_state=42)"
   ]
  },
  {
   "cell_type": "markdown",
   "id": "a2413031",
   "metadata": {},
   "source": [
    "# Create Pipeline"
   ]
  },
  {
   "cell_type": "code",
   "execution_count": 20,
   "id": "bacd41d2",
   "metadata": {},
   "outputs": [],
   "source": [
    "from sklearn import set_config\n",
    "set_config(display='diagram')"
   ]
  },
  {
   "cell_type": "code",
   "execution_count": 21,
   "id": "e1d5a815",
   "metadata": {},
   "outputs": [],
   "source": [
    "model = Pipeline(steps=[\n",
    "    ('precprocessor', preprocessor),\n",
    "   # ('feature_selection',feature_selection),\n",
    "    ('random_forest', random_forest)\n",
    "])"
   ]
  },
  {
   "cell_type": "code",
   "execution_count": 22,
   "id": "e3702138",
   "metadata": {},
   "outputs": [
    {
     "data": {
      "text/html": [
       "<style>#sk-container-id-1 {color: black;}#sk-container-id-1 pre{padding: 0;}#sk-container-id-1 div.sk-toggleable {background-color: white;}#sk-container-id-1 label.sk-toggleable__label {cursor: pointer;display: block;width: 100%;margin-bottom: 0;padding: 0.3em;box-sizing: border-box;text-align: center;}#sk-container-id-1 label.sk-toggleable__label-arrow:before {content: \"▸\";float: left;margin-right: 0.25em;color: #696969;}#sk-container-id-1 label.sk-toggleable__label-arrow:hover:before {color: black;}#sk-container-id-1 div.sk-estimator:hover label.sk-toggleable__label-arrow:before {color: black;}#sk-container-id-1 div.sk-toggleable__content {max-height: 0;max-width: 0;overflow: hidden;text-align: left;background-color: #f0f8ff;}#sk-container-id-1 div.sk-toggleable__content pre {margin: 0.2em;color: black;border-radius: 0.25em;background-color: #f0f8ff;}#sk-container-id-1 input.sk-toggleable__control:checked~div.sk-toggleable__content {max-height: 200px;max-width: 100%;overflow: auto;}#sk-container-id-1 input.sk-toggleable__control:checked~label.sk-toggleable__label-arrow:before {content: \"▾\";}#sk-container-id-1 div.sk-estimator input.sk-toggleable__control:checked~label.sk-toggleable__label {background-color: #d4ebff;}#sk-container-id-1 div.sk-label input.sk-toggleable__control:checked~label.sk-toggleable__label {background-color: #d4ebff;}#sk-container-id-1 input.sk-hidden--visually {border: 0;clip: rect(1px 1px 1px 1px);clip: rect(1px, 1px, 1px, 1px);height: 1px;margin: -1px;overflow: hidden;padding: 0;position: absolute;width: 1px;}#sk-container-id-1 div.sk-estimator {font-family: monospace;background-color: #f0f8ff;border: 1px dotted black;border-radius: 0.25em;box-sizing: border-box;margin-bottom: 0.5em;}#sk-container-id-1 div.sk-estimator:hover {background-color: #d4ebff;}#sk-container-id-1 div.sk-parallel-item::after {content: \"\";width: 100%;border-bottom: 1px solid gray;flex-grow: 1;}#sk-container-id-1 div.sk-label:hover label.sk-toggleable__label {background-color: #d4ebff;}#sk-container-id-1 div.sk-serial::before {content: \"\";position: absolute;border-left: 1px solid gray;box-sizing: border-box;top: 0;bottom: 0;left: 50%;z-index: 0;}#sk-container-id-1 div.sk-serial {display: flex;flex-direction: column;align-items: center;background-color: white;padding-right: 0.2em;padding-left: 0.2em;position: relative;}#sk-container-id-1 div.sk-item {position: relative;z-index: 1;}#sk-container-id-1 div.sk-parallel {display: flex;align-items: stretch;justify-content: center;background-color: white;position: relative;}#sk-container-id-1 div.sk-item::before, #sk-container-id-1 div.sk-parallel-item::before {content: \"\";position: absolute;border-left: 1px solid gray;box-sizing: border-box;top: 0;bottom: 0;left: 50%;z-index: -1;}#sk-container-id-1 div.sk-parallel-item {display: flex;flex-direction: column;z-index: 1;position: relative;background-color: white;}#sk-container-id-1 div.sk-parallel-item:first-child::after {align-self: flex-end;width: 50%;}#sk-container-id-1 div.sk-parallel-item:last-child::after {align-self: flex-start;width: 50%;}#sk-container-id-1 div.sk-parallel-item:only-child::after {width: 0;}#sk-container-id-1 div.sk-dashed-wrapped {border: 1px dashed gray;margin: 0 0.4em 0.5em 0.4em;box-sizing: border-box;padding-bottom: 0.4em;background-color: white;}#sk-container-id-1 div.sk-label label {font-family: monospace;font-weight: bold;display: inline-block;line-height: 1.2em;}#sk-container-id-1 div.sk-label-container {text-align: center;}#sk-container-id-1 div.sk-container {/* jupyter's `normalize.less` sets `[hidden] { display: none; }` but bootstrap.min.css set `[hidden] { display: none !important; }` so we also need the `!important` here to be able to override the default hidden behavior on the sphinx rendered scikit-learn.org. See: https://github.com/scikit-learn/scikit-learn/issues/21755 */display: inline-block !important;position: relative;}#sk-container-id-1 div.sk-text-repr-fallback {display: none;}</style><div id=\"sk-container-id-1\" class=\"sk-top-container\"><div class=\"sk-text-repr-fallback\"><pre>Pipeline(steps=[(&#x27;precprocessor&#x27;,\n",
       "                 ColumnTransformer(transformers=[(&#x27;num&#x27;,\n",
       "                                                  Pipeline(steps=[(&#x27;scaler&#x27;,\n",
       "                                                                   MinMaxScaler(feature_range=(-1,\n",
       "                                                                                               1)))]),\n",
       "                                                  [&#x27;AGE&#x27;, &#x27;HOSPID&#x27;, &#x27;NPR&#x27;,\n",
       "                                                   &#x27;NCHRONIC&#x27;, &#x27;ZIPINC_QRTL&#x27;,\n",
       "                                                   &#x27;DXn&#x27;]),\n",
       "                                                 (&#x27;cat&#x27;,\n",
       "                                                  Pipeline(steps=[(&#x27;onehot&#x27;,\n",
       "                                                                   OneHotEncoder(handle_unknown=&#x27;ignore&#x27;))]),\n",
       "                                                  [&#x27;RACE&#x27;, &#x27;DRG&#x27;, &#x27;PAY1&#x27;,\n",
       "                                                   &#x27;PAY2&#x27;, &#x27;CM_AIDS&#x27;,\n",
       "                                                   &#x27;CM_ALCOHOL&#x27;, &#x27;CM_ANEMDEF&#x27;,\n",
       "                                                   &#x27;CM_ARTH&#x27;, &#x27;CM_BLDLOSS&#x27;,\n",
       "                                                   &#x27;CM_CHF&#x27;, &#x27;CM_DRUG&#x27;,\n",
       "                                                   &#x27;TRAN_IN&#x27;, &#x27;TRAN_OUT&#x27;])])),\n",
       "                (&#x27;random_forest&#x27;, RandomForestRegressor(random_state=42))])</pre><b>In a Jupyter environment, please rerun this cell to show the HTML representation or trust the notebook. <br />On GitHub, the HTML representation is unable to render, please try loading this page with nbviewer.org.</b></div><div class=\"sk-container\" hidden><div class=\"sk-item sk-dashed-wrapped\"><div class=\"sk-label-container\"><div class=\"sk-label sk-toggleable\"><input class=\"sk-toggleable__control sk-hidden--visually\" id=\"sk-estimator-id-1\" type=\"checkbox\" ><label for=\"sk-estimator-id-1\" class=\"sk-toggleable__label sk-toggleable__label-arrow\">Pipeline</label><div class=\"sk-toggleable__content\"><pre>Pipeline(steps=[(&#x27;precprocessor&#x27;,\n",
       "                 ColumnTransformer(transformers=[(&#x27;num&#x27;,\n",
       "                                                  Pipeline(steps=[(&#x27;scaler&#x27;,\n",
       "                                                                   MinMaxScaler(feature_range=(-1,\n",
       "                                                                                               1)))]),\n",
       "                                                  [&#x27;AGE&#x27;, &#x27;HOSPID&#x27;, &#x27;NPR&#x27;,\n",
       "                                                   &#x27;NCHRONIC&#x27;, &#x27;ZIPINC_QRTL&#x27;,\n",
       "                                                   &#x27;DXn&#x27;]),\n",
       "                                                 (&#x27;cat&#x27;,\n",
       "                                                  Pipeline(steps=[(&#x27;onehot&#x27;,\n",
       "                                                                   OneHotEncoder(handle_unknown=&#x27;ignore&#x27;))]),\n",
       "                                                  [&#x27;RACE&#x27;, &#x27;DRG&#x27;, &#x27;PAY1&#x27;,\n",
       "                                                   &#x27;PAY2&#x27;, &#x27;CM_AIDS&#x27;,\n",
       "                                                   &#x27;CM_ALCOHOL&#x27;, &#x27;CM_ANEMDEF&#x27;,\n",
       "                                                   &#x27;CM_ARTH&#x27;, &#x27;CM_BLDLOSS&#x27;,\n",
       "                                                   &#x27;CM_CHF&#x27;, &#x27;CM_DRUG&#x27;,\n",
       "                                                   &#x27;TRAN_IN&#x27;, &#x27;TRAN_OUT&#x27;])])),\n",
       "                (&#x27;random_forest&#x27;, RandomForestRegressor(random_state=42))])</pre></div></div></div><div class=\"sk-serial\"><div class=\"sk-item sk-dashed-wrapped\"><div class=\"sk-label-container\"><div class=\"sk-label sk-toggleable\"><input class=\"sk-toggleable__control sk-hidden--visually\" id=\"sk-estimator-id-2\" type=\"checkbox\" ><label for=\"sk-estimator-id-2\" class=\"sk-toggleable__label sk-toggleable__label-arrow\">precprocessor: ColumnTransformer</label><div class=\"sk-toggleable__content\"><pre>ColumnTransformer(transformers=[(&#x27;num&#x27;,\n",
       "                                 Pipeline(steps=[(&#x27;scaler&#x27;,\n",
       "                                                  MinMaxScaler(feature_range=(-1,\n",
       "                                                                              1)))]),\n",
       "                                 [&#x27;AGE&#x27;, &#x27;HOSPID&#x27;, &#x27;NPR&#x27;, &#x27;NCHRONIC&#x27;,\n",
       "                                  &#x27;ZIPINC_QRTL&#x27;, &#x27;DXn&#x27;]),\n",
       "                                (&#x27;cat&#x27;,\n",
       "                                 Pipeline(steps=[(&#x27;onehot&#x27;,\n",
       "                                                  OneHotEncoder(handle_unknown=&#x27;ignore&#x27;))]),\n",
       "                                 [&#x27;RACE&#x27;, &#x27;DRG&#x27;, &#x27;PAY1&#x27;, &#x27;PAY2&#x27;, &#x27;CM_AIDS&#x27;,\n",
       "                                  &#x27;CM_ALCOHOL&#x27;, &#x27;CM_ANEMDEF&#x27;, &#x27;CM_ARTH&#x27;,\n",
       "                                  &#x27;CM_BLDLOSS&#x27;, &#x27;CM_CHF&#x27;, &#x27;CM_DRUG&#x27;, &#x27;TRAN_IN&#x27;,\n",
       "                                  &#x27;TRAN_OUT&#x27;])])</pre></div></div></div><div class=\"sk-parallel\"><div class=\"sk-parallel-item\"><div class=\"sk-item\"><div class=\"sk-label-container\"><div class=\"sk-label sk-toggleable\"><input class=\"sk-toggleable__control sk-hidden--visually\" id=\"sk-estimator-id-3\" type=\"checkbox\" ><label for=\"sk-estimator-id-3\" class=\"sk-toggleable__label sk-toggleable__label-arrow\">num</label><div class=\"sk-toggleable__content\"><pre>[&#x27;AGE&#x27;, &#x27;HOSPID&#x27;, &#x27;NPR&#x27;, &#x27;NCHRONIC&#x27;, &#x27;ZIPINC_QRTL&#x27;, &#x27;DXn&#x27;]</pre></div></div></div><div class=\"sk-serial\"><div class=\"sk-item\"><div class=\"sk-serial\"><div class=\"sk-item\"><div class=\"sk-estimator sk-toggleable\"><input class=\"sk-toggleable__control sk-hidden--visually\" id=\"sk-estimator-id-4\" type=\"checkbox\" ><label for=\"sk-estimator-id-4\" class=\"sk-toggleable__label sk-toggleable__label-arrow\">MinMaxScaler</label><div class=\"sk-toggleable__content\"><pre>MinMaxScaler(feature_range=(-1, 1))</pre></div></div></div></div></div></div></div></div><div class=\"sk-parallel-item\"><div class=\"sk-item\"><div class=\"sk-label-container\"><div class=\"sk-label sk-toggleable\"><input class=\"sk-toggleable__control sk-hidden--visually\" id=\"sk-estimator-id-5\" type=\"checkbox\" ><label for=\"sk-estimator-id-5\" class=\"sk-toggleable__label sk-toggleable__label-arrow\">cat</label><div class=\"sk-toggleable__content\"><pre>[&#x27;RACE&#x27;, &#x27;DRG&#x27;, &#x27;PAY1&#x27;, &#x27;PAY2&#x27;, &#x27;CM_AIDS&#x27;, &#x27;CM_ALCOHOL&#x27;, &#x27;CM_ANEMDEF&#x27;, &#x27;CM_ARTH&#x27;, &#x27;CM_BLDLOSS&#x27;, &#x27;CM_CHF&#x27;, &#x27;CM_DRUG&#x27;, &#x27;TRAN_IN&#x27;, &#x27;TRAN_OUT&#x27;]</pre></div></div></div><div class=\"sk-serial\"><div class=\"sk-item\"><div class=\"sk-serial\"><div class=\"sk-item\"><div class=\"sk-estimator sk-toggleable\"><input class=\"sk-toggleable__control sk-hidden--visually\" id=\"sk-estimator-id-6\" type=\"checkbox\" ><label for=\"sk-estimator-id-6\" class=\"sk-toggleable__label sk-toggleable__label-arrow\">OneHotEncoder</label><div class=\"sk-toggleable__content\"><pre>OneHotEncoder(handle_unknown=&#x27;ignore&#x27;)</pre></div></div></div></div></div></div></div></div></div></div><div class=\"sk-item\"><div class=\"sk-estimator sk-toggleable\"><input class=\"sk-toggleable__control sk-hidden--visually\" id=\"sk-estimator-id-7\" type=\"checkbox\" ><label for=\"sk-estimator-id-7\" class=\"sk-toggleable__label sk-toggleable__label-arrow\">RandomForestRegressor</label><div class=\"sk-toggleable__content\"><pre>RandomForestRegressor(random_state=42)</pre></div></div></div></div></div></div></div>"
      ],
      "text/plain": [
       "Pipeline(steps=[('precprocessor',\n",
       "                 ColumnTransformer(transformers=[('num',\n",
       "                                                  Pipeline(steps=[('scaler',\n",
       "                                                                   MinMaxScaler(feature_range=(-1,\n",
       "                                                                                               1)))]),\n",
       "                                                  ['AGE', 'HOSPID', 'NPR',\n",
       "                                                   'NCHRONIC', 'ZIPINC_QRTL',\n",
       "                                                   'DXn']),\n",
       "                                                 ('cat',\n",
       "                                                  Pipeline(steps=[('onehot',\n",
       "                                                                   OneHotEncoder(handle_unknown='ignore'))]),\n",
       "                                                  ['RACE', 'DRG', 'PAY1',\n",
       "                                                   'PAY2', 'CM_AIDS',\n",
       "                                                   'CM_ALCOHOL', 'CM_ANEMDEF',\n",
       "                                                   'CM_ARTH', 'CM_BLDLOSS',\n",
       "                                                   'CM_CHF', 'CM_DRUG',\n",
       "                                                   'TRAN_IN', 'TRAN_OUT'])])),\n",
       "                ('random_forest', RandomForestRegressor(random_state=42))])"
      ]
     },
     "execution_count": 22,
     "metadata": {},
     "output_type": "execute_result"
    }
   ],
   "source": [
    "# train\n",
    "model.fit(X_train,y_train)"
   ]
  },
  {
   "cell_type": "code",
   "execution_count": 23,
   "id": "a6376900",
   "metadata": {},
   "outputs": [
    {
     "data": {
      "text/plain": [
       "{'precprocessor': ColumnTransformer(transformers=[('num',\n",
       "                                  Pipeline(steps=[('scaler',\n",
       "                                                   MinMaxScaler(feature_range=(-1,\n",
       "                                                                               1)))]),\n",
       "                                  ['AGE', 'HOSPID', 'NPR', 'NCHRONIC',\n",
       "                                   'ZIPINC_QRTL', 'DXn']),\n",
       "                                 ('cat',\n",
       "                                  Pipeline(steps=[('onehot',\n",
       "                                                   OneHotEncoder(handle_unknown='ignore'))]),\n",
       "                                  ['RACE', 'DRG', 'PAY1', 'PAY2', 'CM_AIDS',\n",
       "                                   'CM_ALCOHOL', 'CM_ANEMDEF', 'CM_ARTH',\n",
       "                                   'CM_BLDLOSS', 'CM_CHF', 'CM_DRUG', 'TRAN_IN',\n",
       "                                   'TRAN_OUT'])]),\n",
       " 'random_forest': RandomForestRegressor(random_state=42)}"
      ]
     },
     "execution_count": 23,
     "metadata": {},
     "output_type": "execute_result"
    }
   ],
   "source": [
    "model.named_steps"
   ]
  },
  {
   "cell_type": "code",
   "execution_count": 24,
   "id": "a7ec4dc3",
   "metadata": {},
   "outputs": [],
   "source": [
    "final_predictions = model.predict(X_test)"
   ]
  },
  {
   "cell_type": "code",
   "execution_count": 25,
   "id": "20753534",
   "metadata": {},
   "outputs": [
    {
     "data": {
      "text/plain": [
       "array([46565., 33310., 68960., 39595., 30675.,  1370., 32090.,  1520.,\n",
       "       38840.,  6310., 41595.,  6505., 33445., 44605., 31560., 34800.,\n",
       "       45110.,  2645., 46435.,  4010., 42505., 65140., 33090., 44835.,\n",
       "        8520., 41665., 68115.,  3505., 68800.,  2220., 62390.,  3860.,\n",
       "       51045., 40355.,  3275.,  3385., 42630., 46265., 59490., 46110.,\n",
       "        4980., 30955., 38770., 68295., 40330., 68605., 65715.,  6910.,\n",
       "       68495.,  8805., 40850., 35880., 67705., 34695., 43860., 65515.,\n",
       "       34560.,  5285.,  4185.,  3175., 30250., 43805.,  4840., 34910.,\n",
       "       61375., 35270., 69910., 31480., 43275., 12420.,  7110., 37185.,\n",
       "       63405., 40280.,  5615.,  5685., 65420., 36860.,  7330.,  5585.,\n",
       "       44140., 70610., 67625.,  6135., 43885., 47185., 41785., 47390.,\n",
       "       45660., 71565., 39805., 40765., 56375.,  6705.,  5050., 49010.,\n",
       "       41990., 69005.,  4560., 70040.,  3205., 41195., 44900., 44655.,\n",
       "       33975.,  3260., 34000., 40865., 63700., 44180., 35005., 63905.,\n",
       "       36055., 43915., 64875., 64680., 57590., 32230., 41085., 36465.,\n",
       "       66815., 29820., 61980., 33985., 48190., 66810., 25200., 48315.,\n",
       "       37640., 45165., 36190.,  2030., 68575., 63325., 41840., 48490.,\n",
       "       49790., 40180., 57605., 47905., 40335., 68765., 37170., 40325.,\n",
       "       66100.,  5885.,  8420., 41420., 62495., 37945.,  8845.,  4840.,\n",
       "       40825., 47315., 36880.,  5715.,  3980., 65260., 32010., 33855.,\n",
       "       35040., 61675., 31445., 45465., 35515.,  1900., 74290., 62925.,\n",
       "       47660., 67155., 64075.,  5010., 31605.,  8875.,  7455., 65975.,\n",
       "       35240., 60380., 37325., 45150.])"
      ]
     },
     "execution_count": 25,
     "metadata": {},
     "output_type": "execute_result"
    }
   ],
   "source": [
    "final_predictions"
   ]
  },
  {
   "cell_type": "code",
   "execution_count": 27,
   "id": "52bd7803",
   "metadata": {},
   "outputs": [
    {
     "data": {
      "text/plain": [
       "2798.5014094848852"
      ]
     },
     "execution_count": 27,
     "metadata": {},
     "output_type": "execute_result"
    }
   ],
   "source": [
    "tree_rmse = mean_squared_error(y_test, final_predictions,squared=False)\n",
    "tree_rmse"
   ]
  },
  {
   "cell_type": "code",
   "execution_count": 26,
   "id": "4f7bd05c",
   "metadata": {},
   "outputs": [
    {
     "data": {
      "text/plain": [
       "0.9836028395300327"
      ]
     },
     "execution_count": 26,
     "metadata": {},
     "output_type": "execute_result"
    }
   ],
   "source": [
    "model.score(X_test,y_test)"
   ]
  },
  {
   "cell_type": "markdown",
   "id": "cb395d28",
   "metadata": {},
   "source": [
    "# Cross Validation using Pipeline"
   ]
  },
  {
   "cell_type": "code",
   "execution_count": 27,
   "id": "a6876aa5",
   "metadata": {},
   "outputs": [],
   "source": [
    "from sklearn.model_selection import cross_val_score\n",
    "forest_rmses = -cross_val_score(model, X_train,y_train,\n",
    "                                scoring=\"neg_root_mean_squared_error\", cv=10)"
   ]
  },
  {
   "cell_type": "code",
   "execution_count": 28,
   "id": "8f1e73f8",
   "metadata": {},
   "outputs": [
    {
     "data": {
      "text/plain": [
       "count      10.000000\n",
       "mean     2891.738398\n",
       "std       263.713624\n",
       "min      2448.334372\n",
       "25%      2797.503593\n",
       "50%      2915.652231\n",
       "75%      3072.166396\n",
       "max      3241.605933\n",
       "dtype: float64"
      ]
     },
     "execution_count": 28,
     "metadata": {},
     "output_type": "execute_result"
    }
   ],
   "source": [
    "pd.Series(forest_rmses).describe()"
   ]
  },
  {
   "cell_type": "code",
   "execution_count": 29,
   "id": "b96cebc9",
   "metadata": {},
   "outputs": [
    {
     "data": {
      "text/plain": [
       "2798.5014094848852"
      ]
     },
     "execution_count": 29,
     "metadata": {},
     "output_type": "execute_result"
    }
   ],
   "source": [
    "model.fit(X_train,y_train)\n",
    "final_predictions = model.predict(X_test)\n",
    "forest_rmse = mean_squared_error(y_test, final_predictions,squared=False)\n",
    "forest_rmse"
   ]
  },
  {
   "cell_type": "code",
   "execution_count": 30,
   "id": "694d3517",
   "metadata": {},
   "outputs": [],
   "source": [
    "# no change in the error after doing cross validation "
   ]
  },
  {
   "cell_type": "markdown",
   "id": "7987841b",
   "metadata": {},
   "source": [
    "# Fine-Tune Your Model\n",
    "Grid Search"
   ]
  },
  {
   "cell_type": "code",
   "execution_count": 31,
   "id": "968c51da",
   "metadata": {},
   "outputs": [],
   "source": [
    "from sklearn.model_selection import GridSearchCV\n",
    "\n",
    "grid_params = [\n",
    "    {\n",
    "     \"random_forest__max_depth\":[1,2,3,4,5,None]\n",
    "    }\n",
    "]\n",
    "grid_search = GridSearchCV(model,grid_params,cv=5,scoring='neg_root_mean_squared_error')"
   ]
  },
  {
   "cell_type": "code",
   "execution_count": 32,
   "id": "b4aa37fe",
   "metadata": {},
   "outputs": [
    {
     "data": {
      "text/html": [
       "<style>#sk-container-id-2 {color: black;}#sk-container-id-2 pre{padding: 0;}#sk-container-id-2 div.sk-toggleable {background-color: white;}#sk-container-id-2 label.sk-toggleable__label {cursor: pointer;display: block;width: 100%;margin-bottom: 0;padding: 0.3em;box-sizing: border-box;text-align: center;}#sk-container-id-2 label.sk-toggleable__label-arrow:before {content: \"▸\";float: left;margin-right: 0.25em;color: #696969;}#sk-container-id-2 label.sk-toggleable__label-arrow:hover:before {color: black;}#sk-container-id-2 div.sk-estimator:hover label.sk-toggleable__label-arrow:before {color: black;}#sk-container-id-2 div.sk-toggleable__content {max-height: 0;max-width: 0;overflow: hidden;text-align: left;background-color: #f0f8ff;}#sk-container-id-2 div.sk-toggleable__content pre {margin: 0.2em;color: black;border-radius: 0.25em;background-color: #f0f8ff;}#sk-container-id-2 input.sk-toggleable__control:checked~div.sk-toggleable__content {max-height: 200px;max-width: 100%;overflow: auto;}#sk-container-id-2 input.sk-toggleable__control:checked~label.sk-toggleable__label-arrow:before {content: \"▾\";}#sk-container-id-2 div.sk-estimator input.sk-toggleable__control:checked~label.sk-toggleable__label {background-color: #d4ebff;}#sk-container-id-2 div.sk-label input.sk-toggleable__control:checked~label.sk-toggleable__label {background-color: #d4ebff;}#sk-container-id-2 input.sk-hidden--visually {border: 0;clip: rect(1px 1px 1px 1px);clip: rect(1px, 1px, 1px, 1px);height: 1px;margin: -1px;overflow: hidden;padding: 0;position: absolute;width: 1px;}#sk-container-id-2 div.sk-estimator {font-family: monospace;background-color: #f0f8ff;border: 1px dotted black;border-radius: 0.25em;box-sizing: border-box;margin-bottom: 0.5em;}#sk-container-id-2 div.sk-estimator:hover {background-color: #d4ebff;}#sk-container-id-2 div.sk-parallel-item::after {content: \"\";width: 100%;border-bottom: 1px solid gray;flex-grow: 1;}#sk-container-id-2 div.sk-label:hover label.sk-toggleable__label {background-color: #d4ebff;}#sk-container-id-2 div.sk-serial::before {content: \"\";position: absolute;border-left: 1px solid gray;box-sizing: border-box;top: 0;bottom: 0;left: 50%;z-index: 0;}#sk-container-id-2 div.sk-serial {display: flex;flex-direction: column;align-items: center;background-color: white;padding-right: 0.2em;padding-left: 0.2em;position: relative;}#sk-container-id-2 div.sk-item {position: relative;z-index: 1;}#sk-container-id-2 div.sk-parallel {display: flex;align-items: stretch;justify-content: center;background-color: white;position: relative;}#sk-container-id-2 div.sk-item::before, #sk-container-id-2 div.sk-parallel-item::before {content: \"\";position: absolute;border-left: 1px solid gray;box-sizing: border-box;top: 0;bottom: 0;left: 50%;z-index: -1;}#sk-container-id-2 div.sk-parallel-item {display: flex;flex-direction: column;z-index: 1;position: relative;background-color: white;}#sk-container-id-2 div.sk-parallel-item:first-child::after {align-self: flex-end;width: 50%;}#sk-container-id-2 div.sk-parallel-item:last-child::after {align-self: flex-start;width: 50%;}#sk-container-id-2 div.sk-parallel-item:only-child::after {width: 0;}#sk-container-id-2 div.sk-dashed-wrapped {border: 1px dashed gray;margin: 0 0.4em 0.5em 0.4em;box-sizing: border-box;padding-bottom: 0.4em;background-color: white;}#sk-container-id-2 div.sk-label label {font-family: monospace;font-weight: bold;display: inline-block;line-height: 1.2em;}#sk-container-id-2 div.sk-label-container {text-align: center;}#sk-container-id-2 div.sk-container {/* jupyter's `normalize.less` sets `[hidden] { display: none; }` but bootstrap.min.css set `[hidden] { display: none !important; }` so we also need the `!important` here to be able to override the default hidden behavior on the sphinx rendered scikit-learn.org. See: https://github.com/scikit-learn/scikit-learn/issues/21755 */display: inline-block !important;position: relative;}#sk-container-id-2 div.sk-text-repr-fallback {display: none;}</style><div id=\"sk-container-id-2\" class=\"sk-top-container\"><div class=\"sk-text-repr-fallback\"><pre>GridSearchCV(cv=5,\n",
       "             estimator=Pipeline(steps=[(&#x27;precprocessor&#x27;,\n",
       "                                        ColumnTransformer(transformers=[(&#x27;num&#x27;,\n",
       "                                                                         Pipeline(steps=[(&#x27;scaler&#x27;,\n",
       "                                                                                          MinMaxScaler(feature_range=(-1,\n",
       "                                                                                                                      1)))]),\n",
       "                                                                         [&#x27;AGE&#x27;,\n",
       "                                                                          &#x27;HOSPID&#x27;,\n",
       "                                                                          &#x27;NPR&#x27;,\n",
       "                                                                          &#x27;NCHRONIC&#x27;,\n",
       "                                                                          &#x27;ZIPINC_QRTL&#x27;,\n",
       "                                                                          &#x27;DXn&#x27;]),\n",
       "                                                                        (&#x27;cat&#x27;,\n",
       "                                                                         Pipeline(steps=[(&#x27;onehot&#x27;,\n",
       "                                                                                          OneHotEncoder(handle_unknown=&#x27;ignore&#x27;))]),\n",
       "                                                                         [&#x27;RACE&#x27;,\n",
       "                                                                          &#x27;DRG&#x27;,\n",
       "                                                                          &#x27;PAY1&#x27;,\n",
       "                                                                          &#x27;PAY2&#x27;,\n",
       "                                                                          &#x27;CM_AIDS&#x27;,\n",
       "                                                                          &#x27;CM_ALCOHOL&#x27;,\n",
       "                                                                          &#x27;CM_ANEMDEF&#x27;,\n",
       "                                                                          &#x27;CM_ARTH&#x27;,\n",
       "                                                                          &#x27;CM_BLDLOSS&#x27;,\n",
       "                                                                          &#x27;CM_CHF&#x27;,\n",
       "                                                                          &#x27;CM_DRUG&#x27;,\n",
       "                                                                          &#x27;TRAN_IN&#x27;,\n",
       "                                                                          &#x27;TRAN_OUT&#x27;])])),\n",
       "                                       (&#x27;random_forest&#x27;,\n",
       "                                        RandomForestRegressor(random_state=42))]),\n",
       "             param_grid=[{&#x27;random_forest__max_depth&#x27;: [1, 2, 3, 4, 5, None]}],\n",
       "             scoring=&#x27;neg_root_mean_squared_error&#x27;)</pre><b>In a Jupyter environment, please rerun this cell to show the HTML representation or trust the notebook. <br />On GitHub, the HTML representation is unable to render, please try loading this page with nbviewer.org.</b></div><div class=\"sk-container\" hidden><div class=\"sk-item sk-dashed-wrapped\"><div class=\"sk-label-container\"><div class=\"sk-label sk-toggleable\"><input class=\"sk-toggleable__control sk-hidden--visually\" id=\"sk-estimator-id-8\" type=\"checkbox\" ><label for=\"sk-estimator-id-8\" class=\"sk-toggleable__label sk-toggleable__label-arrow\">GridSearchCV</label><div class=\"sk-toggleable__content\"><pre>GridSearchCV(cv=5,\n",
       "             estimator=Pipeline(steps=[(&#x27;precprocessor&#x27;,\n",
       "                                        ColumnTransformer(transformers=[(&#x27;num&#x27;,\n",
       "                                                                         Pipeline(steps=[(&#x27;scaler&#x27;,\n",
       "                                                                                          MinMaxScaler(feature_range=(-1,\n",
       "                                                                                                                      1)))]),\n",
       "                                                                         [&#x27;AGE&#x27;,\n",
       "                                                                          &#x27;HOSPID&#x27;,\n",
       "                                                                          &#x27;NPR&#x27;,\n",
       "                                                                          &#x27;NCHRONIC&#x27;,\n",
       "                                                                          &#x27;ZIPINC_QRTL&#x27;,\n",
       "                                                                          &#x27;DXn&#x27;]),\n",
       "                                                                        (&#x27;cat&#x27;,\n",
       "                                                                         Pipeline(steps=[(&#x27;onehot&#x27;,\n",
       "                                                                                          OneHotEncoder(handle_unknown=&#x27;ignore&#x27;))]),\n",
       "                                                                         [&#x27;RACE&#x27;,\n",
       "                                                                          &#x27;DRG&#x27;,\n",
       "                                                                          &#x27;PAY1&#x27;,\n",
       "                                                                          &#x27;PAY2&#x27;,\n",
       "                                                                          &#x27;CM_AIDS&#x27;,\n",
       "                                                                          &#x27;CM_ALCOHOL&#x27;,\n",
       "                                                                          &#x27;CM_ANEMDEF&#x27;,\n",
       "                                                                          &#x27;CM_ARTH&#x27;,\n",
       "                                                                          &#x27;CM_BLDLOSS&#x27;,\n",
       "                                                                          &#x27;CM_CHF&#x27;,\n",
       "                                                                          &#x27;CM_DRUG&#x27;,\n",
       "                                                                          &#x27;TRAN_IN&#x27;,\n",
       "                                                                          &#x27;TRAN_OUT&#x27;])])),\n",
       "                                       (&#x27;random_forest&#x27;,\n",
       "                                        RandomForestRegressor(random_state=42))]),\n",
       "             param_grid=[{&#x27;random_forest__max_depth&#x27;: [1, 2, 3, 4, 5, None]}],\n",
       "             scoring=&#x27;neg_root_mean_squared_error&#x27;)</pre></div></div></div><div class=\"sk-parallel\"><div class=\"sk-parallel-item\"><div class=\"sk-item\"><div class=\"sk-label-container\"><div class=\"sk-label sk-toggleable\"><input class=\"sk-toggleable__control sk-hidden--visually\" id=\"sk-estimator-id-9\" type=\"checkbox\" ><label for=\"sk-estimator-id-9\" class=\"sk-toggleable__label sk-toggleable__label-arrow\">estimator: Pipeline</label><div class=\"sk-toggleable__content\"><pre>Pipeline(steps=[(&#x27;precprocessor&#x27;,\n",
       "                 ColumnTransformer(transformers=[(&#x27;num&#x27;,\n",
       "                                                  Pipeline(steps=[(&#x27;scaler&#x27;,\n",
       "                                                                   MinMaxScaler(feature_range=(-1,\n",
       "                                                                                               1)))]),\n",
       "                                                  [&#x27;AGE&#x27;, &#x27;HOSPID&#x27;, &#x27;NPR&#x27;,\n",
       "                                                   &#x27;NCHRONIC&#x27;, &#x27;ZIPINC_QRTL&#x27;,\n",
       "                                                   &#x27;DXn&#x27;]),\n",
       "                                                 (&#x27;cat&#x27;,\n",
       "                                                  Pipeline(steps=[(&#x27;onehot&#x27;,\n",
       "                                                                   OneHotEncoder(handle_unknown=&#x27;ignore&#x27;))]),\n",
       "                                                  [&#x27;RACE&#x27;, &#x27;DRG&#x27;, &#x27;PAY1&#x27;,\n",
       "                                                   &#x27;PAY2&#x27;, &#x27;CM_AIDS&#x27;,\n",
       "                                                   &#x27;CM_ALCOHOL&#x27;, &#x27;CM_ANEMDEF&#x27;,\n",
       "                                                   &#x27;CM_ARTH&#x27;, &#x27;CM_BLDLOSS&#x27;,\n",
       "                                                   &#x27;CM_CHF&#x27;, &#x27;CM_DRUG&#x27;,\n",
       "                                                   &#x27;TRAN_IN&#x27;, &#x27;TRAN_OUT&#x27;])])),\n",
       "                (&#x27;random_forest&#x27;, RandomForestRegressor(random_state=42))])</pre></div></div></div><div class=\"sk-serial\"><div class=\"sk-item\"><div class=\"sk-serial\"><div class=\"sk-item sk-dashed-wrapped\"><div class=\"sk-label-container\"><div class=\"sk-label sk-toggleable\"><input class=\"sk-toggleable__control sk-hidden--visually\" id=\"sk-estimator-id-10\" type=\"checkbox\" ><label for=\"sk-estimator-id-10\" class=\"sk-toggleable__label sk-toggleable__label-arrow\">precprocessor: ColumnTransformer</label><div class=\"sk-toggleable__content\"><pre>ColumnTransformer(transformers=[(&#x27;num&#x27;,\n",
       "                                 Pipeline(steps=[(&#x27;scaler&#x27;,\n",
       "                                                  MinMaxScaler(feature_range=(-1,\n",
       "                                                                              1)))]),\n",
       "                                 [&#x27;AGE&#x27;, &#x27;HOSPID&#x27;, &#x27;NPR&#x27;, &#x27;NCHRONIC&#x27;,\n",
       "                                  &#x27;ZIPINC_QRTL&#x27;, &#x27;DXn&#x27;]),\n",
       "                                (&#x27;cat&#x27;,\n",
       "                                 Pipeline(steps=[(&#x27;onehot&#x27;,\n",
       "                                                  OneHotEncoder(handle_unknown=&#x27;ignore&#x27;))]),\n",
       "                                 [&#x27;RACE&#x27;, &#x27;DRG&#x27;, &#x27;PAY1&#x27;, &#x27;PAY2&#x27;, &#x27;CM_AIDS&#x27;,\n",
       "                                  &#x27;CM_ALCOHOL&#x27;, &#x27;CM_ANEMDEF&#x27;, &#x27;CM_ARTH&#x27;,\n",
       "                                  &#x27;CM_BLDLOSS&#x27;, &#x27;CM_CHF&#x27;, &#x27;CM_DRUG&#x27;, &#x27;TRAN_IN&#x27;,\n",
       "                                  &#x27;TRAN_OUT&#x27;])])</pre></div></div></div><div class=\"sk-parallel\"><div class=\"sk-parallel-item\"><div class=\"sk-item\"><div class=\"sk-label-container\"><div class=\"sk-label sk-toggleable\"><input class=\"sk-toggleable__control sk-hidden--visually\" id=\"sk-estimator-id-11\" type=\"checkbox\" ><label for=\"sk-estimator-id-11\" class=\"sk-toggleable__label sk-toggleable__label-arrow\">num</label><div class=\"sk-toggleable__content\"><pre>[&#x27;AGE&#x27;, &#x27;HOSPID&#x27;, &#x27;NPR&#x27;, &#x27;NCHRONIC&#x27;, &#x27;ZIPINC_QRTL&#x27;, &#x27;DXn&#x27;]</pre></div></div></div><div class=\"sk-serial\"><div class=\"sk-item\"><div class=\"sk-serial\"><div class=\"sk-item\"><div class=\"sk-estimator sk-toggleable\"><input class=\"sk-toggleable__control sk-hidden--visually\" id=\"sk-estimator-id-12\" type=\"checkbox\" ><label for=\"sk-estimator-id-12\" class=\"sk-toggleable__label sk-toggleable__label-arrow\">MinMaxScaler</label><div class=\"sk-toggleable__content\"><pre>MinMaxScaler(feature_range=(-1, 1))</pre></div></div></div></div></div></div></div></div><div class=\"sk-parallel-item\"><div class=\"sk-item\"><div class=\"sk-label-container\"><div class=\"sk-label sk-toggleable\"><input class=\"sk-toggleable__control sk-hidden--visually\" id=\"sk-estimator-id-13\" type=\"checkbox\" ><label for=\"sk-estimator-id-13\" class=\"sk-toggleable__label sk-toggleable__label-arrow\">cat</label><div class=\"sk-toggleable__content\"><pre>[&#x27;RACE&#x27;, &#x27;DRG&#x27;, &#x27;PAY1&#x27;, &#x27;PAY2&#x27;, &#x27;CM_AIDS&#x27;, &#x27;CM_ALCOHOL&#x27;, &#x27;CM_ANEMDEF&#x27;, &#x27;CM_ARTH&#x27;, &#x27;CM_BLDLOSS&#x27;, &#x27;CM_CHF&#x27;, &#x27;CM_DRUG&#x27;, &#x27;TRAN_IN&#x27;, &#x27;TRAN_OUT&#x27;]</pre></div></div></div><div class=\"sk-serial\"><div class=\"sk-item\"><div class=\"sk-serial\"><div class=\"sk-item\"><div class=\"sk-estimator sk-toggleable\"><input class=\"sk-toggleable__control sk-hidden--visually\" id=\"sk-estimator-id-14\" type=\"checkbox\" ><label for=\"sk-estimator-id-14\" class=\"sk-toggleable__label sk-toggleable__label-arrow\">OneHotEncoder</label><div class=\"sk-toggleable__content\"><pre>OneHotEncoder(handle_unknown=&#x27;ignore&#x27;)</pre></div></div></div></div></div></div></div></div></div></div><div class=\"sk-item\"><div class=\"sk-estimator sk-toggleable\"><input class=\"sk-toggleable__control sk-hidden--visually\" id=\"sk-estimator-id-15\" type=\"checkbox\" ><label for=\"sk-estimator-id-15\" class=\"sk-toggleable__label sk-toggleable__label-arrow\">RandomForestRegressor</label><div class=\"sk-toggleable__content\"><pre>RandomForestRegressor(random_state=42)</pre></div></div></div></div></div></div></div></div></div></div></div></div>"
      ],
      "text/plain": [
       "GridSearchCV(cv=5,\n",
       "             estimator=Pipeline(steps=[('precprocessor',\n",
       "                                        ColumnTransformer(transformers=[('num',\n",
       "                                                                         Pipeline(steps=[('scaler',\n",
       "                                                                                          MinMaxScaler(feature_range=(-1,\n",
       "                                                                                                                      1)))]),\n",
       "                                                                         ['AGE',\n",
       "                                                                          'HOSPID',\n",
       "                                                                          'NPR',\n",
       "                                                                          'NCHRONIC',\n",
       "                                                                          'ZIPINC_QRTL',\n",
       "                                                                          'DXn']),\n",
       "                                                                        ('cat',\n",
       "                                                                         Pipeline(steps=[('onehot',\n",
       "                                                                                          OneHotEncoder(handle_unknown='ignore'))]),\n",
       "                                                                         ['RACE',\n",
       "                                                                          'DRG',\n",
       "                                                                          'PAY1',\n",
       "                                                                          'PAY2',\n",
       "                                                                          'CM_AIDS',\n",
       "                                                                          'CM_ALCOHOL',\n",
       "                                                                          'CM_ANEMDEF',\n",
       "                                                                          'CM_ARTH',\n",
       "                                                                          'CM_BLDLOSS',\n",
       "                                                                          'CM_CHF',\n",
       "                                                                          'CM_DRUG',\n",
       "                                                                          'TRAN_IN',\n",
       "                                                                          'TRAN_OUT'])])),\n",
       "                                       ('random_forest',\n",
       "                                        RandomForestRegressor(random_state=42))]),\n",
       "             param_grid=[{'random_forest__max_depth': [1, 2, 3, 4, 5, None]}],\n",
       "             scoring='neg_root_mean_squared_error')"
      ]
     },
     "execution_count": 32,
     "metadata": {},
     "output_type": "execute_result"
    }
   ],
   "source": [
    "grid_search.fit(X_train,y_train)"
   ]
  },
  {
   "cell_type": "code",
   "execution_count": 33,
   "id": "1df08941",
   "metadata": {},
   "outputs": [
    {
     "data": {
      "text/plain": [
       "-2958.5210197577285"
      ]
     },
     "execution_count": 33,
     "metadata": {},
     "output_type": "execute_result"
    }
   ],
   "source": [
    "\n",
    "grid_search.best_score_"
   ]
  },
  {
   "cell_type": "code",
   "execution_count": 34,
   "id": "578071c6",
   "metadata": {},
   "outputs": [
    {
     "data": {
      "text/plain": [
       "2798.5014094848852"
      ]
     },
     "execution_count": 34,
     "metadata": {},
     "output_type": "execute_result"
    }
   ],
   "source": [
    "final_predictions_cv = model.predict(X_test)\n",
    "forest_rmse_cv = mean_squared_error(y_test, final_predictions_cv,squared=False)\n",
    "forest_rmse_cv"
   ]
  },
  {
   "cell_type": "markdown",
   "id": "b15d575f",
   "metadata": {},
   "source": [
    "# Exporting the Pipeline"
   ]
  },
  {
   "cell_type": "code",
   "execution_count": 73,
   "id": "12a9645e",
   "metadata": {},
   "outputs": [],
   "source": [
    "# export \n",
    "import pickle"
   ]
  },
  {
   "cell_type": "code",
   "execution_count": 74,
   "id": "15901f93",
   "metadata": {},
   "outputs": [],
   "source": [
    "pickle.dump(model,open('iryss-model.pkl','wb'))"
   ]
  },
  {
   "cell_type": "code",
   "execution_count": 75,
   "id": "4891e85d",
   "metadata": {},
   "outputs": [],
   "source": [
    "import joblib"
   ]
  },
  {
   "cell_type": "code",
   "execution_count": 29,
   "id": "83945308",
   "metadata": {},
   "outputs": [],
   "source": [
    "joblib.dump(model,open('iryss-model-joblib.pkl','wb'))"
   ]
  },
  {
   "cell_type": "code",
   "execution_count": null,
   "id": "d7f1d130",
   "metadata": {},
   "outputs": [],
   "source": []
  }
 ],
 "metadata": {
  "kernelspec": {
   "display_name": "Python 3 (ipykernel)",
   "language": "python",
   "name": "python3"
  },
  "language_info": {
   "codemirror_mode": {
    "name": "ipython",
    "version": 3
   },
   "file_extension": ".py",
   "mimetype": "text/x-python",
   "name": "python",
   "nbconvert_exporter": "python",
   "pygments_lexer": "ipython3",
   "version": "3.9.13"
  }
 },
 "nbformat": 4,
 "nbformat_minor": 5
}
