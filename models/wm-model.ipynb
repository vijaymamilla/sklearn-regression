{
 "cells": [
  {
   "cell_type": "code",
   "execution_count": 1,
   "id": "cd022c1d-523e-4fd8-b247-7f3dacfc2f2d",
   "metadata": {},
   "outputs": [],
   "source": [
    "import numpy as np\n",
    "import pandas as pd\n",
    "\n",
    "pd.set_option('display.max_columns',None)\n"
   ]
  },
  {
   "cell_type": "code",
   "execution_count": 2,
   "id": "e042640c-4248-44df-bb24-ea71fc7c1be0",
   "metadata": {},
   "outputs": [],
   "source": [
    "from sklearn.model_selection import train_test_split\n",
    "from sklearn.compose import ColumnTransformer\n",
    "from sklearn.impute import SimpleImputer\n",
    "from sklearn.preprocessing import StandardScaler,OneHotEncoder\n",
    "from sklearn.preprocessing import MinMaxScaler\n",
    "from sklearn.pipeline import Pipeline,make_pipeline\n",
    "from sklearn.feature_selection import SelectKBest,chi2\n",
    "from sklearn.metrics import mean_squared_error\n",
    "from sklearn.ensemble import RandomForestRegressor\n",
    "from sklearn.tree  import DecisionTreeRegressor"
   ]
  },
  {
   "cell_type": "code",
   "execution_count": 3,
   "id": "7a295342-1ad8-46c7-8cc9-ef0a4e261f6b",
   "metadata": {},
   "outputs": [
    {
     "name": "stdout",
     "output_type": "stream",
     "text": [
      "1.3.0\n"
     ]
    }
   ],
   "source": [
    "import sklearn\n",
    "print(sklearn.__version__)"
   ]
  },
  {
   "cell_type": "code",
   "execution_count": 4,
   "id": "dcc6b1a0-264d-41b8-ab5e-adae248f3f53",
   "metadata": {},
   "outputs": [],
   "source": [
    "data = pd.read_csv('../data/Processed_DatasetsAmount-of Waste-Generated-By-State 32121-0003.csv')"
   ]
  },
  {
   "cell_type": "code",
   "execution_count": 5,
   "id": "2ae1a5b4-6733-4c38-833c-7005cbaedd5f",
   "metadata": {},
   "outputs": [
    {
     "data": {
      "text/html": [
       "<div>\n",
       "<style scoped>\n",
       "    .dataframe tbody tr th:only-of-type {\n",
       "        vertical-align: middle;\n",
       "    }\n",
       "\n",
       "    .dataframe tbody tr th {\n",
       "        vertical-align: top;\n",
       "    }\n",
       "\n",
       "    .dataframe thead th {\n",
       "        text-align: right;\n",
       "    }\n",
       "</style>\n",
       "<table border=\"1\" class=\"dataframe\">\n",
       "  <thead>\n",
       "    <tr style=\"text-align: right;\">\n",
       "      <th></th>\n",
       "      <th>Year</th>\n",
       "      <th>States</th>\n",
       "      <th>Types of Waste</th>\n",
       "      <th>Total Household Waste Generated (Tons)</th>\n",
       "      <th>Household Waste Generated per Inhabitant (kg)</th>\n",
       "    </tr>\n",
       "  </thead>\n",
       "  <tbody>\n",
       "    <tr>\n",
       "      <th>0</th>\n",
       "      <td>2004</td>\n",
       "      <td>Baden-Württemberg</td>\n",
       "      <td>Residual household and bulky wastes</td>\n",
       "      <td>1605.6</td>\n",
       "      <td>150.0</td>\n",
       "    </tr>\n",
       "    <tr>\n",
       "      <th>1</th>\n",
       "      <td>2004</td>\n",
       "      <td>Baden-Württemberg</td>\n",
       "      <td>Separately collected organic wastes</td>\n",
       "      <td>1220.5</td>\n",
       "      <td>114.0</td>\n",
       "    </tr>\n",
       "    <tr>\n",
       "      <th>2</th>\n",
       "      <td>2004</td>\n",
       "      <td>Baden-Württemberg</td>\n",
       "      <td>Separately collected recyclables</td>\n",
       "      <td>1645.3</td>\n",
       "      <td>154.0</td>\n",
       "    </tr>\n",
       "    <tr>\n",
       "      <th>3</th>\n",
       "      <td>2004</td>\n",
       "      <td>Baden-Württemberg</td>\n",
       "      <td>Other wastes</td>\n",
       "      <td>9.4</td>\n",
       "      <td>1.0</td>\n",
       "    </tr>\n",
       "    <tr>\n",
       "      <th>4</th>\n",
       "      <td>2004</td>\n",
       "      <td>Bayern</td>\n",
       "      <td>Separately collected organic wastes</td>\n",
       "      <td>1677.3</td>\n",
       "      <td>135.0</td>\n",
       "    </tr>\n",
       "  </tbody>\n",
       "</table>\n",
       "</div>"
      ],
      "text/plain": [
       "   Year             States                       Types of Waste  \\\n",
       "0  2004  Baden-Württemberg  Residual household and bulky wastes   \n",
       "1  2004  Baden-Württemberg  Separately collected organic wastes   \n",
       "2  2004  Baden-Württemberg     Separately collected recyclables   \n",
       "3  2004  Baden-Württemberg                         Other wastes   \n",
       "4  2004             Bayern  Separately collected organic wastes   \n",
       "\n",
       "   Total Household Waste Generated (Tons)  \\\n",
       "0                                  1605.6   \n",
       "1                                  1220.5   \n",
       "2                                  1645.3   \n",
       "3                                     9.4   \n",
       "4                                  1677.3   \n",
       "\n",
       "   Household Waste Generated per Inhabitant (kg)  \n",
       "0                                          150.0  \n",
       "1                                          114.0  \n",
       "2                                          154.0  \n",
       "3                                            1.0  \n",
       "4                                          135.0  "
      ]
     },
     "execution_count": 5,
     "metadata": {},
     "output_type": "execute_result"
    }
   ],
   "source": [
    "data.head()"
   ]
  },
  {
   "cell_type": "code",
   "execution_count": 6,
   "id": "a607a2ba-d5fc-4d20-a8cd-9a74a5955643",
   "metadata": {},
   "outputs": [
    {
     "name": "stdout",
     "output_type": "stream",
     "text": [
      "<class 'pandas.core.frame.DataFrame'>\n",
      "RangeIndex: 1046 entries, 0 to 1045\n",
      "Data columns (total 5 columns):\n",
      " #   Column                                         Non-Null Count  Dtype  \n",
      "---  ------                                         --------------  -----  \n",
      " 0   Year                                           1046 non-null   int64  \n",
      " 1   States                                         1046 non-null   object \n",
      " 2   Types of Waste                                 1046 non-null   object \n",
      " 3   Total Household Waste Generated (Tons)         1046 non-null   float64\n",
      " 4   Household Waste Generated per Inhabitant (kg)  1046 non-null   float64\n",
      "dtypes: float64(2), int64(1), object(2)\n",
      "memory usage: 41.0+ KB\n"
     ]
    }
   ],
   "source": [
    "data.info()"
   ]
  },
  {
   "cell_type": "code",
   "execution_count": 7,
   "id": "9df7a6e3-27be-410a-b860-34250c581ace",
   "metadata": {},
   "outputs": [
    {
     "data": {
      "text/plain": [
       "Year                                             0\n",
       "States                                           0\n",
       "Types of Waste                                   0\n",
       "Total Household Waste Generated (Tons)           0\n",
       "Household Waste Generated per Inhabitant (kg)    0\n",
       "dtype: int64"
      ]
     },
     "execution_count": 7,
     "metadata": {},
     "output_type": "execute_result"
    }
   ],
   "source": [
    "data.isnull().sum()"
   ]
  },
  {
   "cell_type": "code",
   "execution_count": 8,
   "id": "ef26d2bd-7430-410d-8d22-5fb7c1a58a8f",
   "metadata": {},
   "outputs": [
    {
     "data": {
      "text/html": [
       "<div>\n",
       "<style scoped>\n",
       "    .dataframe tbody tr th:only-of-type {\n",
       "        vertical-align: middle;\n",
       "    }\n",
       "\n",
       "    .dataframe tbody tr th {\n",
       "        vertical-align: top;\n",
       "    }\n",
       "\n",
       "    .dataframe thead th {\n",
       "        text-align: right;\n",
       "    }\n",
       "</style>\n",
       "<table border=\"1\" class=\"dataframe\">\n",
       "  <thead>\n",
       "    <tr style=\"text-align: right;\">\n",
       "      <th></th>\n",
       "      <th>Year</th>\n",
       "      <th>Total Household Waste Generated (Tons)</th>\n",
       "      <th>Household Waste Generated per Inhabitant (kg)</th>\n",
       "    </tr>\n",
       "  </thead>\n",
       "  <tbody>\n",
       "    <tr>\n",
       "      <th>count</th>\n",
       "      <td>1046.000000</td>\n",
       "      <td>1046.000000</td>\n",
       "      <td>1046.000000</td>\n",
       "    </tr>\n",
       "    <tr>\n",
       "      <th>mean</th>\n",
       "      <td>2012.451243</td>\n",
       "      <td>405.893881</td>\n",
       "      <td>110.816904</td>\n",
       "    </tr>\n",
       "    <tr>\n",
       "      <th>std</th>\n",
       "      <td>5.181030</td>\n",
       "      <td>462.755575</td>\n",
       "      <td>80.167121</td>\n",
       "    </tr>\n",
       "    <tr>\n",
       "      <th>min</th>\n",
       "      <td>2004.000000</td>\n",
       "      <td>0.100000</td>\n",
       "      <td>1.000000</td>\n",
       "    </tr>\n",
       "    <tr>\n",
       "      <th>25%</th>\n",
       "      <td>2008.000000</td>\n",
       "      <td>29.400000</td>\n",
       "      <td>21.000000</td>\n",
       "    </tr>\n",
       "    <tr>\n",
       "      <th>50%</th>\n",
       "      <td>2012.000000</td>\n",
       "      <td>230.300000</td>\n",
       "      <td>125.000000</td>\n",
       "    </tr>\n",
       "    <tr>\n",
       "      <th>75%</th>\n",
       "      <td>2017.000000</td>\n",
       "      <td>613.750000</td>\n",
       "      <td>163.000000</td>\n",
       "    </tr>\n",
       "    <tr>\n",
       "      <th>max</th>\n",
       "      <td>2021.000000</td>\n",
       "      <td>1799.100000</td>\n",
       "      <td>349.000000</td>\n",
       "    </tr>\n",
       "  </tbody>\n",
       "</table>\n",
       "</div>"
      ],
      "text/plain": [
       "              Year  Total Household Waste Generated (Tons)  \\\n",
       "count  1046.000000                             1046.000000   \n",
       "mean   2012.451243                              405.893881   \n",
       "std       5.181030                              462.755575   \n",
       "min    2004.000000                                0.100000   \n",
       "25%    2008.000000                               29.400000   \n",
       "50%    2012.000000                              230.300000   \n",
       "75%    2017.000000                              613.750000   \n",
       "max    2021.000000                             1799.100000   \n",
       "\n",
       "       Household Waste Generated per Inhabitant (kg)  \n",
       "count                                    1046.000000  \n",
       "mean                                      110.816904  \n",
       "std                                        80.167121  \n",
       "min                                         1.000000  \n",
       "25%                                        21.000000  \n",
       "50%                                       125.000000  \n",
       "75%                                       163.000000  \n",
       "max                                       349.000000  "
      ]
     },
     "execution_count": 8,
     "metadata": {},
     "output_type": "execute_result"
    }
   ],
   "source": [
    "data.describe()"
   ]
  },
  {
   "cell_type": "code",
   "execution_count": 9,
   "id": "57202a2c-034e-4819-a5bc-af775bd140db",
   "metadata": {},
   "outputs": [
    {
     "data": {
      "text/html": [
       "<div>\n",
       "<style scoped>\n",
       "    .dataframe tbody tr th:only-of-type {\n",
       "        vertical-align: middle;\n",
       "    }\n",
       "\n",
       "    .dataframe tbody tr th {\n",
       "        vertical-align: top;\n",
       "    }\n",
       "\n",
       "    .dataframe thead th {\n",
       "        text-align: right;\n",
       "    }\n",
       "</style>\n",
       "<table border=\"1\" class=\"dataframe\">\n",
       "  <thead>\n",
       "    <tr style=\"text-align: right;\">\n",
       "      <th></th>\n",
       "      <th>Year</th>\n",
       "      <th>Total Household Waste Generated (Tons)</th>\n",
       "      <th>Household Waste Generated per Inhabitant (kg)</th>\n",
       "    </tr>\n",
       "  </thead>\n",
       "  <tbody>\n",
       "    <tr>\n",
       "      <th>Year</th>\n",
       "      <td>1.000000</td>\n",
       "      <td>-0.020062</td>\n",
       "      <td>0.019148</td>\n",
       "    </tr>\n",
       "    <tr>\n",
       "      <th>Total Household Waste Generated (Tons)</th>\n",
       "      <td>-0.020062</td>\n",
       "      <td>1.000000</td>\n",
       "      <td>0.575053</td>\n",
       "    </tr>\n",
       "    <tr>\n",
       "      <th>Household Waste Generated per Inhabitant (kg)</th>\n",
       "      <td>0.019148</td>\n",
       "      <td>0.575053</td>\n",
       "      <td>1.000000</td>\n",
       "    </tr>\n",
       "  </tbody>\n",
       "</table>\n",
       "</div>"
      ],
      "text/plain": [
       "                                                   Year  \\\n",
       "Year                                           1.000000   \n",
       "Total Household Waste Generated (Tons)        -0.020062   \n",
       "Household Waste Generated per Inhabitant (kg)  0.019148   \n",
       "\n",
       "                                               Total Household Waste Generated (Tons)  \\\n",
       "Year                                                                        -0.020062   \n",
       "Total Household Waste Generated (Tons)                                       1.000000   \n",
       "Household Waste Generated per Inhabitant (kg)                                0.575053   \n",
       "\n",
       "                                               Household Waste Generated per Inhabitant (kg)  \n",
       "Year                                                                                0.019148  \n",
       "Total Household Waste Generated (Tons)                                              0.575053  \n",
       "Household Waste Generated per Inhabitant (kg)                                       1.000000  "
      ]
     },
     "execution_count": 9,
     "metadata": {},
     "output_type": "execute_result"
    }
   ],
   "source": [
    "data.corr()"
   ]
  },
  {
   "cell_type": "raw",
   "id": "d0351762-3b47-4cc2-ae59-dd48c7461ea8",
   "metadata": {},
   "source": [
    "Univariant Analysis"
   ]
  },
  {
   "cell_type": "code",
   "execution_count": 10,
   "id": "baf82d5f-2a14-4b94-8c6f-7e91968452f8",
   "metadata": {},
   "outputs": [
    {
     "data": {
      "text/plain": [
       "array([2004, 2005, 2006, 2007, 2008, 2009, 2010, 2011, 2012, 2013, 2014,\n",
       "       2015, 2016, 2017, 2018, 2019, 2020, 2021])"
      ]
     },
     "execution_count": 10,
     "metadata": {},
     "output_type": "execute_result"
    }
   ],
   "source": [
    "data['Year'].unique()"
   ]
  },
  {
   "cell_type": "code",
   "execution_count": 11,
   "id": "edd8d241-9082-4ab1-86d7-bba8246f3939",
   "metadata": {},
   "outputs": [
    {
     "data": {
      "text/plain": [
       "array(['Baden-Württemberg', 'Bayern', 'Berlin', 'Brandenburg', 'Bremen',\n",
       "       'Hamburg', 'Hessen', 'Mecklenburg-Vorpommern', 'Niedersachsen',\n",
       "       'Nordrhein-Westfalen', 'Rheinland-Pfalz', 'Saarland', 'Sachsen',\n",
       "       'Sachsen-Anhalt', 'Schleswig-Holstein', 'Thüringen'], dtype=object)"
      ]
     },
     "execution_count": 11,
     "metadata": {},
     "output_type": "execute_result"
    }
   ],
   "source": [
    "data['States'].unique()"
   ]
  },
  {
   "cell_type": "code",
   "execution_count": 12,
   "id": "c0bad15a-c9bb-4602-8c7b-a77e9000da77",
   "metadata": {},
   "outputs": [
    {
     "data": {
      "text/plain": [
       "array(['Residual household and bulky wastes',\n",
       "       'Separately collected organic wastes',\n",
       "       'Separately collected recyclables', 'Other wastes'], dtype=object)"
      ]
     },
     "execution_count": 12,
     "metadata": {},
     "output_type": "execute_result"
    }
   ],
   "source": [
    "data['Types of Waste'].unique()"
   ]
  },
  {
   "cell_type": "code",
   "execution_count": 13,
   "id": "925a09df-6e36-44e8-bad2-7109ae4c4eed",
   "metadata": {},
   "outputs": [
    {
     "data": {
      "text/plain": [
       "array([1.6056e+03, 1.2205e+03, 1.6453e+03, 9.4000e+00, 1.6773e+03,\n",
       "       5.9100e+01, 9.7500e+02, 9.9200e+01, 3.9020e+02, 1.5000e+00,\n",
       "       5.5820e+02, 7.2100e+01, 3.4540e+02, 6.6000e+00, 1.6700e+02,\n",
       "       5.7000e+01, 9.5000e+01, 2.0000e-01, 3.7300e+01, 1.7020e+02,\n",
       "       1.9000e+00, 1.2787e+03, 7.2780e+02, 8.1010e+02, 3.3000e+00,\n",
       "       4.0710e+02, 6.9700e+01, 2.5360e+02, 1.4000e+00, 1.6581e+03,\n",
       "       1.1052e+03, 1.1605e+03, 1.0100e+01, 9.8100e+01, 8.0410e+02,\n",
       "       5.3250e+02, 6.4320e+02, 2.1500e+01, 2.6880e+02, 1.6030e+02,\n",
       "       1.2640e+02, 5.0000e-01, 6.9600e+02, 2.0330e+02, 5.8870e+02,\n",
       "       2.6000e+00, 6.2530e+02, 1.8330e+02, 3.3840e+02, 2.0800e+01,\n",
       "       6.8850e+02, 2.8050e+02, 4.1370e+02, 4.9750e+02, 1.4380e+02,\n",
       "       3.3630e+02, 1.4700e+01, 1.5683e+03, 1.2393e+03, 1.7027e+03,\n",
       "       8.8000e+00, 1.5971e+03, 5.4100e+01, 9.7890e+02, 1.1380e+02,\n",
       "       4.0670e+02, 5.6250e+02, 7.2500e+01, 3.5270e+02, 4.1000e+00,\n",
       "       1.6410e+02, 5.8000e+01, 8.8100e+01, 3.0000e-01, 3.6200e+01,\n",
       "       1.6380e+02, 1.2664e+03, 7.0540e+02, 8.0860e+02, 4.0060e+02,\n",
       "       7.0900e+01, 2.4560e+02, 9.0000e-01, 1.5907e+03, 1.1216e+03,\n",
       "       1.2021e+03, 4.5000e+00, 3.8300e+01, 8.0890e+02, 5.2320e+02,\n",
       "       6.5480e+02, 1.7900e+01, 2.6820e+02, 1.4120e+02, 1.2710e+02,\n",
       "       6.0000e-01, 6.8200e+02, 2.1700e+02, 5.6140e+02, 3.5000e+00,\n",
       "       5.8270e+02, 1.8310e+02, 3.3330e+02, 1.0300e+01, 6.5650e+02,\n",
       "       2.6950e+02, 4.0820e+02, 1.8000e+00, 4.7170e+02, 1.4430e+02,\n",
       "       3.3440e+02, 1.0500e+01, 1.5840e+03, 1.2324e+03, 1.7515e+03,\n",
       "       8.6000e+00, 1.6302e+03, 5.8100e+01, 9.4410e+02, 1.1900e+02,\n",
       "       4.1420e+02, 2.2000e+00, 5.6920e+02, 5.6900e+01, 3.5660e+02,\n",
       "       1.6590e+02, 8.6400e+01, 6.1270e+02, 3.5700e+01, 1.6760e+02,\n",
       "       2.1000e+00, 1.2883e+03, 7.2230e+02, 8.6310e+02, 3.1000e+00,\n",
       "       3.9200e+02, 7.4100e+01, 2.4820e+02, 8.0000e-01, 1.5888e+03,\n",
       "       1.1460e+03, 1.2352e+03, 7.4000e+00, 2.5700e+01, 8.0050e+02,\n",
       "       5.3570e+02, 6.7710e+02, 1.7700e+01, 2.5810e+02, 1.3460e+02,\n",
       "       1.3290e+02, 6.6240e+02, 2.0820e+02, 5.5710e+02, 1.6300e+01,\n",
       "       2.0770e+02, 3.2460e+02, 7.1000e+00, 6.5450e+02, 2.7970e+02,\n",
       "       4.2750e+02, 2.4000e+00, 4.7320e+02, 1.4600e+02, 3.2140e+02,\n",
       "       8.7000e+00, 1.5405e+03, 1.2857e+03, 1.7680e+03, 6.9000e+00,\n",
       "       1.6516e+03, 6.5300e+01, 9.2760e+02, 1.2130e+02, 4.2090e+02,\n",
       "       2.3000e+00, 5.5790e+02, 8.5300e+01, 3.5570e+02, 1.6370e+02,\n",
       "       5.9400e+01, 6.1840e+02, 3.7800e+01, 1.7740e+02, 1.2602e+03,\n",
       "       7.4260e+02, 8.3610e+02, 3.4000e+00, 3.9170e+02, 8.1000e+01,\n",
       "       2.4670e+02, 1.5794e+03, 1.2083e+03, 1.2381e+03, 7.0000e+00,\n",
       "       3.0400e+01, 7.8230e+02, 5.4860e+02, 2.0000e+01, 2.5000e+02,\n",
       "       1.3430e+02, 1.3990e+02, 7.0000e-01, 2.1740e+02, 5.3190e+02,\n",
       "       5.2560e+02, 2.2010e+02, 3.0130e+02, 6.4810e+02, 2.7800e+02,\n",
       "       4.2800e+02, 4.2810e+02, 1.5310e+02, 3.0610e+02, 8.0000e+00,\n",
       "       1.5367e+03, 1.2862e+03, 1.7540e+03, 1.7155e+03, 6.4000e+01,\n",
       "       8.9780e+02, 1.1020e+02, 4.1120e+02, 5.0370e+02, 8.0600e+01,\n",
       "       3.4780e+02, 1.6100e+02, 8.4500e+01, 6.0030e+02, 3.5000e+01,\n",
       "       1.8090e+02, 7.4220e+02, 8.3110e+02, 2.9000e+00, 3.7920e+02,\n",
       "       7.9000e+01, 2.3200e+02, 1.5382e+03, 1.2081e+03, 1.2225e+03,\n",
       "       1.1200e+01, 3.3500e+01, 7.6950e+02, 5.5560e+02, 6.7580e+02,\n",
       "       1.7400e+01, 2.4690e+02, 1.3660e+02, 1.2860e+02, 6.4100e+02,\n",
       "       2.0690e+02, 5.0040e+02, 3.7000e+00, 4.9660e+02, 2.1920e+02,\n",
       "       3.0970e+02, 5.3000e+00, 6.3710e+02, 4.3190e+02, 2.5000e+00,\n",
       "       4.1400e+02, 1.5100e+02, 2.9110e+02, 7.6000e+00, 1.5666e+03,\n",
       "       1.3519e+03, 1.7548e+03, 1.7722e+03, 6.7400e+01, 9.1140e+02,\n",
       "       4.0180e+02, 9.8300e+01, 3.4300e+02, 2.0000e+00, 1.6160e+02,\n",
       "       8.1600e+01, 5.8620e+02, 3.6100e+01, 1.7820e+02, 1.2528e+03,\n",
       "       7.8890e+02, 8.4840e+02, 2.2100e+01, 3.8120e+02, 8.6800e+01,\n",
       "       2.2150e+02, 1.5254e+03, 1.1911e+03, 1.2264e+03, 9.9000e+00,\n",
       "       4.3100e+01, 7.7500e+02, 5.9050e+02, 6.8650e+02, 2.0100e+01,\n",
       "       2.4550e+02, 1.4080e+02, 1.1970e+02, 6.4230e+02, 2.2290e+02,\n",
       "       5.0010e+02, 4.9460e+02, 2.4050e+02, 3.0760e+02, 4.0000e+00,\n",
       "       6.4200e+02, 2.6840e+02, 4.3040e+02, 4.2400e+02, 1.6660e+02,\n",
       "       2.9280e+02, 1.5567e+03, 1.2949e+03, 1.7531e+03, 7.2000e+00,\n",
       "       1.7337e+03, 8.4600e+01, 8.9300e+02, 1.1460e+02, 3.9930e+02,\n",
       "       5.3330e+02, 9.9900e+01, 3.4650e+02, 1.5830e+02, 5.6600e+01,\n",
       "       8.0400e+01, 5.6690e+02, 3.7200e+01, 1.8070e+02, 1.2463e+03,\n",
       "       7.7910e+02, 8.4010e+02, 3.2000e+00, 3.7810e+02, 8.1900e+01,\n",
       "       2.2240e+02, 1.0000e+00, 1.5095e+03, 1.1434e+03, 1.2342e+03,\n",
       "       8.2000e+00, 4.3800e+01, 7.7730e+02, 5.8280e+02, 6.8360e+02,\n",
       "       1.7100e+01, 2.4590e+02, 1.3560e+02, 1.1640e+02, 6.3180e+02,\n",
       "       2.1370e+02, 4.9440e+02, 4.9570e+02, 2.2470e+02, 3.1100e+02,\n",
       "       6.3310e+02, 2.5560e+02, 4.3400e+02, 4.1320e+02, 1.6000e+02,\n",
       "       2.9220e+02, 7.5000e+00, 1.5550e+03, 1.3725e+03, 1.7793e+03,\n",
       "       1.7816e+03, 6.7000e+00, 8.8010e+02, 1.2700e+02, 4.1650e+02,\n",
       "       5.3440e+02, 1.0950e+02, 3.4750e+02, 1.5960e+02, 8.1300e+01,\n",
       "       5.5180e+02, 5.5100e+01, 1.9330e+02, 2.7000e+00, 1.2270e+03,\n",
       "       7.6820e+02, 8.5520e+02, 3.8010e+02, 9.4100e+01, 2.2280e+02,\n",
       "       1.5184e+03, 1.1924e+03, 1.2803e+03, 2.9400e+01, 7.6690e+02,\n",
       "       5.8780e+02, 6.9920e+02, 1.7000e+01, 1.8960e+02, 1.4060e+02,\n",
       "       1.3330e+02, 6.3390e+02, 2.2080e+02, 5.0260e+02, 3.8000e+00,\n",
       "       4.8130e+02, 2.4080e+02, 3.0770e+02, 6.5470e+02, 2.6610e+02,\n",
       "       4.4170e+02, 4.1570e+02, 1.6920e+02, 2.9200e+02, 8.1000e+00,\n",
       "       1.5332e+03, 1.3859e+03, 1.7762e+03, 3.8200e+01, 8.6150e+02,\n",
       "       1.2650e+02, 4.0260e+02, 5.2090e+02, 1.0720e+02, 3.3320e+02,\n",
       "       1.5000e+02, 5.7800e+01, 7.9300e+01, 5.1970e+02, 6.7900e+01,\n",
       "       1.9680e+02, 1.1933e+03, 7.6470e+02, 8.4400e+02, 3.7360e+02,\n",
       "       1.4867e+03, 1.1739e+03, 1.2789e+03, 7.4770e+02, 5.8760e+02,\n",
       "       6.8890e+02, 1.8660e+02, 1.3770e+02, 1.3370e+02, 6.0670e+02,\n",
       "       2.0130e+02, 4.8550e+02, 3.6000e+00, 4.5970e+02, 2.4430e+02,\n",
       "       2.9600e+02, 6.4520e+02, 2.6870e+02, 4.3000e+02, 3.0000e+00,\n",
       "       3.9810e+02, 1.6890e+02, 2.8070e+02, 1.5253e+03, 1.3790e+03,\n",
       "       1.7881e+03, 1.7927e+03, 5.6400e+01, 8.6690e+02, 1.3450e+02,\n",
       "       3.8560e+02, 5.1490e+02, 3.3000e+02, 1.5150e+02, 5.5600e+01,\n",
       "       7.9600e+01, 5.0650e+02, 7.1600e+01, 2.0940e+02, 1.1820e+03,\n",
       "       7.6210e+02, 8.4180e+02, 3.6930e+02, 9.4500e+01, 1.4748e+03,\n",
       "       1.1423e+03, 1.2785e+03, 1.1500e+01, 2.1200e+01, 7.4290e+02,\n",
       "       6.8810e+02, 2.2400e+01, 1.8620e+02, 1.4160e+02, 1.5930e+02,\n",
       "       6.0860e+02, 1.9550e+02, 4.9190e+02, 4.6280e+02, 2.4190e+02,\n",
       "       3.0200e+02, 6.2950e+02, 4.0490e+02, 1.8580e+02, 2.8360e+02,\n",
       "       7.3000e+00, 1.5269e+03, 1.4819e+03, 1.7819e+03, 7.8000e+00,\n",
       "       6.7800e+01, 8.6800e+02, 7.9100e+01, 3.8500e+02, 2.8000e+00,\n",
       "       5.1380e+02, 1.3570e+02, 3.3240e+02, 4.9000e+00, 1.4970e+02,\n",
       "       5.8500e+01, 8.0700e+01, 5.0110e+02, 2.1140e+02, 1.1534e+03,\n",
       "       8.2890e+02, 8.6910e+02, 3.7100e+02, 1.0730e+02, 2.2120e+02,\n",
       "       1.1000e+00, 1.4776e+03, 1.2784e+03, 1.3061e+03, 1.2700e+01,\n",
       "       2.2000e+01, 7.4340e+02, 6.4240e+02, 6.9450e+02, 2.2500e+01,\n",
       "       1.8690e+02, 1.4360e+02, 1.5870e+02, 6.0550e+02, 2.0810e+02,\n",
       "       4.9170e+02, 4.5610e+02, 2.7180e+02, 6.6280e+02, 2.9060e+02,\n",
       "       4.2290e+02, 3.9560e+02, 2.0880e+02, 1.3000e+00, 1.5348e+03,\n",
       "       1.4492e+03, 1.7906e+03, 7.9000e+00, 6.6700e+01, 8.6950e+02,\n",
       "       8.0500e+01, 3.8620e+02, 5.2210e+02, 1.4190e+02, 3.3550e+02,\n",
       "       1.5120e+02, 5.7300e+01, 4.9780e+02, 8.7000e+01, 2.1060e+02,\n",
       "       1.1104e+03, 8.0130e+02, 3.6810e+02, 1.0350e+02, 2.1170e+02,\n",
       "       1.4816e+03, 1.2613e+03, 1.3100e+03, 1.2600e+01, 7.3340e+02,\n",
       "       6.5880e+02, 6.8930e+02, 1.8600e+02, 1.4270e+02, 1.5610e+02,\n",
       "       6.0500e+02, 2.1450e+02, 5.0220e+02, 4.5230e+02, 2.8130e+02,\n",
       "       3.0190e+02, 3.1740e+02, 4.3010e+02, 3.9610e+02, 2.0270e+02,\n",
       "       2.8370e+02, 1.2000e+00, 1.5292e+03, 1.5365e+03, 8.8550e+02,\n",
       "       3.8920e+02, 5.2360e+02, 1.6580e+02, 3.3930e+02, 5.4000e+00,\n",
       "       5.8300e+01, 8.2700e+01, 1.0000e-01, 4.9560e+02, 9.2900e+01,\n",
       "       2.0960e+02, 1.1143e+03, 8.6020e+02, 8.7590e+02, 3.6400e+02,\n",
       "       1.2010e+02, 2.1540e+02, 1.4947e+03, 1.2970e+03, 1.3321e+03,\n",
       "       1.3500e+01, 2.5900e+01, 7.3840e+02, 6.9930e+02, 1.8790e+02,\n",
       "       1.3520e+02, 1.5800e+02, 4.0000e-01, 6.1410e+02, 2.2860e+02,\n",
       "       5.0170e+02, 4.3810e+02, 2.7490e+02, 3.0450e+02, 6.6020e+02,\n",
       "       3.3900e+02, 4.3080e+02, 3.9750e+02, 2.2750e+02, 2.8490e+02,\n",
       "       1.5225e+03, 1.5461e+03, 8.3000e+00, 6.0200e+01, 8.9430e+02,\n",
       "       9.0700e+01, 3.9840e+02, 5.3340e+02, 1.9740e+02, 3.4720e+02,\n",
       "       5.7000e+00, 1.5320e+02, 5.8600e+01, 8.4000e+01, 4.8910e+02,\n",
       "       9.7200e+01, 2.1470e+02, 4.7000e+00, 1.1076e+03, 8.6580e+02,\n",
       "       8.7690e+02, 3.6320e+02, 1.3100e+02, 2.1490e+02, 1.5080e+03,\n",
       "       1.3249e+03, 1.3336e+03, 1.6800e+01, 2.6600e+01, 7.3750e+02,\n",
       "       7.0480e+02, 6.8450e+02, 2.1100e+01, 1.4140e+02, 1.5740e+02,\n",
       "       6.1750e+02, 2.5400e+02, 5.0840e+02, 4.3690e+02, 2.7670e+02,\n",
       "       3.1070e+02, 6.5840e+02, 3.4920e+02, 4.4400e+02, 3.9630e+02,\n",
       "       2.3900e+02, 2.8850e+02, 1.5435e+03, 1.5093e+03, 8.4000e+00,\n",
       "       5.9300e+01, 8.7970e+02, 9.1500e+01, 3.8590e+02, 5.3050e+02,\n",
       "       1.7260e+02, 3.4740e+02, 6.2000e+00, 5.3200e+01, 4.8270e+02,\n",
       "       8.5600e+01, 2.1460e+02, 4.8000e+00, 8.0120e+02, 8.6300e+02,\n",
       "       1.1600e+01, 3.6790e+02, 1.2480e+02, 2.1070e+02, 1.4846e+03,\n",
       "       1.2719e+03, 1.3116e+03, 1.8700e+01, 2.4800e+01, 7.2300e+02,\n",
       "       6.8790e+02, 2.0900e+01, 1.9010e+02, 1.2610e+02, 1.5680e+02,\n",
       "       6.1110e+02, 2.4230e+02, 5.0500e+02, 4.2330e+02, 2.5130e+02,\n",
       "       3.0740e+02, 1.2300e+01, 6.5400e+02, 3.2900e+02, 4.3520e+02,\n",
       "       3.9310e+02, 2.3360e+02, 2.8780e+02, 1.5482e+03, 1.5577e+03,\n",
       "       6.3500e+01, 8.6700e+02, 1.1670e+02, 3.9440e+02, 2.0090e+02,\n",
       "       3.5110e+02, 1.5630e+02, 5.6100e+01, 7.9900e+01, 4.7200e+02,\n",
       "       9.1600e+01, 2.1530e+02, 5.0000e+00, 1.1033e+03, 8.4290e+02,\n",
       "       8.5680e+02, 1.3600e+01, 3.6730e+02, 1.4330e+02, 2.1150e+02,\n",
       "       1.4940e+03, 1.2586e+03, 1.3160e+03, 2.4300e+01, 7.2200e+02,\n",
       "       7.1220e+02, 6.8900e+02, 2.4400e+01, 1.8860e+02, 1.2500e+02,\n",
       "       1.5580e+02, 6.1240e+02, 2.5770e+02, 5.0610e+02, 2.5900e+02,\n",
       "       3.0750e+02, 6.6030e+02, 3.4960e+02, 4.2890e+02, 3.9230e+02,\n",
       "       2.8800e+02, 1.6000e+00, 1.6168e+03, 1.5957e+03, 9.6000e+00,\n",
       "       6.8500e+01, 8.8540e+02, 1.3280e+02, 3.8880e+02, 5.5800e+02,\n",
       "       2.2310e+02, 3.6290e+02, 5.6800e+01, 8.1700e+01, 4.8180e+02,\n",
       "       1.0240e+02, 2.2490e+02, 5.9000e+00, 1.1220e+03, 8.3520e+02,\n",
       "       8.6430e+02, 1.5200e+01, 3.7960e+02, 1.5170e+02, 2.2320e+02,\n",
       "       1.5614e+03, 1.3300e+03, 1.3460e+03, 2.1800e+01, 2.9200e+01,\n",
       "       7.3530e+02, 7.7750e+02, 6.9200e+02, 2.5500e+01, 1.9400e+02,\n",
       "       1.2400e+02, 1.5670e+02, 6.4010e+02, 3.2370e+02, 7.3400e+02,\n",
       "       4.3000e+00, 4.4290e+02, 2.6670e+02, 3.1610e+02, 6.7920e+02,\n",
       "       3.5740e+02, 4.3950e+02, 4.0470e+02, 2.4610e+02, 2.9750e+02,\n",
       "       1.6014e+03, 1.6791e+03, 1.7991e+03, 9.7000e+00, 6.8100e+01,\n",
       "       8.7880e+02, 1.3940e+02, 3.8750e+02, 5.5570e+02, 2.4280e+02,\n",
       "       3.6480e+02, 1.0000e+01, 8.0800e+01, 4.7350e+02, 1.0360e+02,\n",
       "       2.1520e+02, 5.1000e+00, 1.0947e+03, 9.0930e+02, 8.5380e+02,\n",
       "       1.5100e+01, 3.7050e+02, 1.5570e+02, 2.2140e+02, 1.5261e+03,\n",
       "       1.3912e+03, 1.3372e+03, 2.1600e+01, 3.1500e+01, 9.2590e+02,\n",
       "       7.8660e+02, 6.8230e+02, 9.9000e+01, 1.8920e+02, 1.3470e+02,\n",
       "       1.5840e+02, 6.4500e+02, 3.4910e+02, 7.5160e+02, 4.2000e+00,\n",
       "       4.3880e+02, 2.7510e+02, 3.1940e+02, 6.8110e+02, 3.7000e+02,\n",
       "       4.3360e+02, 4.0080e+02, 2.7120e+02, 2.9500e+02])"
      ]
     },
     "execution_count": 13,
     "metadata": {},
     "output_type": "execute_result"
    }
   ],
   "source": [
    "data['Total Household Waste Generated (Tons)'].unique()"
   ]
  },
  {
   "cell_type": "code",
   "execution_count": 14,
   "id": "68f78c33-cf1c-4976-abb6-000f4dd2a99e",
   "metadata": {},
   "outputs": [
    {
     "data": {
      "text/plain": [
       "array([150.        , 114.        , 154.        ,   1.        ,\n",
       "       135.        ,   5.        , 288.        ,  29.        ,\n",
       "       115.        , 115.51604278, 217.        ,  28.        ,\n",
       "         3.        , 252.        ,  86.        , 143.        ,\n",
       "        21.        ,  98.        , 210.        , 119.        ,\n",
       "       133.        , 237.        ,  41.        , 147.        ,\n",
       "       207.        , 138.        , 145.        , 198.        ,\n",
       "       131.        , 158.        , 254.        , 152.        ,\n",
       "       120.        , 162.        ,  47.        , 137.        ,\n",
       "       251.        ,  73.        , 136.        ,   8.        ,\n",
       "       243.        ,  99.        , 146.        , 211.        ,\n",
       "        61.        ,   6.        , 159.        , 128.        ,\n",
       "         4.        ,  34.        , 220.        ,   2.        ,\n",
       "       247.        ,  88.        ,  94.        , 208.        ,\n",
       "       116.        , 235.        ,  42.        , 144.        ,\n",
       "       199.        , 140.        , 129.        , 161.        ,\n",
       "       255.        , 134.        , 121.        , 160.        ,\n",
       "        51.        , 236.        ,  74.        , 232.        ,\n",
       "        95.        , 202.        ,  62.        , 148.        ,\n",
       "       163.        , 130.        , 277.        ,  35.        ,\n",
       "       122.        , 223.        ,  22.        , 250.        ,\n",
       "       349.        ,  20.        ,  96.        , 212.        ,\n",
       "       142.        , 231.        ,  44.        , 155.        ,\n",
       "       132.        , 167.        , 127.        , 156.        ,\n",
       "        49.        , 219.        ,  85.        , 151.        ,\n",
       "       205.        ,  63.        , 139.        , 164.        ,\n",
       "       272.        ,  36.        , 123.        ,  90.        ,\n",
       "       100.        , 233.        ,  48.        , 193.        ,\n",
       "       241.        ,  52.        , 126.        , 218.        ,\n",
       "        91.        , 125.        , 228.        , 187.        ,\n",
       "        67.        , 262.        ,  32.        , 200.        ,\n",
       "       339.        , 102.        , 204.        , 194.        ,\n",
       "       191.        , 168.        , 240.        , 153.        ,\n",
       "        92.        , 225.        , 183.        , 265.        ,\n",
       "        37.        , 117.        ,  39.        , 244.        ,\n",
       "       330.        ,  53.        , 192.        , 171.        ,\n",
       "       227.        , 188.        ,   7.        , 258.        ,\n",
       "        33.        , 213.        ,  40.        , 317.        ,\n",
       "       101.        , 230.        ,  50.        , 242.        ,\n",
       "       185.        ,  72.        , 169.        ,  38.        ,\n",
       "        45.        , 245.        ,  87.        , 321.        ,\n",
       "       113.        ,  59.        , 195.        , 165.        ,\n",
       "       175.        , 190.        , 141.        ,  54.        ,\n",
       "       124.        , 106.        , 234.        ,  78.        ,\n",
       "       229.        , 300.        ,  55.        , 173.        ,\n",
       "       203.        , 108.        , 253.        ,  46.        ,\n",
       "       290.        , 196.        , 189.        , 186.        ,\n",
       "       172.        , 206.        , 224.        , 166.        ,\n",
       "        23.        , 111.        , 209.        , 226.        ,\n",
       "       284.        , 149.        , 103.        ,  97.        ,\n",
       "       110.        ,  57.        , 279.        , 118.        ,\n",
       "       180.        ,  64.        , 181.        , 170.        ,\n",
       "       157.        , 201.        , 182.        ,  93.        ,\n",
       "       248.        ,  24.        , 109.        ,  66.        ,\n",
       "       274.        , 179.        ,  75.        ,  56.        ,\n",
       "       184.        , 105.        ,  25.        ,  79.        ,\n",
       "       267.        , 177.        ,  81.        , 197.        ,\n",
       "        69.        , 107.        ,  80.        ,  82.        ,\n",
       "        89.        , 176.        , 174.        ,  84.        ,\n",
       "       260.        , 178.        , 239.        ])"
      ]
     },
     "execution_count": 14,
     "metadata": {},
     "output_type": "execute_result"
    }
   ],
   "source": [
    "data['Household Waste Generated per Inhabitant (kg)'].unique()"
   ]
  },
  {
   "cell_type": "code",
   "execution_count": 15,
   "id": "b6ae6d87-5791-425e-a34c-c303b9ad482f",
   "metadata": {},
   "outputs": [],
   "source": [
    "data_bulk_waste = data[data['Types of Waste'] == 'Residual household and bulky wastes']"
   ]
  },
  {
   "cell_type": "code",
   "execution_count": 16,
   "id": "5f7afbb3-d656-46a8-8f7e-d88a4cbac861",
   "metadata": {},
   "outputs": [
    {
     "data": {
      "text/html": [
       "<div>\n",
       "<style scoped>\n",
       "    .dataframe tbody tr th:only-of-type {\n",
       "        vertical-align: middle;\n",
       "    }\n",
       "\n",
       "    .dataframe tbody tr th {\n",
       "        vertical-align: top;\n",
       "    }\n",
       "\n",
       "    .dataframe thead th {\n",
       "        text-align: right;\n",
       "    }\n",
       "</style>\n",
       "<table border=\"1\" class=\"dataframe\">\n",
       "  <thead>\n",
       "    <tr style=\"text-align: right;\">\n",
       "      <th></th>\n",
       "      <th>Year</th>\n",
       "      <th>States</th>\n",
       "      <th>Types of Waste</th>\n",
       "      <th>Total Household Waste Generated (Tons)</th>\n",
       "      <th>Household Waste Generated per Inhabitant (kg)</th>\n",
       "    </tr>\n",
       "  </thead>\n",
       "  <tbody>\n",
       "    <tr>\n",
       "      <th>0</th>\n",
       "      <td>2004</td>\n",
       "      <td>Baden-Württemberg</td>\n",
       "      <td>Residual household and bulky wastes</td>\n",
       "      <td>1605.6</td>\n",
       "      <td>150.0</td>\n",
       "    </tr>\n",
       "    <tr>\n",
       "      <th>6</th>\n",
       "      <td>2004</td>\n",
       "      <td>Berlin</td>\n",
       "      <td>Residual household and bulky wastes</td>\n",
       "      <td>975.0</td>\n",
       "      <td>288.0</td>\n",
       "    </tr>\n",
       "    <tr>\n",
       "      <th>10</th>\n",
       "      <td>2004</td>\n",
       "      <td>Brandenburg</td>\n",
       "      <td>Residual household and bulky wastes</td>\n",
       "      <td>558.2</td>\n",
       "      <td>217.0</td>\n",
       "    </tr>\n",
       "    <tr>\n",
       "      <th>14</th>\n",
       "      <td>2004</td>\n",
       "      <td>Bremen</td>\n",
       "      <td>Residual household and bulky wastes</td>\n",
       "      <td>167.0</td>\n",
       "      <td>252.0</td>\n",
       "    </tr>\n",
       "    <tr>\n",
       "      <th>21</th>\n",
       "      <td>2004</td>\n",
       "      <td>Hessen</td>\n",
       "      <td>Residual household and bulky wastes</td>\n",
       "      <td>1278.7</td>\n",
       "      <td>210.0</td>\n",
       "    </tr>\n",
       "  </tbody>\n",
       "</table>\n",
       "</div>"
      ],
      "text/plain": [
       "    Year             States                       Types of Waste  \\\n",
       "0   2004  Baden-Württemberg  Residual household and bulky wastes   \n",
       "6   2004             Berlin  Residual household and bulky wastes   \n",
       "10  2004        Brandenburg  Residual household and bulky wastes   \n",
       "14  2004             Bremen  Residual household and bulky wastes   \n",
       "21  2004             Hessen  Residual household and bulky wastes   \n",
       "\n",
       "    Total Household Waste Generated (Tons)  \\\n",
       "0                                   1605.6   \n",
       "6                                    975.0   \n",
       "10                                   558.2   \n",
       "14                                   167.0   \n",
       "21                                  1278.7   \n",
       "\n",
       "    Household Waste Generated per Inhabitant (kg)  \n",
       "0                                           150.0  \n",
       "6                                           288.0  \n",
       "10                                          217.0  \n",
       "14                                          252.0  \n",
       "21                                          210.0  "
      ]
     },
     "execution_count": 16,
     "metadata": {},
     "output_type": "execute_result"
    }
   ],
   "source": [
    "data_bulk_waste.head()"
   ]
  },
  {
   "cell_type": "code",
   "execution_count": 17,
   "id": "8b45b6e9-0339-4760-9783-a6e5a8e2b056",
   "metadata": {},
   "outputs": [],
   "source": [
    "data_bulk_waste = data_bulk_waste.rename(columns={\"Household Waste Generated per Inhabitant (kg)\": \"Waste\"})"
   ]
  },
  {
   "cell_type": "code",
   "execution_count": 18,
   "id": "83c63512-dd9a-4cb8-8a68-b6a2a9e4b3d9",
   "metadata": {},
   "outputs": [
    {
     "data": {
      "text/html": [
       "<div>\n",
       "<style scoped>\n",
       "    .dataframe tbody tr th:only-of-type {\n",
       "        vertical-align: middle;\n",
       "    }\n",
       "\n",
       "    .dataframe tbody tr th {\n",
       "        vertical-align: top;\n",
       "    }\n",
       "\n",
       "    .dataframe thead th {\n",
       "        text-align: right;\n",
       "    }\n",
       "</style>\n",
       "<table border=\"1\" class=\"dataframe\">\n",
       "  <thead>\n",
       "    <tr style=\"text-align: right;\">\n",
       "      <th></th>\n",
       "      <th>Year</th>\n",
       "      <th>States</th>\n",
       "      <th>Types of Waste</th>\n",
       "      <th>Total Household Waste Generated (Tons)</th>\n",
       "      <th>Waste</th>\n",
       "    </tr>\n",
       "  </thead>\n",
       "  <tbody>\n",
       "    <tr>\n",
       "      <th>0</th>\n",
       "      <td>2004</td>\n",
       "      <td>Baden-Württemberg</td>\n",
       "      <td>Residual household and bulky wastes</td>\n",
       "      <td>1605.6</td>\n",
       "      <td>150.0</td>\n",
       "    </tr>\n",
       "    <tr>\n",
       "      <th>6</th>\n",
       "      <td>2004</td>\n",
       "      <td>Berlin</td>\n",
       "      <td>Residual household and bulky wastes</td>\n",
       "      <td>975.0</td>\n",
       "      <td>288.0</td>\n",
       "    </tr>\n",
       "    <tr>\n",
       "      <th>10</th>\n",
       "      <td>2004</td>\n",
       "      <td>Brandenburg</td>\n",
       "      <td>Residual household and bulky wastes</td>\n",
       "      <td>558.2</td>\n",
       "      <td>217.0</td>\n",
       "    </tr>\n",
       "    <tr>\n",
       "      <th>14</th>\n",
       "      <td>2004</td>\n",
       "      <td>Bremen</td>\n",
       "      <td>Residual household and bulky wastes</td>\n",
       "      <td>167.0</td>\n",
       "      <td>252.0</td>\n",
       "    </tr>\n",
       "    <tr>\n",
       "      <th>21</th>\n",
       "      <td>2004</td>\n",
       "      <td>Hessen</td>\n",
       "      <td>Residual household and bulky wastes</td>\n",
       "      <td>1278.7</td>\n",
       "      <td>210.0</td>\n",
       "    </tr>\n",
       "  </tbody>\n",
       "</table>\n",
       "</div>"
      ],
      "text/plain": [
       "    Year             States                       Types of Waste  \\\n",
       "0   2004  Baden-Württemberg  Residual household and bulky wastes   \n",
       "6   2004             Berlin  Residual household and bulky wastes   \n",
       "10  2004        Brandenburg  Residual household and bulky wastes   \n",
       "14  2004             Bremen  Residual household and bulky wastes   \n",
       "21  2004             Hessen  Residual household and bulky wastes   \n",
       "\n",
       "    Total Household Waste Generated (Tons)  Waste  \n",
       "0                                   1605.6  150.0  \n",
       "6                                    975.0  288.0  \n",
       "10                                   558.2  217.0  \n",
       "14                                   167.0  252.0  \n",
       "21                                  1278.7  210.0  "
      ]
     },
     "execution_count": 18,
     "metadata": {},
     "output_type": "execute_result"
    }
   ],
   "source": [
    "data_bulk_waste.head()"
   ]
  },
  {
   "cell_type": "code",
   "execution_count": 19,
   "id": "561a7f67-7aeb-4942-a059-d7ab966fd8d6",
   "metadata": {},
   "outputs": [],
   "source": [
    "data_bulk_waste.drop(['Types of Waste','Total Household Waste Generated (Tons)'],axis=1,inplace=True)"
   ]
  },
  {
   "cell_type": "code",
   "execution_count": 32,
   "id": "bfbb67b5-e123-4d0a-8187-91af7755a1c4",
   "metadata": {},
   "outputs": [
    {
     "data": {
      "text/html": [
       "<div>\n",
       "<style scoped>\n",
       "    .dataframe tbody tr th:only-of-type {\n",
       "        vertical-align: middle;\n",
       "    }\n",
       "\n",
       "    .dataframe tbody tr th {\n",
       "        vertical-align: top;\n",
       "    }\n",
       "\n",
       "    .dataframe thead th {\n",
       "        text-align: right;\n",
       "    }\n",
       "</style>\n",
       "<table border=\"1\" class=\"dataframe\">\n",
       "  <thead>\n",
       "    <tr style=\"text-align: right;\">\n",
       "      <th></th>\n",
       "      <th>Year</th>\n",
       "      <th>States</th>\n",
       "      <th>Waste</th>\n",
       "    </tr>\n",
       "  </thead>\n",
       "  <tbody>\n",
       "    <tr>\n",
       "      <th>0</th>\n",
       "      <td>2004</td>\n",
       "      <td>Baden-Württemberg</td>\n",
       "      <td>150.0</td>\n",
       "    </tr>\n",
       "    <tr>\n",
       "      <th>6</th>\n",
       "      <td>2004</td>\n",
       "      <td>Berlin</td>\n",
       "      <td>288.0</td>\n",
       "    </tr>\n",
       "    <tr>\n",
       "      <th>10</th>\n",
       "      <td>2004</td>\n",
       "      <td>Brandenburg</td>\n",
       "      <td>217.0</td>\n",
       "    </tr>\n",
       "    <tr>\n",
       "      <th>14</th>\n",
       "      <td>2004</td>\n",
       "      <td>Bremen</td>\n",
       "      <td>252.0</td>\n",
       "    </tr>\n",
       "    <tr>\n",
       "      <th>21</th>\n",
       "      <td>2004</td>\n",
       "      <td>Hessen</td>\n",
       "      <td>210.0</td>\n",
       "    </tr>\n",
       "  </tbody>\n",
       "</table>\n",
       "</div>"
      ],
      "text/plain": [
       "    Year             States  Waste\n",
       "0   2004  Baden-Württemberg  150.0\n",
       "6   2004             Berlin  288.0\n",
       "10  2004        Brandenburg  217.0\n",
       "14  2004             Bremen  252.0\n",
       "21  2004             Hessen  210.0"
      ]
     },
     "execution_count": 32,
     "metadata": {},
     "output_type": "execute_result"
    }
   ],
   "source": [
    "data_bulk_waste.head()"
   ]
  },
  {
   "cell_type": "code",
   "execution_count": 33,
   "id": "4b8accb6-299a-4aa7-8b6c-bbca05277e5b",
   "metadata": {},
   "outputs": [],
   "source": [
    "y = data_bulk_waste['Waste']"
   ]
  },
  {
   "cell_type": "code",
   "execution_count": 34,
   "id": "84dd703c-9623-4a06-a19e-6cc2efb9551b",
   "metadata": {},
   "outputs": [
    {
     "data": {
      "text/plain": [
       "0     150.0\n",
       "6     288.0\n",
       "10    217.0\n",
       "14    252.0\n",
       "21    210.0\n",
       "Name: Waste, dtype: float64"
      ]
     },
     "execution_count": 34,
     "metadata": {},
     "output_type": "execute_result"
    }
   ],
   "source": [
    "y.head()"
   ]
  },
  {
   "cell_type": "code",
   "execution_count": 35,
   "id": "5deec586-9cc4-485a-9148-c921fa1060ad",
   "metadata": {},
   "outputs": [],
   "source": [
    "data_bulk_waste.drop(['Waste'],axis=1,inplace=True)"
   ]
  },
  {
   "cell_type": "code",
   "execution_count": 36,
   "id": "3f0158fd-23ce-41b0-99a9-ec21db443267",
   "metadata": {},
   "outputs": [
    {
     "data": {
      "text/html": [
       "<div>\n",
       "<style scoped>\n",
       "    .dataframe tbody tr th:only-of-type {\n",
       "        vertical-align: middle;\n",
       "    }\n",
       "\n",
       "    .dataframe tbody tr th {\n",
       "        vertical-align: top;\n",
       "    }\n",
       "\n",
       "    .dataframe thead th {\n",
       "        text-align: right;\n",
       "    }\n",
       "</style>\n",
       "<table border=\"1\" class=\"dataframe\">\n",
       "  <thead>\n",
       "    <tr style=\"text-align: right;\">\n",
       "      <th></th>\n",
       "      <th>Year</th>\n",
       "      <th>States</th>\n",
       "    </tr>\n",
       "  </thead>\n",
       "  <tbody>\n",
       "    <tr>\n",
       "      <th>0</th>\n",
       "      <td>2004</td>\n",
       "      <td>Baden-Württemberg</td>\n",
       "    </tr>\n",
       "    <tr>\n",
       "      <th>6</th>\n",
       "      <td>2004</td>\n",
       "      <td>Berlin</td>\n",
       "    </tr>\n",
       "    <tr>\n",
       "      <th>10</th>\n",
       "      <td>2004</td>\n",
       "      <td>Brandenburg</td>\n",
       "    </tr>\n",
       "    <tr>\n",
       "      <th>14</th>\n",
       "      <td>2004</td>\n",
       "      <td>Bremen</td>\n",
       "    </tr>\n",
       "    <tr>\n",
       "      <th>21</th>\n",
       "      <td>2004</td>\n",
       "      <td>Hessen</td>\n",
       "    </tr>\n",
       "    <tr>\n",
       "      <th>...</th>\n",
       "      <td>...</td>\n",
       "      <td>...</td>\n",
       "    </tr>\n",
       "    <tr>\n",
       "      <th>1026</th>\n",
       "      <td>2021</td>\n",
       "      <td>Saarland</td>\n",
       "    </tr>\n",
       "    <tr>\n",
       "      <th>1030</th>\n",
       "      <td>2021</td>\n",
       "      <td>Sachsen</td>\n",
       "    </tr>\n",
       "    <tr>\n",
       "      <th>1034</th>\n",
       "      <td>2021</td>\n",
       "      <td>Sachsen-Anhalt</td>\n",
       "    </tr>\n",
       "    <tr>\n",
       "      <th>1038</th>\n",
       "      <td>2021</td>\n",
       "      <td>Schleswig-Holstein</td>\n",
       "    </tr>\n",
       "    <tr>\n",
       "      <th>1042</th>\n",
       "      <td>2021</td>\n",
       "      <td>Thüringen</td>\n",
       "    </tr>\n",
       "  </tbody>\n",
       "</table>\n",
       "<p>250 rows × 2 columns</p>\n",
       "</div>"
      ],
      "text/plain": [
       "      Year              States\n",
       "0     2004   Baden-Württemberg\n",
       "6     2004              Berlin\n",
       "10    2004         Brandenburg\n",
       "14    2004              Bremen\n",
       "21    2004              Hessen\n",
       "...    ...                 ...\n",
       "1026  2021            Saarland\n",
       "1030  2021             Sachsen\n",
       "1034  2021      Sachsen-Anhalt\n",
       "1038  2021  Schleswig-Holstein\n",
       "1042  2021           Thüringen\n",
       "\n",
       "[250 rows x 2 columns]"
      ]
     },
     "execution_count": 36,
     "metadata": {},
     "output_type": "execute_result"
    }
   ],
   "source": [
    "data_bulk_waste"
   ]
  },
  {
   "cell_type": "code",
   "execution_count": null,
   "id": "47887e3e-d977-4169-9ddf-1c05be904ac4",
   "metadata": {},
   "outputs": [],
   "source": []
  },
  {
   "cell_type": "code",
   "execution_count": 38,
   "id": "1a6d0296-6833-4485-a783-3e4ef7907d3a",
   "metadata": {},
   "outputs": [],
   "source": [
    "#Step-1\n",
    "X_train,X_test,y_train,y_test = train_test_split(data_bulk_waste,y,test_size=0.2,random_state=42)"
   ]
  },
  {
   "cell_type": "code",
   "execution_count": 39,
   "id": "1a48dbd4-dcc3-43cc-8af7-1806eba75adc",
   "metadata": {},
   "outputs": [
    {
     "data": {
      "text/html": [
       "<div>\n",
       "<style scoped>\n",
       "    .dataframe tbody tr th:only-of-type {\n",
       "        vertical-align: middle;\n",
       "    }\n",
       "\n",
       "    .dataframe tbody tr th {\n",
       "        vertical-align: top;\n",
       "    }\n",
       "\n",
       "    .dataframe thead th {\n",
       "        text-align: right;\n",
       "    }\n",
       "</style>\n",
       "<table border=\"1\" class=\"dataframe\">\n",
       "  <thead>\n",
       "    <tr style=\"text-align: right;\">\n",
       "      <th></th>\n",
       "      <th>Year</th>\n",
       "      <th>States</th>\n",
       "    </tr>\n",
       "  </thead>\n",
       "  <tbody>\n",
       "    <tr>\n",
       "      <th>563</th>\n",
       "      <td>2013</td>\n",
       "      <td>Rheinland-Pfalz</td>\n",
       "    </tr>\n",
       "    <tr>\n",
       "      <th>943</th>\n",
       "      <td>2020</td>\n",
       "      <td>Bremen</td>\n",
       "    </tr>\n",
       "    <tr>\n",
       "      <th>997</th>\n",
       "      <td>2021</td>\n",
       "      <td>Brandenburg</td>\n",
       "    </tr>\n",
       "    <tr>\n",
       "      <th>508</th>\n",
       "      <td>2012</td>\n",
       "      <td>Saarland</td>\n",
       "    </tr>\n",
       "    <tr>\n",
       "      <th>579</th>\n",
       "      <td>2013</td>\n",
       "      <td>Schleswig-Holstein</td>\n",
       "    </tr>\n",
       "  </tbody>\n",
       "</table>\n",
       "</div>"
      ],
      "text/plain": [
       "     Year              States\n",
       "563  2013     Rheinland-Pfalz\n",
       "943  2020              Bremen\n",
       "997  2021         Brandenburg\n",
       "508  2012            Saarland\n",
       "579  2013  Schleswig-Holstein"
      ]
     },
     "execution_count": 39,
     "metadata": {},
     "output_type": "execute_result"
    }
   ],
   "source": [
    "X_train.head()"
   ]
  },
  {
   "cell_type": "code",
   "execution_count": 40,
   "id": "0a0c77b9-a220-4fe5-ac23-a9520114ee6d",
   "metadata": {},
   "outputs": [
    {
     "data": {
      "text/plain": [
       "425    245.0\n",
       "608    189.0\n",
       "273    240.0\n",
       "116    148.0\n",
       "14     252.0\n",
       "Name: Waste, dtype: float64"
      ]
     },
     "execution_count": 40,
     "metadata": {},
     "output_type": "execute_result"
    }
   ],
   "source": [
    "y_train.sample(5)"
   ]
  },
  {
   "cell_type": "code",
   "execution_count": 51,
   "id": "c7c400c7-ad9b-49ce-8f82-09b3efd408ba",
   "metadata": {},
   "outputs": [],
   "source": [
    "numeric_features = ['Year'] \n",
    "categorical_features = ['States']"
   ]
  },
  {
   "cell_type": "code",
   "execution_count": 52,
   "id": "8e222fad-0fc0-4352-a40b-08f6e4653a6a",
   "metadata": {},
   "outputs": [],
   "source": [
    "numeric_transformer = Pipeline(steps=[('scaler', MinMaxScaler(feature_range=(-1, 1)))])"
   ]
  },
  {
   "cell_type": "code",
   "execution_count": 53,
   "id": "e78d2e98-614f-4f6c-8bbc-31ba4c56dedd",
   "metadata": {},
   "outputs": [],
   "source": [
    "categorical_transformer = Pipeline(steps=[\n",
    "    ('onehot', OneHotEncoder(sparse_output=True, handle_unknown='ignore'))])"
   ]
  },
  {
   "cell_type": "code",
   "execution_count": 54,
   "id": "28a95d86-bc8a-4ff3-a627-204653f3705f",
   "metadata": {},
   "outputs": [],
   "source": [
    "preprocessor = ColumnTransformer(\n",
    "    transformers=[\n",
    "        ('num', numeric_transformer, numeric_features),\n",
    "        ('cat', categorical_transformer, categorical_features)\n",
    "    ])"
   ]
  },
  {
   "cell_type": "code",
   "execution_count": 55,
   "id": "c981d04a-cc5c-4ae1-9b67-f14e8eccc2ae",
   "metadata": {},
   "outputs": [],
   "source": [
    "# train the model\n",
    "random_forest = RandomForestRegressor(random_state=42)\n",
    "#DecisionTreeRegressor(random_state=42)"
   ]
  },
  {
   "cell_type": "raw",
   "id": "897c2491-a249-43c4-908d-b605a0a9b2ad",
   "metadata": {},
   "source": [
    "Create Pipeline"
   ]
  },
  {
   "cell_type": "code",
   "execution_count": 56,
   "id": "0c0a5817-41f1-4aaa-83c1-462cd6061959",
   "metadata": {},
   "outputs": [],
   "source": [
    "from sklearn import set_config\n",
    "set_config(display='diagram')"
   ]
  },
  {
   "cell_type": "code",
   "execution_count": 57,
   "id": "ded7b05a-9dcf-4a76-9704-a85d40acfb0f",
   "metadata": {},
   "outputs": [],
   "source": [
    "model = Pipeline(steps=[\n",
    "    ('precprocessor', preprocessor),\n",
    "   # ('feature_selection',feature_selection),\n",
    "    ('random_forest', random_forest)\n",
    "])"
   ]
  },
  {
   "cell_type": "code",
   "execution_count": 58,
   "id": "b276fcdf-c039-4ff6-95e1-97ef0364cbe1",
   "metadata": {},
   "outputs": [
    {
     "data": {
      "text/html": [
       "<style>#sk-container-id-1 {color: black;}#sk-container-id-1 pre{padding: 0;}#sk-container-id-1 div.sk-toggleable {background-color: white;}#sk-container-id-1 label.sk-toggleable__label {cursor: pointer;display: block;width: 100%;margin-bottom: 0;padding: 0.3em;box-sizing: border-box;text-align: center;}#sk-container-id-1 label.sk-toggleable__label-arrow:before {content: \"▸\";float: left;margin-right: 0.25em;color: #696969;}#sk-container-id-1 label.sk-toggleable__label-arrow:hover:before {color: black;}#sk-container-id-1 div.sk-estimator:hover label.sk-toggleable__label-arrow:before {color: black;}#sk-container-id-1 div.sk-toggleable__content {max-height: 0;max-width: 0;overflow: hidden;text-align: left;background-color: #f0f8ff;}#sk-container-id-1 div.sk-toggleable__content pre {margin: 0.2em;color: black;border-radius: 0.25em;background-color: #f0f8ff;}#sk-container-id-1 input.sk-toggleable__control:checked~div.sk-toggleable__content {max-height: 200px;max-width: 100%;overflow: auto;}#sk-container-id-1 input.sk-toggleable__control:checked~label.sk-toggleable__label-arrow:before {content: \"▾\";}#sk-container-id-1 div.sk-estimator input.sk-toggleable__control:checked~label.sk-toggleable__label {background-color: #d4ebff;}#sk-container-id-1 div.sk-label input.sk-toggleable__control:checked~label.sk-toggleable__label {background-color: #d4ebff;}#sk-container-id-1 input.sk-hidden--visually {border: 0;clip: rect(1px 1px 1px 1px);clip: rect(1px, 1px, 1px, 1px);height: 1px;margin: -1px;overflow: hidden;padding: 0;position: absolute;width: 1px;}#sk-container-id-1 div.sk-estimator {font-family: monospace;background-color: #f0f8ff;border: 1px dotted black;border-radius: 0.25em;box-sizing: border-box;margin-bottom: 0.5em;}#sk-container-id-1 div.sk-estimator:hover {background-color: #d4ebff;}#sk-container-id-1 div.sk-parallel-item::after {content: \"\";width: 100%;border-bottom: 1px solid gray;flex-grow: 1;}#sk-container-id-1 div.sk-label:hover label.sk-toggleable__label {background-color: #d4ebff;}#sk-container-id-1 div.sk-serial::before {content: \"\";position: absolute;border-left: 1px solid gray;box-sizing: border-box;top: 0;bottom: 0;left: 50%;z-index: 0;}#sk-container-id-1 div.sk-serial {display: flex;flex-direction: column;align-items: center;background-color: white;padding-right: 0.2em;padding-left: 0.2em;position: relative;}#sk-container-id-1 div.sk-item {position: relative;z-index: 1;}#sk-container-id-1 div.sk-parallel {display: flex;align-items: stretch;justify-content: center;background-color: white;position: relative;}#sk-container-id-1 div.sk-item::before, #sk-container-id-1 div.sk-parallel-item::before {content: \"\";position: absolute;border-left: 1px solid gray;box-sizing: border-box;top: 0;bottom: 0;left: 50%;z-index: -1;}#sk-container-id-1 div.sk-parallel-item {display: flex;flex-direction: column;z-index: 1;position: relative;background-color: white;}#sk-container-id-1 div.sk-parallel-item:first-child::after {align-self: flex-end;width: 50%;}#sk-container-id-1 div.sk-parallel-item:last-child::after {align-self: flex-start;width: 50%;}#sk-container-id-1 div.sk-parallel-item:only-child::after {width: 0;}#sk-container-id-1 div.sk-dashed-wrapped {border: 1px dashed gray;margin: 0 0.4em 0.5em 0.4em;box-sizing: border-box;padding-bottom: 0.4em;background-color: white;}#sk-container-id-1 div.sk-label label {font-family: monospace;font-weight: bold;display: inline-block;line-height: 1.2em;}#sk-container-id-1 div.sk-label-container {text-align: center;}#sk-container-id-1 div.sk-container {/* jupyter's `normalize.less` sets `[hidden] { display: none; }` but bootstrap.min.css set `[hidden] { display: none !important; }` so we also need the `!important` here to be able to override the default hidden behavior on the sphinx rendered scikit-learn.org. See: https://github.com/scikit-learn/scikit-learn/issues/21755 */display: inline-block !important;position: relative;}#sk-container-id-1 div.sk-text-repr-fallback {display: none;}</style><div id=\"sk-container-id-1\" class=\"sk-top-container\"><div class=\"sk-text-repr-fallback\"><pre>Pipeline(steps=[(&#x27;precprocessor&#x27;,\n",
       "                 ColumnTransformer(transformers=[(&#x27;num&#x27;,\n",
       "                                                  Pipeline(steps=[(&#x27;scaler&#x27;,\n",
       "                                                                   MinMaxScaler(feature_range=(-1,\n",
       "                                                                                               1)))]),\n",
       "                                                  [&#x27;Year&#x27;]),\n",
       "                                                 (&#x27;cat&#x27;,\n",
       "                                                  Pipeline(steps=[(&#x27;onehot&#x27;,\n",
       "                                                                   OneHotEncoder(handle_unknown=&#x27;ignore&#x27;))]),\n",
       "                                                  [&#x27;States&#x27;])])),\n",
       "                (&#x27;random_forest&#x27;, RandomForestRegressor(random_state=42))])</pre><b>In a Jupyter environment, please rerun this cell to show the HTML representation or trust the notebook. <br />On GitHub, the HTML representation is unable to render, please try loading this page with nbviewer.org.</b></div><div class=\"sk-container\" hidden><div class=\"sk-item sk-dashed-wrapped\"><div class=\"sk-label-container\"><div class=\"sk-label sk-toggleable\"><input class=\"sk-toggleable__control sk-hidden--visually\" id=\"sk-estimator-id-1\" type=\"checkbox\" ><label for=\"sk-estimator-id-1\" class=\"sk-toggleable__label sk-toggleable__label-arrow\">Pipeline</label><div class=\"sk-toggleable__content\"><pre>Pipeline(steps=[(&#x27;precprocessor&#x27;,\n",
       "                 ColumnTransformer(transformers=[(&#x27;num&#x27;,\n",
       "                                                  Pipeline(steps=[(&#x27;scaler&#x27;,\n",
       "                                                                   MinMaxScaler(feature_range=(-1,\n",
       "                                                                                               1)))]),\n",
       "                                                  [&#x27;Year&#x27;]),\n",
       "                                                 (&#x27;cat&#x27;,\n",
       "                                                  Pipeline(steps=[(&#x27;onehot&#x27;,\n",
       "                                                                   OneHotEncoder(handle_unknown=&#x27;ignore&#x27;))]),\n",
       "                                                  [&#x27;States&#x27;])])),\n",
       "                (&#x27;random_forest&#x27;, RandomForestRegressor(random_state=42))])</pre></div></div></div><div class=\"sk-serial\"><div class=\"sk-item sk-dashed-wrapped\"><div class=\"sk-label-container\"><div class=\"sk-label sk-toggleable\"><input class=\"sk-toggleable__control sk-hidden--visually\" id=\"sk-estimator-id-2\" type=\"checkbox\" ><label for=\"sk-estimator-id-2\" class=\"sk-toggleable__label sk-toggleable__label-arrow\">precprocessor: ColumnTransformer</label><div class=\"sk-toggleable__content\"><pre>ColumnTransformer(transformers=[(&#x27;num&#x27;,\n",
       "                                 Pipeline(steps=[(&#x27;scaler&#x27;,\n",
       "                                                  MinMaxScaler(feature_range=(-1,\n",
       "                                                                              1)))]),\n",
       "                                 [&#x27;Year&#x27;]),\n",
       "                                (&#x27;cat&#x27;,\n",
       "                                 Pipeline(steps=[(&#x27;onehot&#x27;,\n",
       "                                                  OneHotEncoder(handle_unknown=&#x27;ignore&#x27;))]),\n",
       "                                 [&#x27;States&#x27;])])</pre></div></div></div><div class=\"sk-parallel\"><div class=\"sk-parallel-item\"><div class=\"sk-item\"><div class=\"sk-label-container\"><div class=\"sk-label sk-toggleable\"><input class=\"sk-toggleable__control sk-hidden--visually\" id=\"sk-estimator-id-3\" type=\"checkbox\" ><label for=\"sk-estimator-id-3\" class=\"sk-toggleable__label sk-toggleable__label-arrow\">num</label><div class=\"sk-toggleable__content\"><pre>[&#x27;Year&#x27;]</pre></div></div></div><div class=\"sk-serial\"><div class=\"sk-item\"><div class=\"sk-serial\"><div class=\"sk-item\"><div class=\"sk-estimator sk-toggleable\"><input class=\"sk-toggleable__control sk-hidden--visually\" id=\"sk-estimator-id-4\" type=\"checkbox\" ><label for=\"sk-estimator-id-4\" class=\"sk-toggleable__label sk-toggleable__label-arrow\">MinMaxScaler</label><div class=\"sk-toggleable__content\"><pre>MinMaxScaler(feature_range=(-1, 1))</pre></div></div></div></div></div></div></div></div><div class=\"sk-parallel-item\"><div class=\"sk-item\"><div class=\"sk-label-container\"><div class=\"sk-label sk-toggleable\"><input class=\"sk-toggleable__control sk-hidden--visually\" id=\"sk-estimator-id-5\" type=\"checkbox\" ><label for=\"sk-estimator-id-5\" class=\"sk-toggleable__label sk-toggleable__label-arrow\">cat</label><div class=\"sk-toggleable__content\"><pre>[&#x27;States&#x27;]</pre></div></div></div><div class=\"sk-serial\"><div class=\"sk-item\"><div class=\"sk-serial\"><div class=\"sk-item\"><div class=\"sk-estimator sk-toggleable\"><input class=\"sk-toggleable__control sk-hidden--visually\" id=\"sk-estimator-id-6\" type=\"checkbox\" ><label for=\"sk-estimator-id-6\" class=\"sk-toggleable__label sk-toggleable__label-arrow\">OneHotEncoder</label><div class=\"sk-toggleable__content\"><pre>OneHotEncoder(handle_unknown=&#x27;ignore&#x27;)</pre></div></div></div></div></div></div></div></div></div></div><div class=\"sk-item\"><div class=\"sk-estimator sk-toggleable\"><input class=\"sk-toggleable__control sk-hidden--visually\" id=\"sk-estimator-id-7\" type=\"checkbox\" ><label for=\"sk-estimator-id-7\" class=\"sk-toggleable__label sk-toggleable__label-arrow\">RandomForestRegressor</label><div class=\"sk-toggleable__content\"><pre>RandomForestRegressor(random_state=42)</pre></div></div></div></div></div></div></div>"
      ],
      "text/plain": [
       "Pipeline(steps=[('precprocessor',\n",
       "                 ColumnTransformer(transformers=[('num',\n",
       "                                                  Pipeline(steps=[('scaler',\n",
       "                                                                   MinMaxScaler(feature_range=(-1,\n",
       "                                                                                               1)))]),\n",
       "                                                  ['Year']),\n",
       "                                                 ('cat',\n",
       "                                                  Pipeline(steps=[('onehot',\n",
       "                                                                   OneHotEncoder(handle_unknown='ignore'))]),\n",
       "                                                  ['States'])])),\n",
       "                ('random_forest', RandomForestRegressor(random_state=42))])"
      ]
     },
     "execution_count": 58,
     "metadata": {},
     "output_type": "execute_result"
    }
   ],
   "source": [
    "# train\n",
    "model.fit(X_train,y_train)"
   ]
  },
  {
   "cell_type": "code",
   "execution_count": 59,
   "id": "2887e3b0-f1eb-43ee-ab39-be31b4fb79d5",
   "metadata": {},
   "outputs": [
    {
     "data": {
      "text/plain": [
       "{'precprocessor': ColumnTransformer(transformers=[('num',\n",
       "                                  Pipeline(steps=[('scaler',\n",
       "                                                   MinMaxScaler(feature_range=(-1,\n",
       "                                                                               1)))]),\n",
       "                                  ['Year']),\n",
       "                                 ('cat',\n",
       "                                  Pipeline(steps=[('onehot',\n",
       "                                                   OneHotEncoder(handle_unknown='ignore'))]),\n",
       "                                  ['States'])]),\n",
       " 'random_forest': RandomForestRegressor(random_state=42)}"
      ]
     },
     "execution_count": 59,
     "metadata": {},
     "output_type": "execute_result"
    }
   ],
   "source": [
    "model.named_steps"
   ]
  },
  {
   "cell_type": "code",
   "execution_count": 60,
   "id": "afee32e5-2ad3-4ce1-9b62-05f291f57f48",
   "metadata": {},
   "outputs": [
    {
     "data": {
      "text/html": [
       "<div>\n",
       "<style scoped>\n",
       "    .dataframe tbody tr th:only-of-type {\n",
       "        vertical-align: middle;\n",
       "    }\n",
       "\n",
       "    .dataframe tbody tr th {\n",
       "        vertical-align: top;\n",
       "    }\n",
       "\n",
       "    .dataframe thead th {\n",
       "        text-align: right;\n",
       "    }\n",
       "</style>\n",
       "<table border=\"1\" class=\"dataframe\">\n",
       "  <thead>\n",
       "    <tr style=\"text-align: right;\">\n",
       "      <th></th>\n",
       "      <th>Year</th>\n",
       "      <th>States</th>\n",
       "    </tr>\n",
       "  </thead>\n",
       "  <tbody>\n",
       "    <tr>\n",
       "      <th>604</th>\n",
       "      <td>2014</td>\n",
       "      <td>Hamburg</td>\n",
       "    </tr>\n",
       "    <tr>\n",
       "      <th>29</th>\n",
       "      <td>2004</td>\n",
       "      <td>Niedersachsen</td>\n",
       "    </tr>\n",
       "    <tr>\n",
       "      <th>417</th>\n",
       "      <td>2011</td>\n",
       "      <td>Berlin</td>\n",
       "    </tr>\n",
       "    <tr>\n",
       "      <th>260</th>\n",
       "      <td>2008</td>\n",
       "      <td>Mecklenburg-Vorpommern</td>\n",
       "    </tr>\n",
       "    <tr>\n",
       "      <th>479</th>\n",
       "      <td>2012</td>\n",
       "      <td>Brandenburg</td>\n",
       "    </tr>\n",
       "  </tbody>\n",
       "</table>\n",
       "</div>"
      ],
      "text/plain": [
       "     Year                  States\n",
       "604  2014                 Hamburg\n",
       "29   2004           Niedersachsen\n",
       "417  2011                  Berlin\n",
       "260  2008  Mecklenburg-Vorpommern\n",
       "479  2012             Brandenburg"
      ]
     },
     "execution_count": 60,
     "metadata": {},
     "output_type": "execute_result"
    }
   ],
   "source": [
    "X_test.head()"
   ]
  },
  {
   "cell_type": "code",
   "execution_count": 61,
   "id": "5207a7d8-216f-4811-9377-818206ce5968",
   "metadata": {},
   "outputs": [],
   "source": [
    "final_predictions = model.predict(X_test)"
   ]
  },
  {
   "cell_type": "code",
   "execution_count": 62,
   "id": "ec4650a5-e246-4e2a-b566-837e8c8e5b41",
   "metadata": {},
   "outputs": [
    {
     "data": {
      "text/plain": [
       "array([287.22, 208.2 , 256.23, 231.98, 211.63, 242.54, 226.44, 265.14,\n",
       "       158.51, 192.49, 226.61, 178.81, 139.54, 260.62, 189.75, 213.29,\n",
       "       139.54, 219.45, 200.37, 236.63, 200.45, 207.16, 297.7 , 144.42,\n",
       "       148.93, 209.08, 271.68, 226.89, 344.39, 151.65, 188.85, 205.48,\n",
       "       229.2 , 195.05, 207.75, 252.32, 234.54, 212.22, 139.97, 188.46,\n",
       "       186.67, 144.69, 228.5 , 178.31, 139.54, 251.18, 184.94, 263.56,\n",
       "       188.5 , 231.26])"
      ]
     },
     "execution_count": 62,
     "metadata": {},
     "output_type": "execute_result"
    }
   ],
   "source": [
    "final_predictions"
   ]
  },
  {
   "cell_type": "code",
   "execution_count": 63,
   "id": "13ce23ac-f84e-4b72-89ba-5f6ff486ece2",
   "metadata": {},
   "outputs": [
    {
     "data": {
      "text/plain": [
       "5.169061616966857"
      ]
     },
     "execution_count": 63,
     "metadata": {},
     "output_type": "execute_result"
    }
   ],
   "source": [
    "tree_rmse = mean_squared_error(y_test, final_predictions,squared=False)\n",
    "tree_rmse"
   ]
  },
  {
   "cell_type": "code",
   "execution_count": 64,
   "id": "04e28bc3-b000-4a0b-816b-ea404607e51e",
   "metadata": {},
   "outputs": [
    {
     "data": {
      "text/plain": [
       "0.9866099681355786"
      ]
     },
     "execution_count": 64,
     "metadata": {},
     "output_type": "execute_result"
    }
   ],
   "source": [
    "model.score(X_test,y_test)"
   ]
  },
  {
   "cell_type": "code",
   "execution_count": 72,
   "id": "339b9c06-0892-43eb-a192-8884212bd687",
   "metadata": {},
   "outputs": [
    {
     "data": {
      "text/html": [
       "<div>\n",
       "<style scoped>\n",
       "    .dataframe tbody tr th:only-of-type {\n",
       "        vertical-align: middle;\n",
       "    }\n",
       "\n",
       "    .dataframe tbody tr th {\n",
       "        vertical-align: top;\n",
       "    }\n",
       "\n",
       "    .dataframe thead th {\n",
       "        text-align: right;\n",
       "    }\n",
       "</style>\n",
       "<table border=\"1\" class=\"dataframe\">\n",
       "  <thead>\n",
       "    <tr style=\"text-align: right;\">\n",
       "      <th></th>\n",
       "      <th>Year</th>\n",
       "      <th>States</th>\n",
       "    </tr>\n",
       "  </thead>\n",
       "  <tbody>\n",
       "    <tr>\n",
       "      <th>604</th>\n",
       "      <td>2014</td>\n",
       "      <td>Hamburg</td>\n",
       "    </tr>\n",
       "    <tr>\n",
       "      <th>29</th>\n",
       "      <td>2004</td>\n",
       "      <td>Niedersachsen</td>\n",
       "    </tr>\n",
       "    <tr>\n",
       "      <th>417</th>\n",
       "      <td>2011</td>\n",
       "      <td>Berlin</td>\n",
       "    </tr>\n",
       "    <tr>\n",
       "      <th>260</th>\n",
       "      <td>2008</td>\n",
       "      <td>Mecklenburg-Vorpommern</td>\n",
       "    </tr>\n",
       "    <tr>\n",
       "      <th>479</th>\n",
       "      <td>2012</td>\n",
       "      <td>Brandenburg</td>\n",
       "    </tr>\n",
       "  </tbody>\n",
       "</table>\n",
       "</div>"
      ],
      "text/plain": [
       "     Year                  States\n",
       "604  2014                 Hamburg\n",
       "29   2004           Niedersachsen\n",
       "417  2011                  Berlin\n",
       "260  2008  Mecklenburg-Vorpommern\n",
       "479  2012             Brandenburg"
      ]
     },
     "execution_count": 72,
     "metadata": {},
     "output_type": "execute_result"
    }
   ],
   "source": [
    "X_test.head()"
   ]
  },
  {
   "cell_type": "code",
   "execution_count": null,
   "id": "1c573a4d-11cc-4d04-b4a1-636737d5e5e6",
   "metadata": {},
   "outputs": [],
   "source": []
  },
  {
   "cell_type": "code",
   "execution_count": 74,
   "id": "9a237f20-05c3-44c9-b917-07b29e14fa49",
   "metadata": {},
   "outputs": [],
   "source": [
    "states = data['States'].unique()"
   ]
  },
  {
   "cell_type": "code",
   "execution_count": 78,
   "id": "cd75e442-df16-41c2-a613-bb17020c5397",
   "metadata": {},
   "outputs": [
    {
     "data": {
      "text/plain": [
       "array(['Baden-Württemberg', 'Bayern', 'Berlin', 'Brandenburg', 'Bremen',\n",
       "       'Hamburg', 'Hessen', 'Mecklenburg-Vorpommern', 'Niedersachsen',\n",
       "       'Nordrhein-Westfalen', 'Rheinland-Pfalz', 'Saarland', 'Sachsen',\n",
       "       'Sachsen-Anhalt', 'Schleswig-Holstein', 'Thüringen'], dtype=object)"
      ]
     },
     "execution_count": 78,
     "metadata": {},
     "output_type": "execute_result"
    }
   ],
   "source": [
    "states"
   ]
  },
  {
   "cell_type": "code",
   "execution_count": 83,
   "id": "29570db5-88cf-4e11-9642-00130e3884fc",
   "metadata": {},
   "outputs": [],
   "source": [
    "df_input = pd.DataFrame(states,columns=['States'])"
   ]
  },
  {
   "cell_type": "code",
   "execution_count": 84,
   "id": "a59d610a-d49d-4335-8b47-1878fa7d5f62",
   "metadata": {},
   "outputs": [],
   "source": [
    "df_input['Year'] = 2022"
   ]
  },
  {
   "cell_type": "code",
   "execution_count": 99,
   "id": "ce3e56ff-f049-45d6-b297-86368bae8aa0",
   "metadata": {},
   "outputs": [],
   "source": [
    "df_input['Types of Waste'] = 'Residual household and bulky wastes'"
   ]
  },
  {
   "cell_type": "code",
   "execution_count": 100,
   "id": "f5ad1b46-3231-48c7-85dd-f80213c35e3a",
   "metadata": {},
   "outputs": [
    {
     "data": {
      "text/html": [
       "<div>\n",
       "<style scoped>\n",
       "    .dataframe tbody tr th:only-of-type {\n",
       "        vertical-align: middle;\n",
       "    }\n",
       "\n",
       "    .dataframe tbody tr th {\n",
       "        vertical-align: top;\n",
       "    }\n",
       "\n",
       "    .dataframe thead th {\n",
       "        text-align: right;\n",
       "    }\n",
       "</style>\n",
       "<table border=\"1\" class=\"dataframe\">\n",
       "  <thead>\n",
       "    <tr style=\"text-align: right;\">\n",
       "      <th></th>\n",
       "      <th>States</th>\n",
       "      <th>Year</th>\n",
       "      <th>Types of Waste</th>\n",
       "    </tr>\n",
       "  </thead>\n",
       "  <tbody>\n",
       "    <tr>\n",
       "      <th>0</th>\n",
       "      <td>Baden-Württemberg</td>\n",
       "      <td>2022</td>\n",
       "      <td>Residual household and bulky wastes</td>\n",
       "    </tr>\n",
       "    <tr>\n",
       "      <th>1</th>\n",
       "      <td>Bayern</td>\n",
       "      <td>2022</td>\n",
       "      <td>Residual household and bulky wastes</td>\n",
       "    </tr>\n",
       "    <tr>\n",
       "      <th>2</th>\n",
       "      <td>Berlin</td>\n",
       "      <td>2022</td>\n",
       "      <td>Residual household and bulky wastes</td>\n",
       "    </tr>\n",
       "    <tr>\n",
       "      <th>3</th>\n",
       "      <td>Brandenburg</td>\n",
       "      <td>2022</td>\n",
       "      <td>Residual household and bulky wastes</td>\n",
       "    </tr>\n",
       "    <tr>\n",
       "      <th>4</th>\n",
       "      <td>Bremen</td>\n",
       "      <td>2022</td>\n",
       "      <td>Residual household and bulky wastes</td>\n",
       "    </tr>\n",
       "    <tr>\n",
       "      <th>5</th>\n",
       "      <td>Hamburg</td>\n",
       "      <td>2022</td>\n",
       "      <td>Residual household and bulky wastes</td>\n",
       "    </tr>\n",
       "    <tr>\n",
       "      <th>6</th>\n",
       "      <td>Hessen</td>\n",
       "      <td>2022</td>\n",
       "      <td>Residual household and bulky wastes</td>\n",
       "    </tr>\n",
       "    <tr>\n",
       "      <th>7</th>\n",
       "      <td>Mecklenburg-Vorpommern</td>\n",
       "      <td>2022</td>\n",
       "      <td>Residual household and bulky wastes</td>\n",
       "    </tr>\n",
       "    <tr>\n",
       "      <th>8</th>\n",
       "      <td>Niedersachsen</td>\n",
       "      <td>2022</td>\n",
       "      <td>Residual household and bulky wastes</td>\n",
       "    </tr>\n",
       "    <tr>\n",
       "      <th>9</th>\n",
       "      <td>Nordrhein-Westfalen</td>\n",
       "      <td>2022</td>\n",
       "      <td>Residual household and bulky wastes</td>\n",
       "    </tr>\n",
       "    <tr>\n",
       "      <th>10</th>\n",
       "      <td>Rheinland-Pfalz</td>\n",
       "      <td>2022</td>\n",
       "      <td>Residual household and bulky wastes</td>\n",
       "    </tr>\n",
       "    <tr>\n",
       "      <th>11</th>\n",
       "      <td>Saarland</td>\n",
       "      <td>2022</td>\n",
       "      <td>Residual household and bulky wastes</td>\n",
       "    </tr>\n",
       "    <tr>\n",
       "      <th>12</th>\n",
       "      <td>Sachsen</td>\n",
       "      <td>2022</td>\n",
       "      <td>Residual household and bulky wastes</td>\n",
       "    </tr>\n",
       "    <tr>\n",
       "      <th>13</th>\n",
       "      <td>Sachsen-Anhalt</td>\n",
       "      <td>2022</td>\n",
       "      <td>Residual household and bulky wastes</td>\n",
       "    </tr>\n",
       "    <tr>\n",
       "      <th>14</th>\n",
       "      <td>Schleswig-Holstein</td>\n",
       "      <td>2022</td>\n",
       "      <td>Residual household and bulky wastes</td>\n",
       "    </tr>\n",
       "    <tr>\n",
       "      <th>15</th>\n",
       "      <td>Thüringen</td>\n",
       "      <td>2022</td>\n",
       "      <td>Residual household and bulky wastes</td>\n",
       "    </tr>\n",
       "  </tbody>\n",
       "</table>\n",
       "</div>"
      ],
      "text/plain": [
       "                    States  Year                       Types of Waste\n",
       "0        Baden-Württemberg  2022  Residual household and bulky wastes\n",
       "1                   Bayern  2022  Residual household and bulky wastes\n",
       "2                   Berlin  2022  Residual household and bulky wastes\n",
       "3              Brandenburg  2022  Residual household and bulky wastes\n",
       "4                   Bremen  2022  Residual household and bulky wastes\n",
       "5                  Hamburg  2022  Residual household and bulky wastes\n",
       "6                   Hessen  2022  Residual household and bulky wastes\n",
       "7   Mecklenburg-Vorpommern  2022  Residual household and bulky wastes\n",
       "8            Niedersachsen  2022  Residual household and bulky wastes\n",
       "9      Nordrhein-Westfalen  2022  Residual household and bulky wastes\n",
       "10         Rheinland-Pfalz  2022  Residual household and bulky wastes\n",
       "11                Saarland  2022  Residual household and bulky wastes\n",
       "12                 Sachsen  2022  Residual household and bulky wastes\n",
       "13          Sachsen-Anhalt  2022  Residual household and bulky wastes\n",
       "14      Schleswig-Holstein  2022  Residual household and bulky wastes\n",
       "15               Thüringen  2022  Residual household and bulky wastes"
      ]
     },
     "execution_count": 100,
     "metadata": {},
     "output_type": "execute_result"
    }
   ],
   "source": [
    "df_input"
   ]
  },
  {
   "cell_type": "code",
   "execution_count": 101,
   "id": "8ff5bdaf-1a20-4a0d-9f59-b163422c469b",
   "metadata": {},
   "outputs": [],
   "source": [
    "output = model.predict(df_input)"
   ]
  },
  {
   "cell_type": "code",
   "execution_count": 102,
   "id": "af56304b-1739-4044-b6d8-1ee6f23a1a35",
   "metadata": {},
   "outputs": [],
   "source": [
    "df_predicted = pd.DataFrame(output, columns=['Household Waste Generated per Inhabitant (kg)'])"
   ]
  },
  {
   "cell_type": "code",
   "execution_count": 103,
   "id": "66345eb7-cb9f-44b7-a209-6138d5318850",
   "metadata": {},
   "outputs": [],
   "source": [
    "df_final = pd.concat([df_input,df_predicted],axis=1)"
   ]
  },
  {
   "cell_type": "code",
   "execution_count": 104,
   "id": "2c53901c-b25f-43dc-8ac4-27aa02051fa9",
   "metadata": {},
   "outputs": [],
   "source": [
    "df_final.index = df_final.index+1"
   ]
  },
  {
   "cell_type": "code",
   "execution_count": 105,
   "id": "ea68d956-6abf-46fa-a813-d02854e30e86",
   "metadata": {},
   "outputs": [
    {
     "data": {
      "text/html": [
       "<div>\n",
       "<style scoped>\n",
       "    .dataframe tbody tr th:only-of-type {\n",
       "        vertical-align: middle;\n",
       "    }\n",
       "\n",
       "    .dataframe tbody tr th {\n",
       "        vertical-align: top;\n",
       "    }\n",
       "\n",
       "    .dataframe thead th {\n",
       "        text-align: right;\n",
       "    }\n",
       "</style>\n",
       "<table border=\"1\" class=\"dataframe\">\n",
       "  <thead>\n",
       "    <tr style=\"text-align: right;\">\n",
       "      <th></th>\n",
       "      <th>States</th>\n",
       "      <th>Year</th>\n",
       "      <th>Types of Waste</th>\n",
       "      <th>Household Waste Generated per Inhabitant (kg)</th>\n",
       "    </tr>\n",
       "  </thead>\n",
       "  <tbody>\n",
       "    <tr>\n",
       "      <th>1</th>\n",
       "      <td>Baden-Württemberg</td>\n",
       "      <td>2022</td>\n",
       "      <td>Residual household and bulky wastes</td>\n",
       "      <td>139.54</td>\n",
       "    </tr>\n",
       "    <tr>\n",
       "      <th>2</th>\n",
       "      <td>Bayern</td>\n",
       "      <td>2022</td>\n",
       "      <td>Residual household and bulky wastes</td>\n",
       "      <td>197.43</td>\n",
       "    </tr>\n",
       "    <tr>\n",
       "      <th>3</th>\n",
       "      <td>Berlin</td>\n",
       "      <td>2022</td>\n",
       "      <td>Residual household and bulky wastes</td>\n",
       "      <td>239.57</td>\n",
       "    </tr>\n",
       "    <tr>\n",
       "      <th>4</th>\n",
       "      <td>Brandenburg</td>\n",
       "      <td>2022</td>\n",
       "      <td>Residual household and bulky wastes</td>\n",
       "      <td>216.11</td>\n",
       "    </tr>\n",
       "    <tr>\n",
       "      <th>5</th>\n",
       "      <td>Bremen</td>\n",
       "      <td>2022</td>\n",
       "      <td>Residual household and bulky wastes</td>\n",
       "      <td>234.26</td>\n",
       "    </tr>\n",
       "    <tr>\n",
       "      <th>6</th>\n",
       "      <td>Hamburg</td>\n",
       "      <td>2022</td>\n",
       "      <td>Residual household and bulky wastes</td>\n",
       "      <td>260.62</td>\n",
       "    </tr>\n",
       "    <tr>\n",
       "      <th>7</th>\n",
       "      <td>Hessen</td>\n",
       "      <td>2022</td>\n",
       "      <td>Residual household and bulky wastes</td>\n",
       "      <td>180.77</td>\n",
       "    </tr>\n",
       "    <tr>\n",
       "      <th>8</th>\n",
       "      <td>Mecklenburg-Vorpommern</td>\n",
       "      <td>2022</td>\n",
       "      <td>Residual household and bulky wastes</td>\n",
       "      <td>231.47</td>\n",
       "    </tr>\n",
       "    <tr>\n",
       "      <th>9</th>\n",
       "      <td>Niedersachsen</td>\n",
       "      <td>2022</td>\n",
       "      <td>Residual household and bulky wastes</td>\n",
       "      <td>194.92</td>\n",
       "    </tr>\n",
       "    <tr>\n",
       "      <th>10</th>\n",
       "      <td>Nordrhein-Westfalen</td>\n",
       "      <td>2022</td>\n",
       "      <td>Residual household and bulky wastes</td>\n",
       "      <td>197.43</td>\n",
       "    </tr>\n",
       "    <tr>\n",
       "      <th>11</th>\n",
       "      <td>Rheinland-Pfalz</td>\n",
       "      <td>2022</td>\n",
       "      <td>Residual household and bulky wastes</td>\n",
       "      <td>208.63</td>\n",
       "    </tr>\n",
       "    <tr>\n",
       "      <th>12</th>\n",
       "      <td>Saarland</td>\n",
       "      <td>2022</td>\n",
       "      <td>Residual household and bulky wastes</td>\n",
       "      <td>197.09</td>\n",
       "    </tr>\n",
       "    <tr>\n",
       "      <th>13</th>\n",
       "      <td>Sachsen</td>\n",
       "      <td>2022</td>\n",
       "      <td>Residual household and bulky wastes</td>\n",
       "      <td>158.21</td>\n",
       "    </tr>\n",
       "    <tr>\n",
       "      <th>14</th>\n",
       "      <td>Sachsen-Anhalt</td>\n",
       "      <td>2022</td>\n",
       "      <td>Residual household and bulky wastes</td>\n",
       "      <td>200.45</td>\n",
       "    </tr>\n",
       "    <tr>\n",
       "      <th>15</th>\n",
       "      <td>Schleswig-Holstein</td>\n",
       "      <td>2022</td>\n",
       "      <td>Residual household and bulky wastes</td>\n",
       "      <td>232.72</td>\n",
       "    </tr>\n",
       "    <tr>\n",
       "      <th>16</th>\n",
       "      <td>Thüringen</td>\n",
       "      <td>2022</td>\n",
       "      <td>Residual household and bulky wastes</td>\n",
       "      <td>193.15</td>\n",
       "    </tr>\n",
       "  </tbody>\n",
       "</table>\n",
       "</div>"
      ],
      "text/plain": [
       "                    States  Year                       Types of Waste  \\\n",
       "1        Baden-Württemberg  2022  Residual household and bulky wastes   \n",
       "2                   Bayern  2022  Residual household and bulky wastes   \n",
       "3                   Berlin  2022  Residual household and bulky wastes   \n",
       "4              Brandenburg  2022  Residual household and bulky wastes   \n",
       "5                   Bremen  2022  Residual household and bulky wastes   \n",
       "6                  Hamburg  2022  Residual household and bulky wastes   \n",
       "7                   Hessen  2022  Residual household and bulky wastes   \n",
       "8   Mecklenburg-Vorpommern  2022  Residual household and bulky wastes   \n",
       "9            Niedersachsen  2022  Residual household and bulky wastes   \n",
       "10     Nordrhein-Westfalen  2022  Residual household and bulky wastes   \n",
       "11         Rheinland-Pfalz  2022  Residual household and bulky wastes   \n",
       "12                Saarland  2022  Residual household and bulky wastes   \n",
       "13                 Sachsen  2022  Residual household and bulky wastes   \n",
       "14          Sachsen-Anhalt  2022  Residual household and bulky wastes   \n",
       "15      Schleswig-Holstein  2022  Residual household and bulky wastes   \n",
       "16               Thüringen  2022  Residual household and bulky wastes   \n",
       "\n",
       "    Household Waste Generated per Inhabitant (kg)  \n",
       "1                                          139.54  \n",
       "2                                          197.43  \n",
       "3                                          239.57  \n",
       "4                                          216.11  \n",
       "5                                          234.26  \n",
       "6                                          260.62  \n",
       "7                                          180.77  \n",
       "8                                          231.47  \n",
       "9                                          194.92  \n",
       "10                                         197.43  \n",
       "11                                         208.63  \n",
       "12                                         197.09  \n",
       "13                                         158.21  \n",
       "14                                         200.45  \n",
       "15                                         232.72  \n",
       "16                                         193.15  "
      ]
     },
     "execution_count": 105,
     "metadata": {},
     "output_type": "execute_result"
    }
   ],
   "source": [
    "df_final"
   ]
  },
  {
   "cell_type": "code",
   "execution_count": null,
   "id": "4f5b2b0a-55f0-4f25-902b-130ad4980255",
   "metadata": {},
   "outputs": [],
   "source": []
  },
  {
   "cell_type": "code",
   "execution_count": 15,
   "id": "8bec1312-9a31-47ec-a642-e0c8fd24e586",
   "metadata": {},
   "outputs": [],
   "source": []
  }
 ],
 "metadata": {
  "kernelspec": {
   "display_name": "Python 3 (ipykernel)",
   "language": "python",
   "name": "python3"
  },
  "language_info": {
   "codemirror_mode": {
    "name": "ipython",
    "version": 3
   },
   "file_extension": ".py",
   "mimetype": "text/x-python",
   "name": "python",
   "nbconvert_exporter": "python",
   "pygments_lexer": "ipython3",
   "version": "3.9.13"
  }
 },
 "nbformat": 4,
 "nbformat_minor": 5
}
