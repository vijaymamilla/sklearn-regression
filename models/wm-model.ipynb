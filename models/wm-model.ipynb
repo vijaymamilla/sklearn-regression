{
 "cells": [
  {
   "cell_type": "code",
   "execution_count": 50,
   "id": "cd022c1d-523e-4fd8-b247-7f3dacfc2f2d",
   "metadata": {},
   "outputs": [],
   "source": [
    "import numpy as np\n",
    "import pandas as pd\n",
    "\n",
    "pd.set_option('display.max_columns',None)\n"
   ]
  },
  {
   "cell_type": "code",
   "execution_count": 51,
   "id": "e042640c-4248-44df-bb24-ea71fc7c1be0",
   "metadata": {},
   "outputs": [],
   "source": [
    "from sklearn.model_selection import train_test_split\n",
    "from sklearn.compose import ColumnTransformer\n",
    "from sklearn.impute import SimpleImputer\n",
    "from sklearn.preprocessing import StandardScaler,OneHotEncoder\n",
    "from sklearn.preprocessing import MinMaxScaler\n",
    "from sklearn.pipeline import Pipeline,make_pipeline\n",
    "from sklearn.feature_selection import SelectKBest,chi2\n",
    "from sklearn.metrics import mean_squared_error\n",
    "from sklearn.ensemble import RandomForestRegressor\n",
    "from sklearn.tree  import DecisionTreeRegressor"
   ]
  },
  {
   "cell_type": "code",
   "execution_count": 52,
   "id": "7a295342-1ad8-46c7-8cc9-ef0a4e261f6b",
   "metadata": {},
   "outputs": [
    {
     "name": "stdout",
     "output_type": "stream",
     "text": [
      "1.3.0\n"
     ]
    }
   ],
   "source": [
    "import sklearn\n",
    "print(sklearn.__version__)"
   ]
  },
  {
   "cell_type": "code",
   "execution_count": 53,
   "id": "dcc6b1a0-264d-41b8-ab5e-adae248f3f53",
   "metadata": {},
   "outputs": [],
   "source": [
    "data = pd.read_csv('../data/Processed_DatasetsAmount-of Waste-Generated-By-State 32121-0003.csv')"
   ]
  },
  {
   "cell_type": "code",
   "execution_count": 54,
   "id": "2ae1a5b4-6733-4c38-833c-7005cbaedd5f",
   "metadata": {},
   "outputs": [
    {
     "data": {
      "text/html": [
       "<div>\n",
       "<style scoped>\n",
       "    .dataframe tbody tr th:only-of-type {\n",
       "        vertical-align: middle;\n",
       "    }\n",
       "\n",
       "    .dataframe tbody tr th {\n",
       "        vertical-align: top;\n",
       "    }\n",
       "\n",
       "    .dataframe thead th {\n",
       "        text-align: right;\n",
       "    }\n",
       "</style>\n",
       "<table border=\"1\" class=\"dataframe\">\n",
       "  <thead>\n",
       "    <tr style=\"text-align: right;\">\n",
       "      <th></th>\n",
       "      <th>Year</th>\n",
       "      <th>States</th>\n",
       "      <th>Types of Waste</th>\n",
       "      <th>Total Household Waste Generated (Tons)</th>\n",
       "      <th>Household Waste Generated per Inhabitant (kg)</th>\n",
       "    </tr>\n",
       "  </thead>\n",
       "  <tbody>\n",
       "    <tr>\n",
       "      <th>0</th>\n",
       "      <td>2004</td>\n",
       "      <td>Baden-Württemberg</td>\n",
       "      <td>Residual household and bulky wastes</td>\n",
       "      <td>1605.6</td>\n",
       "      <td>150.0</td>\n",
       "    </tr>\n",
       "    <tr>\n",
       "      <th>1</th>\n",
       "      <td>2004</td>\n",
       "      <td>Baden-Württemberg</td>\n",
       "      <td>Separately collected organic wastes</td>\n",
       "      <td>1220.5</td>\n",
       "      <td>114.0</td>\n",
       "    </tr>\n",
       "    <tr>\n",
       "      <th>2</th>\n",
       "      <td>2004</td>\n",
       "      <td>Baden-Württemberg</td>\n",
       "      <td>Separately collected recyclables</td>\n",
       "      <td>1645.3</td>\n",
       "      <td>154.0</td>\n",
       "    </tr>\n",
       "    <tr>\n",
       "      <th>3</th>\n",
       "      <td>2004</td>\n",
       "      <td>Baden-Württemberg</td>\n",
       "      <td>Other wastes</td>\n",
       "      <td>9.4</td>\n",
       "      <td>1.0</td>\n",
       "    </tr>\n",
       "    <tr>\n",
       "      <th>4</th>\n",
       "      <td>2004</td>\n",
       "      <td>Bayern</td>\n",
       "      <td>Separately collected organic wastes</td>\n",
       "      <td>1677.3</td>\n",
       "      <td>135.0</td>\n",
       "    </tr>\n",
       "  </tbody>\n",
       "</table>\n",
       "</div>"
      ],
      "text/plain": [
       "   Year             States                       Types of Waste  \\\n",
       "0  2004  Baden-Württemberg  Residual household and bulky wastes   \n",
       "1  2004  Baden-Württemberg  Separately collected organic wastes   \n",
       "2  2004  Baden-Württemberg     Separately collected recyclables   \n",
       "3  2004  Baden-Württemberg                         Other wastes   \n",
       "4  2004             Bayern  Separately collected organic wastes   \n",
       "\n",
       "   Total Household Waste Generated (Tons)  \\\n",
       "0                                  1605.6   \n",
       "1                                  1220.5   \n",
       "2                                  1645.3   \n",
       "3                                     9.4   \n",
       "4                                  1677.3   \n",
       "\n",
       "   Household Waste Generated per Inhabitant (kg)  \n",
       "0                                          150.0  \n",
       "1                                          114.0  \n",
       "2                                          154.0  \n",
       "3                                            1.0  \n",
       "4                                          135.0  "
      ]
     },
     "execution_count": 54,
     "metadata": {},
     "output_type": "execute_result"
    }
   ],
   "source": [
    "data.head()"
   ]
  },
  {
   "cell_type": "code",
   "execution_count": 55,
   "id": "a607a2ba-d5fc-4d20-a8cd-9a74a5955643",
   "metadata": {},
   "outputs": [
    {
     "name": "stdout",
     "output_type": "stream",
     "text": [
      "<class 'pandas.core.frame.DataFrame'>\n",
      "RangeIndex: 1046 entries, 0 to 1045\n",
      "Data columns (total 5 columns):\n",
      " #   Column                                         Non-Null Count  Dtype  \n",
      "---  ------                                         --------------  -----  \n",
      " 0   Year                                           1046 non-null   int64  \n",
      " 1   States                                         1046 non-null   object \n",
      " 2   Types of Waste                                 1046 non-null   object \n",
      " 3   Total Household Waste Generated (Tons)         1046 non-null   float64\n",
      " 4   Household Waste Generated per Inhabitant (kg)  1046 non-null   float64\n",
      "dtypes: float64(2), int64(1), object(2)\n",
      "memory usage: 41.0+ KB\n"
     ]
    }
   ],
   "source": [
    "data.info()"
   ]
  },
  {
   "cell_type": "code",
   "execution_count": 56,
   "id": "9df7a6e3-27be-410a-b860-34250c581ace",
   "metadata": {},
   "outputs": [
    {
     "data": {
      "text/plain": [
       "Year                                             0\n",
       "States                                           0\n",
       "Types of Waste                                   0\n",
       "Total Household Waste Generated (Tons)           0\n",
       "Household Waste Generated per Inhabitant (kg)    0\n",
       "dtype: int64"
      ]
     },
     "execution_count": 56,
     "metadata": {},
     "output_type": "execute_result"
    }
   ],
   "source": [
    "data.isnull().sum()"
   ]
  },
  {
   "cell_type": "code",
   "execution_count": 57,
   "id": "ef26d2bd-7430-410d-8d22-5fb7c1a58a8f",
   "metadata": {},
   "outputs": [
    {
     "data": {
      "text/html": [
       "<div>\n",
       "<style scoped>\n",
       "    .dataframe tbody tr th:only-of-type {\n",
       "        vertical-align: middle;\n",
       "    }\n",
       "\n",
       "    .dataframe tbody tr th {\n",
       "        vertical-align: top;\n",
       "    }\n",
       "\n",
       "    .dataframe thead th {\n",
       "        text-align: right;\n",
       "    }\n",
       "</style>\n",
       "<table border=\"1\" class=\"dataframe\">\n",
       "  <thead>\n",
       "    <tr style=\"text-align: right;\">\n",
       "      <th></th>\n",
       "      <th>Year</th>\n",
       "      <th>Total Household Waste Generated (Tons)</th>\n",
       "      <th>Household Waste Generated per Inhabitant (kg)</th>\n",
       "    </tr>\n",
       "  </thead>\n",
       "  <tbody>\n",
       "    <tr>\n",
       "      <th>count</th>\n",
       "      <td>1046.000000</td>\n",
       "      <td>1046.000000</td>\n",
       "      <td>1046.000000</td>\n",
       "    </tr>\n",
       "    <tr>\n",
       "      <th>mean</th>\n",
       "      <td>2012.451243</td>\n",
       "      <td>405.893881</td>\n",
       "      <td>110.816904</td>\n",
       "    </tr>\n",
       "    <tr>\n",
       "      <th>std</th>\n",
       "      <td>5.181030</td>\n",
       "      <td>462.755575</td>\n",
       "      <td>80.167121</td>\n",
       "    </tr>\n",
       "    <tr>\n",
       "      <th>min</th>\n",
       "      <td>2004.000000</td>\n",
       "      <td>0.100000</td>\n",
       "      <td>1.000000</td>\n",
       "    </tr>\n",
       "    <tr>\n",
       "      <th>25%</th>\n",
       "      <td>2008.000000</td>\n",
       "      <td>29.400000</td>\n",
       "      <td>21.000000</td>\n",
       "    </tr>\n",
       "    <tr>\n",
       "      <th>50%</th>\n",
       "      <td>2012.000000</td>\n",
       "      <td>230.300000</td>\n",
       "      <td>125.000000</td>\n",
       "    </tr>\n",
       "    <tr>\n",
       "      <th>75%</th>\n",
       "      <td>2017.000000</td>\n",
       "      <td>613.750000</td>\n",
       "      <td>163.000000</td>\n",
       "    </tr>\n",
       "    <tr>\n",
       "      <th>max</th>\n",
       "      <td>2021.000000</td>\n",
       "      <td>1799.100000</td>\n",
       "      <td>349.000000</td>\n",
       "    </tr>\n",
       "  </tbody>\n",
       "</table>\n",
       "</div>"
      ],
      "text/plain": [
       "              Year  Total Household Waste Generated (Tons)  \\\n",
       "count  1046.000000                             1046.000000   \n",
       "mean   2012.451243                              405.893881   \n",
       "std       5.181030                              462.755575   \n",
       "min    2004.000000                                0.100000   \n",
       "25%    2008.000000                               29.400000   \n",
       "50%    2012.000000                              230.300000   \n",
       "75%    2017.000000                              613.750000   \n",
       "max    2021.000000                             1799.100000   \n",
       "\n",
       "       Household Waste Generated per Inhabitant (kg)  \n",
       "count                                    1046.000000  \n",
       "mean                                      110.816904  \n",
       "std                                        80.167121  \n",
       "min                                         1.000000  \n",
       "25%                                        21.000000  \n",
       "50%                                       125.000000  \n",
       "75%                                       163.000000  \n",
       "max                                       349.000000  "
      ]
     },
     "execution_count": 57,
     "metadata": {},
     "output_type": "execute_result"
    }
   ],
   "source": [
    "data.describe()"
   ]
  },
  {
   "cell_type": "code",
   "execution_count": 58,
   "id": "57202a2c-034e-4819-a5bc-af775bd140db",
   "metadata": {},
   "outputs": [
    {
     "data": {
      "text/html": [
       "<div>\n",
       "<style scoped>\n",
       "    .dataframe tbody tr th:only-of-type {\n",
       "        vertical-align: middle;\n",
       "    }\n",
       "\n",
       "    .dataframe tbody tr th {\n",
       "        vertical-align: top;\n",
       "    }\n",
       "\n",
       "    .dataframe thead th {\n",
       "        text-align: right;\n",
       "    }\n",
       "</style>\n",
       "<table border=\"1\" class=\"dataframe\">\n",
       "  <thead>\n",
       "    <tr style=\"text-align: right;\">\n",
       "      <th></th>\n",
       "      <th>Year</th>\n",
       "      <th>Total Household Waste Generated (Tons)</th>\n",
       "      <th>Household Waste Generated per Inhabitant (kg)</th>\n",
       "    </tr>\n",
       "  </thead>\n",
       "  <tbody>\n",
       "    <tr>\n",
       "      <th>Year</th>\n",
       "      <td>1.000000</td>\n",
       "      <td>-0.020062</td>\n",
       "      <td>0.019148</td>\n",
       "    </tr>\n",
       "    <tr>\n",
       "      <th>Total Household Waste Generated (Tons)</th>\n",
       "      <td>-0.020062</td>\n",
       "      <td>1.000000</td>\n",
       "      <td>0.575053</td>\n",
       "    </tr>\n",
       "    <tr>\n",
       "      <th>Household Waste Generated per Inhabitant (kg)</th>\n",
       "      <td>0.019148</td>\n",
       "      <td>0.575053</td>\n",
       "      <td>1.000000</td>\n",
       "    </tr>\n",
       "  </tbody>\n",
       "</table>\n",
       "</div>"
      ],
      "text/plain": [
       "                                                   Year  \\\n",
       "Year                                           1.000000   \n",
       "Total Household Waste Generated (Tons)        -0.020062   \n",
       "Household Waste Generated per Inhabitant (kg)  0.019148   \n",
       "\n",
       "                                               Total Household Waste Generated (Tons)  \\\n",
       "Year                                                                        -0.020062   \n",
       "Total Household Waste Generated (Tons)                                       1.000000   \n",
       "Household Waste Generated per Inhabitant (kg)                                0.575053   \n",
       "\n",
       "                                               Household Waste Generated per Inhabitant (kg)  \n",
       "Year                                                                                0.019148  \n",
       "Total Household Waste Generated (Tons)                                              0.575053  \n",
       "Household Waste Generated per Inhabitant (kg)                                       1.000000  "
      ]
     },
     "execution_count": 58,
     "metadata": {},
     "output_type": "execute_result"
    }
   ],
   "source": [
    "data.corr()"
   ]
  },
  {
   "cell_type": "raw",
   "id": "d0351762-3b47-4cc2-ae59-dd48c7461ea8",
   "metadata": {},
   "source": [
    "Univariant Analysis"
   ]
  },
  {
   "cell_type": "code",
   "execution_count": 59,
   "id": "baf82d5f-2a14-4b94-8c6f-7e91968452f8",
   "metadata": {},
   "outputs": [
    {
     "data": {
      "text/plain": [
       "array([2004, 2005, 2006, 2007, 2008, 2009, 2010, 2011, 2012, 2013, 2014,\n",
       "       2015, 2016, 2017, 2018, 2019, 2020, 2021])"
      ]
     },
     "execution_count": 59,
     "metadata": {},
     "output_type": "execute_result"
    }
   ],
   "source": [
    "data['Year'].unique()"
   ]
  },
  {
   "cell_type": "code",
   "execution_count": 60,
   "id": "edd8d241-9082-4ab1-86d7-bba8246f3939",
   "metadata": {},
   "outputs": [
    {
     "data": {
      "text/plain": [
       "array(['Baden-Württemberg', 'Bayern', 'Berlin', 'Brandenburg', 'Bremen',\n",
       "       'Hamburg', 'Hessen', 'Mecklenburg-Vorpommern', 'Niedersachsen',\n",
       "       'Nordrhein-Westfalen', 'Rheinland-Pfalz', 'Saarland', 'Sachsen',\n",
       "       'Sachsen-Anhalt', 'Schleswig-Holstein', 'Thüringen'], dtype=object)"
      ]
     },
     "execution_count": 60,
     "metadata": {},
     "output_type": "execute_result"
    }
   ],
   "source": [
    "data['States'].unique()"
   ]
  },
  {
   "cell_type": "code",
   "execution_count": 61,
   "id": "c0bad15a-c9bb-4602-8c7b-a77e9000da77",
   "metadata": {},
   "outputs": [
    {
     "data": {
      "text/plain": [
       "array(['Residual household and bulky wastes',\n",
       "       'Separately collected organic wastes',\n",
       "       'Separately collected recyclables', 'Other wastes'], dtype=object)"
      ]
     },
     "execution_count": 61,
     "metadata": {},
     "output_type": "execute_result"
    }
   ],
   "source": [
    "data['Types of Waste'].unique()"
   ]
  },
  {
   "cell_type": "code",
   "execution_count": 62,
   "id": "925a09df-6e36-44e8-bad2-7109ae4c4eed",
   "metadata": {},
   "outputs": [
    {
     "data": {
      "text/plain": [
       "array([1.6056e+03, 1.2205e+03, 1.6453e+03, 9.4000e+00, 1.6773e+03,\n",
       "       5.9100e+01, 9.7500e+02, 9.9200e+01, 3.9020e+02, 1.5000e+00,\n",
       "       5.5820e+02, 7.2100e+01, 3.4540e+02, 6.6000e+00, 1.6700e+02,\n",
       "       5.7000e+01, 9.5000e+01, 2.0000e-01, 3.7300e+01, 1.7020e+02,\n",
       "       1.9000e+00, 1.2787e+03, 7.2780e+02, 8.1010e+02, 3.3000e+00,\n",
       "       4.0710e+02, 6.9700e+01, 2.5360e+02, 1.4000e+00, 1.6581e+03,\n",
       "       1.1052e+03, 1.1605e+03, 1.0100e+01, 9.8100e+01, 8.0410e+02,\n",
       "       5.3250e+02, 6.4320e+02, 2.1500e+01, 2.6880e+02, 1.6030e+02,\n",
       "       1.2640e+02, 5.0000e-01, 6.9600e+02, 2.0330e+02, 5.8870e+02,\n",
       "       2.6000e+00, 6.2530e+02, 1.8330e+02, 3.3840e+02, 2.0800e+01,\n",
       "       6.8850e+02, 2.8050e+02, 4.1370e+02, 4.9750e+02, 1.4380e+02,\n",
       "       3.3630e+02, 1.4700e+01, 1.5683e+03, 1.2393e+03, 1.7027e+03,\n",
       "       8.8000e+00, 1.5971e+03, 5.4100e+01, 9.7890e+02, 1.1380e+02,\n",
       "       4.0670e+02, 5.6250e+02, 7.2500e+01, 3.5270e+02, 4.1000e+00,\n",
       "       1.6410e+02, 5.8000e+01, 8.8100e+01, 3.0000e-01, 3.6200e+01,\n",
       "       1.6380e+02, 1.2664e+03, 7.0540e+02, 8.0860e+02, 4.0060e+02,\n",
       "       7.0900e+01, 2.4560e+02, 9.0000e-01, 1.5907e+03, 1.1216e+03,\n",
       "       1.2021e+03, 4.5000e+00, 3.8300e+01, 8.0890e+02, 5.2320e+02,\n",
       "       6.5480e+02, 1.7900e+01, 2.6820e+02, 1.4120e+02, 1.2710e+02,\n",
       "       6.0000e-01, 6.8200e+02, 2.1700e+02, 5.6140e+02, 3.5000e+00,\n",
       "       5.8270e+02, 1.8310e+02, 3.3330e+02, 1.0300e+01, 6.5650e+02,\n",
       "       2.6950e+02, 4.0820e+02, 1.8000e+00, 4.7170e+02, 1.4430e+02,\n",
       "       3.3440e+02, 1.0500e+01, 1.5840e+03, 1.2324e+03, 1.7515e+03,\n",
       "       8.6000e+00, 1.6302e+03, 5.8100e+01, 9.4410e+02, 1.1900e+02,\n",
       "       4.1420e+02, 2.2000e+00, 5.6920e+02, 5.6900e+01, 3.5660e+02,\n",
       "       1.6590e+02, 8.6400e+01, 6.1270e+02, 3.5700e+01, 1.6760e+02,\n",
       "       2.1000e+00, 1.2883e+03, 7.2230e+02, 8.6310e+02, 3.1000e+00,\n",
       "       3.9200e+02, 7.4100e+01, 2.4820e+02, 8.0000e-01, 1.5888e+03,\n",
       "       1.1460e+03, 1.2352e+03, 7.4000e+00, 2.5700e+01, 8.0050e+02,\n",
       "       5.3570e+02, 6.7710e+02, 1.7700e+01, 2.5810e+02, 1.3460e+02,\n",
       "       1.3290e+02, 6.6240e+02, 2.0820e+02, 5.5710e+02, 1.6300e+01,\n",
       "       2.0770e+02, 3.2460e+02, 7.1000e+00, 6.5450e+02, 2.7970e+02,\n",
       "       4.2750e+02, 2.4000e+00, 4.7320e+02, 1.4600e+02, 3.2140e+02,\n",
       "       8.7000e+00, 1.5405e+03, 1.2857e+03, 1.7680e+03, 6.9000e+00,\n",
       "       1.6516e+03, 6.5300e+01, 9.2760e+02, 1.2130e+02, 4.2090e+02,\n",
       "       2.3000e+00, 5.5790e+02, 8.5300e+01, 3.5570e+02, 1.6370e+02,\n",
       "       5.9400e+01, 6.1840e+02, 3.7800e+01, 1.7740e+02, 1.2602e+03,\n",
       "       7.4260e+02, 8.3610e+02, 3.4000e+00, 3.9170e+02, 8.1000e+01,\n",
       "       2.4670e+02, 1.5794e+03, 1.2083e+03, 1.2381e+03, 7.0000e+00,\n",
       "       3.0400e+01, 7.8230e+02, 5.4860e+02, 2.0000e+01, 2.5000e+02,\n",
       "       1.3430e+02, 1.3990e+02, 7.0000e-01, 2.1740e+02, 5.3190e+02,\n",
       "       5.2560e+02, 2.2010e+02, 3.0130e+02, 6.4810e+02, 2.7800e+02,\n",
       "       4.2800e+02, 4.2810e+02, 1.5310e+02, 3.0610e+02, 8.0000e+00,\n",
       "       1.5367e+03, 1.2862e+03, 1.7540e+03, 1.7155e+03, 6.4000e+01,\n",
       "       8.9780e+02, 1.1020e+02, 4.1120e+02, 5.0370e+02, 8.0600e+01,\n",
       "       3.4780e+02, 1.6100e+02, 8.4500e+01, 6.0030e+02, 3.5000e+01,\n",
       "       1.8090e+02, 7.4220e+02, 8.3110e+02, 2.9000e+00, 3.7920e+02,\n",
       "       7.9000e+01, 2.3200e+02, 1.5382e+03, 1.2081e+03, 1.2225e+03,\n",
       "       1.1200e+01, 3.3500e+01, 7.6950e+02, 5.5560e+02, 6.7580e+02,\n",
       "       1.7400e+01, 2.4690e+02, 1.3660e+02, 1.2860e+02, 6.4100e+02,\n",
       "       2.0690e+02, 5.0040e+02, 3.7000e+00, 4.9660e+02, 2.1920e+02,\n",
       "       3.0970e+02, 5.3000e+00, 6.3710e+02, 4.3190e+02, 2.5000e+00,\n",
       "       4.1400e+02, 1.5100e+02, 2.9110e+02, 7.6000e+00, 1.5666e+03,\n",
       "       1.3519e+03, 1.7548e+03, 1.7722e+03, 6.7400e+01, 9.1140e+02,\n",
       "       4.0180e+02, 9.8300e+01, 3.4300e+02, 2.0000e+00, 1.6160e+02,\n",
       "       8.1600e+01, 5.8620e+02, 3.6100e+01, 1.7820e+02, 1.2528e+03,\n",
       "       7.8890e+02, 8.4840e+02, 2.2100e+01, 3.8120e+02, 8.6800e+01,\n",
       "       2.2150e+02, 1.5254e+03, 1.1911e+03, 1.2264e+03, 9.9000e+00,\n",
       "       4.3100e+01, 7.7500e+02, 5.9050e+02, 6.8650e+02, 2.0100e+01,\n",
       "       2.4550e+02, 1.4080e+02, 1.1970e+02, 6.4230e+02, 2.2290e+02,\n",
       "       5.0010e+02, 4.9460e+02, 2.4050e+02, 3.0760e+02, 4.0000e+00,\n",
       "       6.4200e+02, 2.6840e+02, 4.3040e+02, 4.2400e+02, 1.6660e+02,\n",
       "       2.9280e+02, 1.5567e+03, 1.2949e+03, 1.7531e+03, 7.2000e+00,\n",
       "       1.7337e+03, 8.4600e+01, 8.9300e+02, 1.1460e+02, 3.9930e+02,\n",
       "       5.3330e+02, 9.9900e+01, 3.4650e+02, 1.5830e+02, 5.6600e+01,\n",
       "       8.0400e+01, 5.6690e+02, 3.7200e+01, 1.8070e+02, 1.2463e+03,\n",
       "       7.7910e+02, 8.4010e+02, 3.2000e+00, 3.7810e+02, 8.1900e+01,\n",
       "       2.2240e+02, 1.0000e+00, 1.5095e+03, 1.1434e+03, 1.2342e+03,\n",
       "       8.2000e+00, 4.3800e+01, 7.7730e+02, 5.8280e+02, 6.8360e+02,\n",
       "       1.7100e+01, 2.4590e+02, 1.3560e+02, 1.1640e+02, 6.3180e+02,\n",
       "       2.1370e+02, 4.9440e+02, 4.9570e+02, 2.2470e+02, 3.1100e+02,\n",
       "       6.3310e+02, 2.5560e+02, 4.3400e+02, 4.1320e+02, 1.6000e+02,\n",
       "       2.9220e+02, 7.5000e+00, 1.5550e+03, 1.3725e+03, 1.7793e+03,\n",
       "       1.7816e+03, 6.7000e+00, 8.8010e+02, 1.2700e+02, 4.1650e+02,\n",
       "       5.3440e+02, 1.0950e+02, 3.4750e+02, 1.5960e+02, 8.1300e+01,\n",
       "       5.5180e+02, 5.5100e+01, 1.9330e+02, 2.7000e+00, 1.2270e+03,\n",
       "       7.6820e+02, 8.5520e+02, 3.8010e+02, 9.4100e+01, 2.2280e+02,\n",
       "       1.5184e+03, 1.1924e+03, 1.2803e+03, 2.9400e+01, 7.6690e+02,\n",
       "       5.8780e+02, 6.9920e+02, 1.7000e+01, 1.8960e+02, 1.4060e+02,\n",
       "       1.3330e+02, 6.3390e+02, 2.2080e+02, 5.0260e+02, 3.8000e+00,\n",
       "       4.8130e+02, 2.4080e+02, 3.0770e+02, 6.5470e+02, 2.6610e+02,\n",
       "       4.4170e+02, 4.1570e+02, 1.6920e+02, 2.9200e+02, 8.1000e+00,\n",
       "       1.5332e+03, 1.3859e+03, 1.7762e+03, 3.8200e+01, 8.6150e+02,\n",
       "       1.2650e+02, 4.0260e+02, 5.2090e+02, 1.0720e+02, 3.3320e+02,\n",
       "       1.5000e+02, 5.7800e+01, 7.9300e+01, 5.1970e+02, 6.7900e+01,\n",
       "       1.9680e+02, 1.1933e+03, 7.6470e+02, 8.4400e+02, 3.7360e+02,\n",
       "       1.4867e+03, 1.1739e+03, 1.2789e+03, 7.4770e+02, 5.8760e+02,\n",
       "       6.8890e+02, 1.8660e+02, 1.3770e+02, 1.3370e+02, 6.0670e+02,\n",
       "       2.0130e+02, 4.8550e+02, 3.6000e+00, 4.5970e+02, 2.4430e+02,\n",
       "       2.9600e+02, 6.4520e+02, 2.6870e+02, 4.3000e+02, 3.0000e+00,\n",
       "       3.9810e+02, 1.6890e+02, 2.8070e+02, 1.5253e+03, 1.3790e+03,\n",
       "       1.7881e+03, 1.7927e+03, 5.6400e+01, 8.6690e+02, 1.3450e+02,\n",
       "       3.8560e+02, 5.1490e+02, 3.3000e+02, 1.5150e+02, 5.5600e+01,\n",
       "       7.9600e+01, 5.0650e+02, 7.1600e+01, 2.0940e+02, 1.1820e+03,\n",
       "       7.6210e+02, 8.4180e+02, 3.6930e+02, 9.4500e+01, 1.4748e+03,\n",
       "       1.1423e+03, 1.2785e+03, 1.1500e+01, 2.1200e+01, 7.4290e+02,\n",
       "       6.8810e+02, 2.2400e+01, 1.8620e+02, 1.4160e+02, 1.5930e+02,\n",
       "       6.0860e+02, 1.9550e+02, 4.9190e+02, 4.6280e+02, 2.4190e+02,\n",
       "       3.0200e+02, 6.2950e+02, 4.0490e+02, 1.8580e+02, 2.8360e+02,\n",
       "       7.3000e+00, 1.5269e+03, 1.4819e+03, 1.7819e+03, 7.8000e+00,\n",
       "       6.7800e+01, 8.6800e+02, 7.9100e+01, 3.8500e+02, 2.8000e+00,\n",
       "       5.1380e+02, 1.3570e+02, 3.3240e+02, 4.9000e+00, 1.4970e+02,\n",
       "       5.8500e+01, 8.0700e+01, 5.0110e+02, 2.1140e+02, 1.1534e+03,\n",
       "       8.2890e+02, 8.6910e+02, 3.7100e+02, 1.0730e+02, 2.2120e+02,\n",
       "       1.1000e+00, 1.4776e+03, 1.2784e+03, 1.3061e+03, 1.2700e+01,\n",
       "       2.2000e+01, 7.4340e+02, 6.4240e+02, 6.9450e+02, 2.2500e+01,\n",
       "       1.8690e+02, 1.4360e+02, 1.5870e+02, 6.0550e+02, 2.0810e+02,\n",
       "       4.9170e+02, 4.5610e+02, 2.7180e+02, 6.6280e+02, 2.9060e+02,\n",
       "       4.2290e+02, 3.9560e+02, 2.0880e+02, 1.3000e+00, 1.5348e+03,\n",
       "       1.4492e+03, 1.7906e+03, 7.9000e+00, 6.6700e+01, 8.6950e+02,\n",
       "       8.0500e+01, 3.8620e+02, 5.2210e+02, 1.4190e+02, 3.3550e+02,\n",
       "       1.5120e+02, 5.7300e+01, 4.9780e+02, 8.7000e+01, 2.1060e+02,\n",
       "       1.1104e+03, 8.0130e+02, 3.6810e+02, 1.0350e+02, 2.1170e+02,\n",
       "       1.4816e+03, 1.2613e+03, 1.3100e+03, 1.2600e+01, 7.3340e+02,\n",
       "       6.5880e+02, 6.8930e+02, 1.8600e+02, 1.4270e+02, 1.5610e+02,\n",
       "       6.0500e+02, 2.1450e+02, 5.0220e+02, 4.5230e+02, 2.8130e+02,\n",
       "       3.0190e+02, 3.1740e+02, 4.3010e+02, 3.9610e+02, 2.0270e+02,\n",
       "       2.8370e+02, 1.2000e+00, 1.5292e+03, 1.5365e+03, 8.8550e+02,\n",
       "       3.8920e+02, 5.2360e+02, 1.6580e+02, 3.3930e+02, 5.4000e+00,\n",
       "       5.8300e+01, 8.2700e+01, 1.0000e-01, 4.9560e+02, 9.2900e+01,\n",
       "       2.0960e+02, 1.1143e+03, 8.6020e+02, 8.7590e+02, 3.6400e+02,\n",
       "       1.2010e+02, 2.1540e+02, 1.4947e+03, 1.2970e+03, 1.3321e+03,\n",
       "       1.3500e+01, 2.5900e+01, 7.3840e+02, 6.9930e+02, 1.8790e+02,\n",
       "       1.3520e+02, 1.5800e+02, 4.0000e-01, 6.1410e+02, 2.2860e+02,\n",
       "       5.0170e+02, 4.3810e+02, 2.7490e+02, 3.0450e+02, 6.6020e+02,\n",
       "       3.3900e+02, 4.3080e+02, 3.9750e+02, 2.2750e+02, 2.8490e+02,\n",
       "       1.5225e+03, 1.5461e+03, 8.3000e+00, 6.0200e+01, 8.9430e+02,\n",
       "       9.0700e+01, 3.9840e+02, 5.3340e+02, 1.9740e+02, 3.4720e+02,\n",
       "       5.7000e+00, 1.5320e+02, 5.8600e+01, 8.4000e+01, 4.8910e+02,\n",
       "       9.7200e+01, 2.1470e+02, 4.7000e+00, 1.1076e+03, 8.6580e+02,\n",
       "       8.7690e+02, 3.6320e+02, 1.3100e+02, 2.1490e+02, 1.5080e+03,\n",
       "       1.3249e+03, 1.3336e+03, 1.6800e+01, 2.6600e+01, 7.3750e+02,\n",
       "       7.0480e+02, 6.8450e+02, 2.1100e+01, 1.4140e+02, 1.5740e+02,\n",
       "       6.1750e+02, 2.5400e+02, 5.0840e+02, 4.3690e+02, 2.7670e+02,\n",
       "       3.1070e+02, 6.5840e+02, 3.4920e+02, 4.4400e+02, 3.9630e+02,\n",
       "       2.3900e+02, 2.8850e+02, 1.5435e+03, 1.5093e+03, 8.4000e+00,\n",
       "       5.9300e+01, 8.7970e+02, 9.1500e+01, 3.8590e+02, 5.3050e+02,\n",
       "       1.7260e+02, 3.4740e+02, 6.2000e+00, 5.3200e+01, 4.8270e+02,\n",
       "       8.5600e+01, 2.1460e+02, 4.8000e+00, 8.0120e+02, 8.6300e+02,\n",
       "       1.1600e+01, 3.6790e+02, 1.2480e+02, 2.1070e+02, 1.4846e+03,\n",
       "       1.2719e+03, 1.3116e+03, 1.8700e+01, 2.4800e+01, 7.2300e+02,\n",
       "       6.8790e+02, 2.0900e+01, 1.9010e+02, 1.2610e+02, 1.5680e+02,\n",
       "       6.1110e+02, 2.4230e+02, 5.0500e+02, 4.2330e+02, 2.5130e+02,\n",
       "       3.0740e+02, 1.2300e+01, 6.5400e+02, 3.2900e+02, 4.3520e+02,\n",
       "       3.9310e+02, 2.3360e+02, 2.8780e+02, 1.5482e+03, 1.5577e+03,\n",
       "       6.3500e+01, 8.6700e+02, 1.1670e+02, 3.9440e+02, 2.0090e+02,\n",
       "       3.5110e+02, 1.5630e+02, 5.6100e+01, 7.9900e+01, 4.7200e+02,\n",
       "       9.1600e+01, 2.1530e+02, 5.0000e+00, 1.1033e+03, 8.4290e+02,\n",
       "       8.5680e+02, 1.3600e+01, 3.6730e+02, 1.4330e+02, 2.1150e+02,\n",
       "       1.4940e+03, 1.2586e+03, 1.3160e+03, 2.4300e+01, 7.2200e+02,\n",
       "       7.1220e+02, 6.8900e+02, 2.4400e+01, 1.8860e+02, 1.2500e+02,\n",
       "       1.5580e+02, 6.1240e+02, 2.5770e+02, 5.0610e+02, 2.5900e+02,\n",
       "       3.0750e+02, 6.6030e+02, 3.4960e+02, 4.2890e+02, 3.9230e+02,\n",
       "       2.8800e+02, 1.6000e+00, 1.6168e+03, 1.5957e+03, 9.6000e+00,\n",
       "       6.8500e+01, 8.8540e+02, 1.3280e+02, 3.8880e+02, 5.5800e+02,\n",
       "       2.2310e+02, 3.6290e+02, 5.6800e+01, 8.1700e+01, 4.8180e+02,\n",
       "       1.0240e+02, 2.2490e+02, 5.9000e+00, 1.1220e+03, 8.3520e+02,\n",
       "       8.6430e+02, 1.5200e+01, 3.7960e+02, 1.5170e+02, 2.2320e+02,\n",
       "       1.5614e+03, 1.3300e+03, 1.3460e+03, 2.1800e+01, 2.9200e+01,\n",
       "       7.3530e+02, 7.7750e+02, 6.9200e+02, 2.5500e+01, 1.9400e+02,\n",
       "       1.2400e+02, 1.5670e+02, 6.4010e+02, 3.2370e+02, 7.3400e+02,\n",
       "       4.3000e+00, 4.4290e+02, 2.6670e+02, 3.1610e+02, 6.7920e+02,\n",
       "       3.5740e+02, 4.3950e+02, 4.0470e+02, 2.4610e+02, 2.9750e+02,\n",
       "       1.6014e+03, 1.6791e+03, 1.7991e+03, 9.7000e+00, 6.8100e+01,\n",
       "       8.7880e+02, 1.3940e+02, 3.8750e+02, 5.5570e+02, 2.4280e+02,\n",
       "       3.6480e+02, 1.0000e+01, 8.0800e+01, 4.7350e+02, 1.0360e+02,\n",
       "       2.1520e+02, 5.1000e+00, 1.0947e+03, 9.0930e+02, 8.5380e+02,\n",
       "       1.5100e+01, 3.7050e+02, 1.5570e+02, 2.2140e+02, 1.5261e+03,\n",
       "       1.3912e+03, 1.3372e+03, 2.1600e+01, 3.1500e+01, 9.2590e+02,\n",
       "       7.8660e+02, 6.8230e+02, 9.9000e+01, 1.8920e+02, 1.3470e+02,\n",
       "       1.5840e+02, 6.4500e+02, 3.4910e+02, 7.5160e+02, 4.2000e+00,\n",
       "       4.3880e+02, 2.7510e+02, 3.1940e+02, 6.8110e+02, 3.7000e+02,\n",
       "       4.3360e+02, 4.0080e+02, 2.7120e+02, 2.9500e+02])"
      ]
     },
     "execution_count": 62,
     "metadata": {},
     "output_type": "execute_result"
    }
   ],
   "source": [
    "data['Total Household Waste Generated (Tons)'].unique()"
   ]
  },
  {
   "cell_type": "code",
   "execution_count": 63,
   "id": "68f78c33-cf1c-4976-abb6-000f4dd2a99e",
   "metadata": {},
   "outputs": [
    {
     "data": {
      "text/plain": [
       "array([150.        , 114.        , 154.        ,   1.        ,\n",
       "       135.        ,   5.        , 288.        ,  29.        ,\n",
       "       115.        , 115.51604278, 217.        ,  28.        ,\n",
       "         3.        , 252.        ,  86.        , 143.        ,\n",
       "        21.        ,  98.        , 210.        , 119.        ,\n",
       "       133.        , 237.        ,  41.        , 147.        ,\n",
       "       207.        , 138.        , 145.        , 198.        ,\n",
       "       131.        , 158.        , 254.        , 152.        ,\n",
       "       120.        , 162.        ,  47.        , 137.        ,\n",
       "       251.        ,  73.        , 136.        ,   8.        ,\n",
       "       243.        ,  99.        , 146.        , 211.        ,\n",
       "        61.        ,   6.        , 159.        , 128.        ,\n",
       "         4.        ,  34.        , 220.        ,   2.        ,\n",
       "       247.        ,  88.        ,  94.        , 208.        ,\n",
       "       116.        , 235.        ,  42.        , 144.        ,\n",
       "       199.        , 140.        , 129.        , 161.        ,\n",
       "       255.        , 134.        , 121.        , 160.        ,\n",
       "        51.        , 236.        ,  74.        , 232.        ,\n",
       "        95.        , 202.        ,  62.        , 148.        ,\n",
       "       163.        , 130.        , 277.        ,  35.        ,\n",
       "       122.        , 223.        ,  22.        , 250.        ,\n",
       "       349.        ,  20.        ,  96.        , 212.        ,\n",
       "       142.        , 231.        ,  44.        , 155.        ,\n",
       "       132.        , 167.        , 127.        , 156.        ,\n",
       "        49.        , 219.        ,  85.        , 151.        ,\n",
       "       205.        ,  63.        , 139.        , 164.        ,\n",
       "       272.        ,  36.        , 123.        ,  90.        ,\n",
       "       100.        , 233.        ,  48.        , 193.        ,\n",
       "       241.        ,  52.        , 126.        , 218.        ,\n",
       "        91.        , 125.        , 228.        , 187.        ,\n",
       "        67.        , 262.        ,  32.        , 200.        ,\n",
       "       339.        , 102.        , 204.        , 194.        ,\n",
       "       191.        , 168.        , 240.        , 153.        ,\n",
       "        92.        , 225.        , 183.        , 265.        ,\n",
       "        37.        , 117.        ,  39.        , 244.        ,\n",
       "       330.        ,  53.        , 192.        , 171.        ,\n",
       "       227.        , 188.        ,   7.        , 258.        ,\n",
       "        33.        , 213.        ,  40.        , 317.        ,\n",
       "       101.        , 230.        ,  50.        , 242.        ,\n",
       "       185.        ,  72.        , 169.        ,  38.        ,\n",
       "        45.        , 245.        ,  87.        , 321.        ,\n",
       "       113.        ,  59.        , 195.        , 165.        ,\n",
       "       175.        , 190.        , 141.        ,  54.        ,\n",
       "       124.        , 106.        , 234.        ,  78.        ,\n",
       "       229.        , 300.        ,  55.        , 173.        ,\n",
       "       203.        , 108.        , 253.        ,  46.        ,\n",
       "       290.        , 196.        , 189.        , 186.        ,\n",
       "       172.        , 206.        , 224.        , 166.        ,\n",
       "        23.        , 111.        , 209.        , 226.        ,\n",
       "       284.        , 149.        , 103.        ,  97.        ,\n",
       "       110.        ,  57.        , 279.        , 118.        ,\n",
       "       180.        ,  64.        , 181.        , 170.        ,\n",
       "       157.        , 201.        , 182.        ,  93.        ,\n",
       "       248.        ,  24.        , 109.        ,  66.        ,\n",
       "       274.        , 179.        ,  75.        ,  56.        ,\n",
       "       184.        , 105.        ,  25.        ,  79.        ,\n",
       "       267.        , 177.        ,  81.        , 197.        ,\n",
       "        69.        , 107.        ,  80.        ,  82.        ,\n",
       "        89.        , 176.        , 174.        ,  84.        ,\n",
       "       260.        , 178.        , 239.        ])"
      ]
     },
     "execution_count": 63,
     "metadata": {},
     "output_type": "execute_result"
    }
   ],
   "source": [
    "data['Household Waste Generated per Inhabitant (kg)'].unique()"
   ]
  },
  {
   "cell_type": "code",
   "execution_count": null,
   "id": "51a87c8c-4ea3-465b-a9d0-5b4062a05316",
   "metadata": {},
   "outputs": [],
   "source": []
  },
  {
   "cell_type": "code",
   "execution_count": 64,
   "id": "bfbb67b5-e123-4d0a-8187-91af7755a1c4",
   "metadata": {},
   "outputs": [
    {
     "data": {
      "text/html": [
       "<div>\n",
       "<style scoped>\n",
       "    .dataframe tbody tr th:only-of-type {\n",
       "        vertical-align: middle;\n",
       "    }\n",
       "\n",
       "    .dataframe tbody tr th {\n",
       "        vertical-align: top;\n",
       "    }\n",
       "\n",
       "    .dataframe thead th {\n",
       "        text-align: right;\n",
       "    }\n",
       "</style>\n",
       "<table border=\"1\" class=\"dataframe\">\n",
       "  <thead>\n",
       "    <tr style=\"text-align: right;\">\n",
       "      <th></th>\n",
       "      <th>Year</th>\n",
       "      <th>States</th>\n",
       "      <th>Types of Waste</th>\n",
       "      <th>Total Household Waste Generated (Tons)</th>\n",
       "      <th>Household Waste Generated per Inhabitant (kg)</th>\n",
       "    </tr>\n",
       "  </thead>\n",
       "  <tbody>\n",
       "    <tr>\n",
       "      <th>0</th>\n",
       "      <td>2004</td>\n",
       "      <td>Baden-Württemberg</td>\n",
       "      <td>Residual household and bulky wastes</td>\n",
       "      <td>1605.6</td>\n",
       "      <td>150.0</td>\n",
       "    </tr>\n",
       "    <tr>\n",
       "      <th>1</th>\n",
       "      <td>2004</td>\n",
       "      <td>Baden-Württemberg</td>\n",
       "      <td>Separately collected organic wastes</td>\n",
       "      <td>1220.5</td>\n",
       "      <td>114.0</td>\n",
       "    </tr>\n",
       "    <tr>\n",
       "      <th>2</th>\n",
       "      <td>2004</td>\n",
       "      <td>Baden-Württemberg</td>\n",
       "      <td>Separately collected recyclables</td>\n",
       "      <td>1645.3</td>\n",
       "      <td>154.0</td>\n",
       "    </tr>\n",
       "    <tr>\n",
       "      <th>3</th>\n",
       "      <td>2004</td>\n",
       "      <td>Baden-Württemberg</td>\n",
       "      <td>Other wastes</td>\n",
       "      <td>9.4</td>\n",
       "      <td>1.0</td>\n",
       "    </tr>\n",
       "    <tr>\n",
       "      <th>4</th>\n",
       "      <td>2004</td>\n",
       "      <td>Bayern</td>\n",
       "      <td>Separately collected organic wastes</td>\n",
       "      <td>1677.3</td>\n",
       "      <td>135.0</td>\n",
       "    </tr>\n",
       "  </tbody>\n",
       "</table>\n",
       "</div>"
      ],
      "text/plain": [
       "   Year             States                       Types of Waste  \\\n",
       "0  2004  Baden-Württemberg  Residual household and bulky wastes   \n",
       "1  2004  Baden-Württemberg  Separately collected organic wastes   \n",
       "2  2004  Baden-Württemberg     Separately collected recyclables   \n",
       "3  2004  Baden-Württemberg                         Other wastes   \n",
       "4  2004             Bayern  Separately collected organic wastes   \n",
       "\n",
       "   Total Household Waste Generated (Tons)  \\\n",
       "0                                  1605.6   \n",
       "1                                  1220.5   \n",
       "2                                  1645.3   \n",
       "3                                     9.4   \n",
       "4                                  1677.3   \n",
       "\n",
       "   Household Waste Generated per Inhabitant (kg)  \n",
       "0                                          150.0  \n",
       "1                                          114.0  \n",
       "2                                          154.0  \n",
       "3                                            1.0  \n",
       "4                                          135.0  "
      ]
     },
     "execution_count": 64,
     "metadata": {},
     "output_type": "execute_result"
    }
   ],
   "source": [
    "data.head()"
   ]
  },
  {
   "cell_type": "code",
   "execution_count": 65,
   "id": "4b8accb6-299a-4aa7-8b6c-bbca05277e5b",
   "metadata": {},
   "outputs": [],
   "source": [
    "y = data['Household Waste Generated per Inhabitant (kg)']"
   ]
  },
  {
   "cell_type": "code",
   "execution_count": 66,
   "id": "84dd703c-9623-4a06-a19e-6cc2efb9551b",
   "metadata": {},
   "outputs": [
    {
     "data": {
      "text/plain": [
       "0    150.0\n",
       "1    114.0\n",
       "2    154.0\n",
       "3      1.0\n",
       "4    135.0\n",
       "Name: Household Waste Generated per Inhabitant (kg), dtype: float64"
      ]
     },
     "execution_count": 66,
     "metadata": {},
     "output_type": "execute_result"
    }
   ],
   "source": [
    "y.head()"
   ]
  },
  {
   "cell_type": "code",
   "execution_count": 67,
   "id": "420b78f1-5854-4ee1-8e38-20d31b8f5b18",
   "metadata": {},
   "outputs": [],
   "source": [
    "data_X = data"
   ]
  },
  {
   "cell_type": "code",
   "execution_count": 68,
   "id": "5deec586-9cc4-485a-9148-c921fa1060ad",
   "metadata": {},
   "outputs": [],
   "source": [
    "data_X.drop(['Household Waste Generated per Inhabitant (kg)','Total Household Waste Generated (Tons)'],axis=1,inplace=True)"
   ]
  },
  {
   "cell_type": "code",
   "execution_count": 69,
   "id": "3f0158fd-23ce-41b0-99a9-ec21db443267",
   "metadata": {},
   "outputs": [
    {
     "data": {
      "text/html": [
       "<div>\n",
       "<style scoped>\n",
       "    .dataframe tbody tr th:only-of-type {\n",
       "        vertical-align: middle;\n",
       "    }\n",
       "\n",
       "    .dataframe tbody tr th {\n",
       "        vertical-align: top;\n",
       "    }\n",
       "\n",
       "    .dataframe thead th {\n",
       "        text-align: right;\n",
       "    }\n",
       "</style>\n",
       "<table border=\"1\" class=\"dataframe\">\n",
       "  <thead>\n",
       "    <tr style=\"text-align: right;\">\n",
       "      <th></th>\n",
       "      <th>Year</th>\n",
       "      <th>States</th>\n",
       "      <th>Types of Waste</th>\n",
       "    </tr>\n",
       "  </thead>\n",
       "  <tbody>\n",
       "    <tr>\n",
       "      <th>0</th>\n",
       "      <td>2004</td>\n",
       "      <td>Baden-Württemberg</td>\n",
       "      <td>Residual household and bulky wastes</td>\n",
       "    </tr>\n",
       "    <tr>\n",
       "      <th>1</th>\n",
       "      <td>2004</td>\n",
       "      <td>Baden-Württemberg</td>\n",
       "      <td>Separately collected organic wastes</td>\n",
       "    </tr>\n",
       "    <tr>\n",
       "      <th>2</th>\n",
       "      <td>2004</td>\n",
       "      <td>Baden-Württemberg</td>\n",
       "      <td>Separately collected recyclables</td>\n",
       "    </tr>\n",
       "    <tr>\n",
       "      <th>3</th>\n",
       "      <td>2004</td>\n",
       "      <td>Baden-Württemberg</td>\n",
       "      <td>Other wastes</td>\n",
       "    </tr>\n",
       "    <tr>\n",
       "      <th>4</th>\n",
       "      <td>2004</td>\n",
       "      <td>Bayern</td>\n",
       "      <td>Separately collected organic wastes</td>\n",
       "    </tr>\n",
       "    <tr>\n",
       "      <th>...</th>\n",
       "      <td>...</td>\n",
       "      <td>...</td>\n",
       "      <td>...</td>\n",
       "    </tr>\n",
       "    <tr>\n",
       "      <th>1041</th>\n",
       "      <td>2021</td>\n",
       "      <td>Schleswig-Holstein</td>\n",
       "      <td>Other wastes</td>\n",
       "    </tr>\n",
       "    <tr>\n",
       "      <th>1042</th>\n",
       "      <td>2021</td>\n",
       "      <td>Thüringen</td>\n",
       "      <td>Residual household and bulky wastes</td>\n",
       "    </tr>\n",
       "    <tr>\n",
       "      <th>1043</th>\n",
       "      <td>2021</td>\n",
       "      <td>Thüringen</td>\n",
       "      <td>Separately collected organic wastes</td>\n",
       "    </tr>\n",
       "    <tr>\n",
       "      <th>1044</th>\n",
       "      <td>2021</td>\n",
       "      <td>Thüringen</td>\n",
       "      <td>Separately collected recyclables</td>\n",
       "    </tr>\n",
       "    <tr>\n",
       "      <th>1045</th>\n",
       "      <td>2021</td>\n",
       "      <td>Thüringen</td>\n",
       "      <td>Other wastes</td>\n",
       "    </tr>\n",
       "  </tbody>\n",
       "</table>\n",
       "<p>1046 rows × 3 columns</p>\n",
       "</div>"
      ],
      "text/plain": [
       "      Year              States                       Types of Waste\n",
       "0     2004   Baden-Württemberg  Residual household and bulky wastes\n",
       "1     2004   Baden-Württemberg  Separately collected organic wastes\n",
       "2     2004   Baden-Württemberg     Separately collected recyclables\n",
       "3     2004   Baden-Württemberg                         Other wastes\n",
       "4     2004              Bayern  Separately collected organic wastes\n",
       "...    ...                 ...                                  ...\n",
       "1041  2021  Schleswig-Holstein                         Other wastes\n",
       "1042  2021           Thüringen  Residual household and bulky wastes\n",
       "1043  2021           Thüringen  Separately collected organic wastes\n",
       "1044  2021           Thüringen     Separately collected recyclables\n",
       "1045  2021           Thüringen                         Other wastes\n",
       "\n",
       "[1046 rows x 3 columns]"
      ]
     },
     "execution_count": 69,
     "metadata": {},
     "output_type": "execute_result"
    }
   ],
   "source": [
    "data_X"
   ]
  },
  {
   "cell_type": "code",
   "execution_count": null,
   "id": "47887e3e-d977-4169-9ddf-1c05be904ac4",
   "metadata": {},
   "outputs": [],
   "source": []
  },
  {
   "cell_type": "code",
   "execution_count": 70,
   "id": "1a6d0296-6833-4485-a783-3e4ef7907d3a",
   "metadata": {},
   "outputs": [],
   "source": [
    "#Step-1\n",
    "X_train,X_test,y_train,y_test = train_test_split(data_X,y,test_size=0.2,random_state=42)"
   ]
  },
  {
   "cell_type": "code",
   "execution_count": 71,
   "id": "1a48dbd4-dcc3-43cc-8af7-1806eba75adc",
   "metadata": {},
   "outputs": [
    {
     "data": {
      "text/html": [
       "<div>\n",
       "<style scoped>\n",
       "    .dataframe tbody tr th:only-of-type {\n",
       "        vertical-align: middle;\n",
       "    }\n",
       "\n",
       "    .dataframe tbody tr th {\n",
       "        vertical-align: top;\n",
       "    }\n",
       "\n",
       "    .dataframe thead th {\n",
       "        text-align: right;\n",
       "    }\n",
       "</style>\n",
       "<table border=\"1\" class=\"dataframe\">\n",
       "  <thead>\n",
       "    <tr style=\"text-align: right;\">\n",
       "      <th></th>\n",
       "      <th>Year</th>\n",
       "      <th>States</th>\n",
       "      <th>Types of Waste</th>\n",
       "    </tr>\n",
       "  </thead>\n",
       "  <tbody>\n",
       "    <tr>\n",
       "      <th>256</th>\n",
       "      <td>2008</td>\n",
       "      <td>Hessen</td>\n",
       "      <td>Residual household and bulky wastes</td>\n",
       "    </tr>\n",
       "    <tr>\n",
       "      <th>351</th>\n",
       "      <td>2009</td>\n",
       "      <td>Thüringen</td>\n",
       "      <td>Other wastes</td>\n",
       "    </tr>\n",
       "    <tr>\n",
       "      <th>60</th>\n",
       "      <td>2005</td>\n",
       "      <td>Baden-Württemberg</td>\n",
       "      <td>Separately collected recyclables</td>\n",
       "    </tr>\n",
       "    <tr>\n",
       "      <th>344</th>\n",
       "      <td>2009</td>\n",
       "      <td>Schleswig-Holstein</td>\n",
       "      <td>Residual household and bulky wastes</td>\n",
       "    </tr>\n",
       "    <tr>\n",
       "      <th>381</th>\n",
       "      <td>2010</td>\n",
       "      <td>Mecklenburg-Vorpommern</td>\n",
       "      <td>Other wastes</td>\n",
       "    </tr>\n",
       "  </tbody>\n",
       "</table>\n",
       "</div>"
      ],
      "text/plain": [
       "     Year                  States                       Types of Waste\n",
       "256  2008                  Hessen  Residual household and bulky wastes\n",
       "351  2009               Thüringen                         Other wastes\n",
       "60   2005       Baden-Württemberg     Separately collected recyclables\n",
       "344  2009      Schleswig-Holstein  Residual household and bulky wastes\n",
       "381  2010  Mecklenburg-Vorpommern                         Other wastes"
      ]
     },
     "execution_count": 71,
     "metadata": {},
     "output_type": "execute_result"
    }
   ],
   "source": [
    "X_train.head()"
   ]
  },
  {
   "cell_type": "code",
   "execution_count": 72,
   "id": "0a0c77b9-a220-4fe5-ac23-a9520114ee6d",
   "metadata": {},
   "outputs": [
    {
     "data": {
      "text/plain": [
       "537      1.0\n",
       "560    164.0\n",
       "650    247.0\n",
       "619      2.0\n",
       "584     86.0\n",
       "Name: Household Waste Generated per Inhabitant (kg), dtype: float64"
      ]
     },
     "execution_count": 72,
     "metadata": {},
     "output_type": "execute_result"
    }
   ],
   "source": [
    "y_train.sample(5)"
   ]
  },
  {
   "cell_type": "code",
   "execution_count": 73,
   "id": "c7c400c7-ad9b-49ce-8f82-09b3efd408ba",
   "metadata": {},
   "outputs": [],
   "source": [
    "numeric_features = ['Year'] \n",
    "categorical_features = ['States','Types of Waste']"
   ]
  },
  {
   "cell_type": "code",
   "execution_count": 74,
   "id": "8e222fad-0fc0-4352-a40b-08f6e4653a6a",
   "metadata": {},
   "outputs": [],
   "source": [
    "numeric_transformer = Pipeline(steps=[('scaler', MinMaxScaler(feature_range=(-1, 1)))])"
   ]
  },
  {
   "cell_type": "code",
   "execution_count": 75,
   "id": "e78d2e98-614f-4f6c-8bbc-31ba4c56dedd",
   "metadata": {},
   "outputs": [],
   "source": [
    "categorical_transformer = Pipeline(steps=[\n",
    "    ('onehot', OneHotEncoder(sparse_output=True, handle_unknown='ignore'))])"
   ]
  },
  {
   "cell_type": "code",
   "execution_count": 76,
   "id": "28a95d86-bc8a-4ff3-a627-204653f3705f",
   "metadata": {},
   "outputs": [],
   "source": [
    "preprocessor = ColumnTransformer(\n",
    "    transformers=[\n",
    "        ('num', numeric_transformer, numeric_features),\n",
    "        ('cat', categorical_transformer, categorical_features)\n",
    "    ])"
   ]
  },
  {
   "cell_type": "code",
   "execution_count": 77,
   "id": "c981d04a-cc5c-4ae1-9b67-f14e8eccc2ae",
   "metadata": {},
   "outputs": [],
   "source": [
    "# train the model\n",
    "random_forest = RandomForestRegressor(random_state=42)\n",
    "#DecisionTreeRegressor(random_state=42)"
   ]
  },
  {
   "cell_type": "raw",
   "id": "897c2491-a249-43c4-908d-b605a0a9b2ad",
   "metadata": {},
   "source": [
    "Create Pipeline"
   ]
  },
  {
   "cell_type": "code",
   "execution_count": 78,
   "id": "0c0a5817-41f1-4aaa-83c1-462cd6061959",
   "metadata": {},
   "outputs": [],
   "source": [
    "from sklearn import set_config\n",
    "set_config(display='diagram')"
   ]
  },
  {
   "cell_type": "code",
   "execution_count": 79,
   "id": "ded7b05a-9dcf-4a76-9704-a85d40acfb0f",
   "metadata": {},
   "outputs": [],
   "source": [
    "model = Pipeline(steps=[\n",
    "    ('precprocessor', preprocessor),\n",
    "   # ('feature_selection',feature_selection),\n",
    "    ('random_forest', random_forest)\n",
    "])"
   ]
  },
  {
   "cell_type": "code",
   "execution_count": 80,
   "id": "b276fcdf-c039-4ff6-95e1-97ef0364cbe1",
   "metadata": {},
   "outputs": [
    {
     "data": {
      "text/html": [
       "<style>#sk-container-id-3 {color: black;}#sk-container-id-3 pre{padding: 0;}#sk-container-id-3 div.sk-toggleable {background-color: white;}#sk-container-id-3 label.sk-toggleable__label {cursor: pointer;display: block;width: 100%;margin-bottom: 0;padding: 0.3em;box-sizing: border-box;text-align: center;}#sk-container-id-3 label.sk-toggleable__label-arrow:before {content: \"▸\";float: left;margin-right: 0.25em;color: #696969;}#sk-container-id-3 label.sk-toggleable__label-arrow:hover:before {color: black;}#sk-container-id-3 div.sk-estimator:hover label.sk-toggleable__label-arrow:before {color: black;}#sk-container-id-3 div.sk-toggleable__content {max-height: 0;max-width: 0;overflow: hidden;text-align: left;background-color: #f0f8ff;}#sk-container-id-3 div.sk-toggleable__content pre {margin: 0.2em;color: black;border-radius: 0.25em;background-color: #f0f8ff;}#sk-container-id-3 input.sk-toggleable__control:checked~div.sk-toggleable__content {max-height: 200px;max-width: 100%;overflow: auto;}#sk-container-id-3 input.sk-toggleable__control:checked~label.sk-toggleable__label-arrow:before {content: \"▾\";}#sk-container-id-3 div.sk-estimator input.sk-toggleable__control:checked~label.sk-toggleable__label {background-color: #d4ebff;}#sk-container-id-3 div.sk-label input.sk-toggleable__control:checked~label.sk-toggleable__label {background-color: #d4ebff;}#sk-container-id-3 input.sk-hidden--visually {border: 0;clip: rect(1px 1px 1px 1px);clip: rect(1px, 1px, 1px, 1px);height: 1px;margin: -1px;overflow: hidden;padding: 0;position: absolute;width: 1px;}#sk-container-id-3 div.sk-estimator {font-family: monospace;background-color: #f0f8ff;border: 1px dotted black;border-radius: 0.25em;box-sizing: border-box;margin-bottom: 0.5em;}#sk-container-id-3 div.sk-estimator:hover {background-color: #d4ebff;}#sk-container-id-3 div.sk-parallel-item::after {content: \"\";width: 100%;border-bottom: 1px solid gray;flex-grow: 1;}#sk-container-id-3 div.sk-label:hover label.sk-toggleable__label {background-color: #d4ebff;}#sk-container-id-3 div.sk-serial::before {content: \"\";position: absolute;border-left: 1px solid gray;box-sizing: border-box;top: 0;bottom: 0;left: 50%;z-index: 0;}#sk-container-id-3 div.sk-serial {display: flex;flex-direction: column;align-items: center;background-color: white;padding-right: 0.2em;padding-left: 0.2em;position: relative;}#sk-container-id-3 div.sk-item {position: relative;z-index: 1;}#sk-container-id-3 div.sk-parallel {display: flex;align-items: stretch;justify-content: center;background-color: white;position: relative;}#sk-container-id-3 div.sk-item::before, #sk-container-id-3 div.sk-parallel-item::before {content: \"\";position: absolute;border-left: 1px solid gray;box-sizing: border-box;top: 0;bottom: 0;left: 50%;z-index: -1;}#sk-container-id-3 div.sk-parallel-item {display: flex;flex-direction: column;z-index: 1;position: relative;background-color: white;}#sk-container-id-3 div.sk-parallel-item:first-child::after {align-self: flex-end;width: 50%;}#sk-container-id-3 div.sk-parallel-item:last-child::after {align-self: flex-start;width: 50%;}#sk-container-id-3 div.sk-parallel-item:only-child::after {width: 0;}#sk-container-id-3 div.sk-dashed-wrapped {border: 1px dashed gray;margin: 0 0.4em 0.5em 0.4em;box-sizing: border-box;padding-bottom: 0.4em;background-color: white;}#sk-container-id-3 div.sk-label label {font-family: monospace;font-weight: bold;display: inline-block;line-height: 1.2em;}#sk-container-id-3 div.sk-label-container {text-align: center;}#sk-container-id-3 div.sk-container {/* jupyter's `normalize.less` sets `[hidden] { display: none; }` but bootstrap.min.css set `[hidden] { display: none !important; }` so we also need the `!important` here to be able to override the default hidden behavior on the sphinx rendered scikit-learn.org. See: https://github.com/scikit-learn/scikit-learn/issues/21755 */display: inline-block !important;position: relative;}#sk-container-id-3 div.sk-text-repr-fallback {display: none;}</style><div id=\"sk-container-id-3\" class=\"sk-top-container\"><div class=\"sk-text-repr-fallback\"><pre>Pipeline(steps=[(&#x27;precprocessor&#x27;,\n",
       "                 ColumnTransformer(transformers=[(&#x27;num&#x27;,\n",
       "                                                  Pipeline(steps=[(&#x27;scaler&#x27;,\n",
       "                                                                   MinMaxScaler(feature_range=(-1,\n",
       "                                                                                               1)))]),\n",
       "                                                  [&#x27;Year&#x27;]),\n",
       "                                                 (&#x27;cat&#x27;,\n",
       "                                                  Pipeline(steps=[(&#x27;onehot&#x27;,\n",
       "                                                                   OneHotEncoder(handle_unknown=&#x27;ignore&#x27;))]),\n",
       "                                                  [&#x27;States&#x27;,\n",
       "                                                   &#x27;Types of Waste&#x27;])])),\n",
       "                (&#x27;random_forest&#x27;, RandomForestRegressor(random_state=42))])</pre><b>In a Jupyter environment, please rerun this cell to show the HTML representation or trust the notebook. <br />On GitHub, the HTML representation is unable to render, please try loading this page with nbviewer.org.</b></div><div class=\"sk-container\" hidden><div class=\"sk-item sk-dashed-wrapped\"><div class=\"sk-label-container\"><div class=\"sk-label sk-toggleable\"><input class=\"sk-toggleable__control sk-hidden--visually\" id=\"sk-estimator-id-16\" type=\"checkbox\" ><label for=\"sk-estimator-id-16\" class=\"sk-toggleable__label sk-toggleable__label-arrow\">Pipeline</label><div class=\"sk-toggleable__content\"><pre>Pipeline(steps=[(&#x27;precprocessor&#x27;,\n",
       "                 ColumnTransformer(transformers=[(&#x27;num&#x27;,\n",
       "                                                  Pipeline(steps=[(&#x27;scaler&#x27;,\n",
       "                                                                   MinMaxScaler(feature_range=(-1,\n",
       "                                                                                               1)))]),\n",
       "                                                  [&#x27;Year&#x27;]),\n",
       "                                                 (&#x27;cat&#x27;,\n",
       "                                                  Pipeline(steps=[(&#x27;onehot&#x27;,\n",
       "                                                                   OneHotEncoder(handle_unknown=&#x27;ignore&#x27;))]),\n",
       "                                                  [&#x27;States&#x27;,\n",
       "                                                   &#x27;Types of Waste&#x27;])])),\n",
       "                (&#x27;random_forest&#x27;, RandomForestRegressor(random_state=42))])</pre></div></div></div><div class=\"sk-serial\"><div class=\"sk-item sk-dashed-wrapped\"><div class=\"sk-label-container\"><div class=\"sk-label sk-toggleable\"><input class=\"sk-toggleable__control sk-hidden--visually\" id=\"sk-estimator-id-17\" type=\"checkbox\" ><label for=\"sk-estimator-id-17\" class=\"sk-toggleable__label sk-toggleable__label-arrow\">precprocessor: ColumnTransformer</label><div class=\"sk-toggleable__content\"><pre>ColumnTransformer(transformers=[(&#x27;num&#x27;,\n",
       "                                 Pipeline(steps=[(&#x27;scaler&#x27;,\n",
       "                                                  MinMaxScaler(feature_range=(-1,\n",
       "                                                                              1)))]),\n",
       "                                 [&#x27;Year&#x27;]),\n",
       "                                (&#x27;cat&#x27;,\n",
       "                                 Pipeline(steps=[(&#x27;onehot&#x27;,\n",
       "                                                  OneHotEncoder(handle_unknown=&#x27;ignore&#x27;))]),\n",
       "                                 [&#x27;States&#x27;, &#x27;Types of Waste&#x27;])])</pre></div></div></div><div class=\"sk-parallel\"><div class=\"sk-parallel-item\"><div class=\"sk-item\"><div class=\"sk-label-container\"><div class=\"sk-label sk-toggleable\"><input class=\"sk-toggleable__control sk-hidden--visually\" id=\"sk-estimator-id-18\" type=\"checkbox\" ><label for=\"sk-estimator-id-18\" class=\"sk-toggleable__label sk-toggleable__label-arrow\">num</label><div class=\"sk-toggleable__content\"><pre>[&#x27;Year&#x27;]</pre></div></div></div><div class=\"sk-serial\"><div class=\"sk-item\"><div class=\"sk-serial\"><div class=\"sk-item\"><div class=\"sk-estimator sk-toggleable\"><input class=\"sk-toggleable__control sk-hidden--visually\" id=\"sk-estimator-id-19\" type=\"checkbox\" ><label for=\"sk-estimator-id-19\" class=\"sk-toggleable__label sk-toggleable__label-arrow\">MinMaxScaler</label><div class=\"sk-toggleable__content\"><pre>MinMaxScaler(feature_range=(-1, 1))</pre></div></div></div></div></div></div></div></div><div class=\"sk-parallel-item\"><div class=\"sk-item\"><div class=\"sk-label-container\"><div class=\"sk-label sk-toggleable\"><input class=\"sk-toggleable__control sk-hidden--visually\" id=\"sk-estimator-id-20\" type=\"checkbox\" ><label for=\"sk-estimator-id-20\" class=\"sk-toggleable__label sk-toggleable__label-arrow\">cat</label><div class=\"sk-toggleable__content\"><pre>[&#x27;States&#x27;, &#x27;Types of Waste&#x27;]</pre></div></div></div><div class=\"sk-serial\"><div class=\"sk-item\"><div class=\"sk-serial\"><div class=\"sk-item\"><div class=\"sk-estimator sk-toggleable\"><input class=\"sk-toggleable__control sk-hidden--visually\" id=\"sk-estimator-id-21\" type=\"checkbox\" ><label for=\"sk-estimator-id-21\" class=\"sk-toggleable__label sk-toggleable__label-arrow\">OneHotEncoder</label><div class=\"sk-toggleable__content\"><pre>OneHotEncoder(handle_unknown=&#x27;ignore&#x27;)</pre></div></div></div></div></div></div></div></div></div></div><div class=\"sk-item\"><div class=\"sk-estimator sk-toggleable\"><input class=\"sk-toggleable__control sk-hidden--visually\" id=\"sk-estimator-id-22\" type=\"checkbox\" ><label for=\"sk-estimator-id-22\" class=\"sk-toggleable__label sk-toggleable__label-arrow\">RandomForestRegressor</label><div class=\"sk-toggleable__content\"><pre>RandomForestRegressor(random_state=42)</pre></div></div></div></div></div></div></div>"
      ],
      "text/plain": [
       "Pipeline(steps=[('precprocessor',\n",
       "                 ColumnTransformer(transformers=[('num',\n",
       "                                                  Pipeline(steps=[('scaler',\n",
       "                                                                   MinMaxScaler(feature_range=(-1,\n",
       "                                                                                               1)))]),\n",
       "                                                  ['Year']),\n",
       "                                                 ('cat',\n",
       "                                                  Pipeline(steps=[('onehot',\n",
       "                                                                   OneHotEncoder(handle_unknown='ignore'))]),\n",
       "                                                  ['States',\n",
       "                                                   'Types of Waste'])])),\n",
       "                ('random_forest', RandomForestRegressor(random_state=42))])"
      ]
     },
     "execution_count": 80,
     "metadata": {},
     "output_type": "execute_result"
    }
   ],
   "source": [
    "# train\n",
    "model.fit(X_train,y_train)"
   ]
  },
  {
   "cell_type": "code",
   "execution_count": 81,
   "id": "2887e3b0-f1eb-43ee-ab39-be31b4fb79d5",
   "metadata": {},
   "outputs": [
    {
     "data": {
      "text/plain": [
       "{'precprocessor': ColumnTransformer(transformers=[('num',\n",
       "                                  Pipeline(steps=[('scaler',\n",
       "                                                   MinMaxScaler(feature_range=(-1,\n",
       "                                                                               1)))]),\n",
       "                                  ['Year']),\n",
       "                                 ('cat',\n",
       "                                  Pipeline(steps=[('onehot',\n",
       "                                                   OneHotEncoder(handle_unknown='ignore'))]),\n",
       "                                  ['States', 'Types of Waste'])]),\n",
       " 'random_forest': RandomForestRegressor(random_state=42)}"
      ]
     },
     "execution_count": 81,
     "metadata": {},
     "output_type": "execute_result"
    }
   ],
   "source": [
    "model.named_steps"
   ]
  },
  {
   "cell_type": "code",
   "execution_count": 82,
   "id": "afee32e5-2ad3-4ce1-9b62-05f291f57f48",
   "metadata": {},
   "outputs": [
    {
     "data": {
      "text/html": [
       "<div>\n",
       "<style scoped>\n",
       "    .dataframe tbody tr th:only-of-type {\n",
       "        vertical-align: middle;\n",
       "    }\n",
       "\n",
       "    .dataframe tbody tr th {\n",
       "        vertical-align: top;\n",
       "    }\n",
       "\n",
       "    .dataframe thead th {\n",
       "        text-align: right;\n",
       "    }\n",
       "</style>\n",
       "<table border=\"1\" class=\"dataframe\">\n",
       "  <thead>\n",
       "    <tr style=\"text-align: right;\">\n",
       "      <th></th>\n",
       "      <th>Year</th>\n",
       "      <th>States</th>\n",
       "      <th>Types of Waste</th>\n",
       "    </tr>\n",
       "  </thead>\n",
       "  <tbody>\n",
       "    <tr>\n",
       "      <th>773</th>\n",
       "      <td>2017</td>\n",
       "      <td>Bremen</td>\n",
       "      <td>Separately collected organic wastes</td>\n",
       "    </tr>\n",
       "    <tr>\n",
       "      <th>280</th>\n",
       "      <td>2008</td>\n",
       "      <td>Sachsen</td>\n",
       "      <td>Other wastes</td>\n",
       "    </tr>\n",
       "    <tr>\n",
       "      <th>629</th>\n",
       "      <td>2014</td>\n",
       "      <td>Sachsen</td>\n",
       "      <td>Residual household and bulky wastes</td>\n",
       "    </tr>\n",
       "    <tr>\n",
       "      <th>318</th>\n",
       "      <td>2009</td>\n",
       "      <td>Hessen</td>\n",
       "      <td>Other wastes</td>\n",
       "    </tr>\n",
       "    <tr>\n",
       "      <th>1008</th>\n",
       "      <td>2021</td>\n",
       "      <td>Hamburg</td>\n",
       "      <td>Other wastes</td>\n",
       "    </tr>\n",
       "  </tbody>\n",
       "</table>\n",
       "</div>"
      ],
      "text/plain": [
       "      Year   States                       Types of Waste\n",
       "773   2017   Bremen  Separately collected organic wastes\n",
       "280   2008  Sachsen                         Other wastes\n",
       "629   2014  Sachsen  Residual household and bulky wastes\n",
       "318   2009   Hessen                         Other wastes\n",
       "1008  2021  Hamburg                         Other wastes"
      ]
     },
     "execution_count": 82,
     "metadata": {},
     "output_type": "execute_result"
    }
   ],
   "source": [
    "X_test.head()"
   ]
  },
  {
   "cell_type": "code",
   "execution_count": 83,
   "id": "5207a7d8-216f-4811-9377-818206ce5968",
   "metadata": {},
   "outputs": [],
   "source": [
    "final_predictions = model.predict(X_test)"
   ]
  },
  {
   "cell_type": "code",
   "execution_count": 84,
   "id": "ec4650a5-e246-4e2a-b566-837e8c8e5b41",
   "metadata": {},
   "outputs": [
    {
     "data": {
      "text/plain": [
       "array([ 86.99      ,   1.12      , 149.78      ,  73.14510695,\n",
       "         2.72      , 133.69      , 137.88      ,  68.15      ,\n",
       "       205.78      ,   1.09      , 130.23      ,  96.73      ,\n",
       "       110.3       , 122.81      ,  48.95      , 213.65      ,\n",
       "       184.15      , 242.09      ,   1.        ,   6.06      ,\n",
       "       179.55      , 152.06      ,   5.47      , 216.46      ,\n",
       "        12.45160428, 152.72      , 149.48      , 118.47      ,\n",
       "        77.07      , 136.14      ,   1.19      , 145.02      ,\n",
       "        12.47160428, 139.51      , 232.18      , 234.88      ,\n",
       "       248.39      , 232.11      , 166.3       ,  67.85      ,\n",
       "         2.1       ,  47.92      , 203.27      , 120.21      ,\n",
       "       136.45      , 133.23      ,   3.96      , 115.12      ,\n",
       "       187.09      ,  20.87      ,   5.02      ,  33.32      ,\n",
       "       172.17      , 115.51604278,   2.44      , 149.54      ,\n",
       "       157.37      , 182.47      , 151.44      , 210.29      ,\n",
       "        59.53      , 226.74      , 184.98      ,  49.89      ,\n",
       "       151.8       , 134.95      ,   3.8       ,   4.07      ,\n",
       "         1.04      , 121.46      , 131.84      , 134.22      ,\n",
       "        11.30644385,  86.99      , 139.86      ,   1.01      ,\n",
       "         1.47      , 115.51604278,   1.02      ,  72.38      ,\n",
       "         1.        , 132.11      , 145.75      ,  40.46      ,\n",
       "       188.09      , 181.23      , 196.01      , 156.84      ,\n",
       "         1.01      , 168.66      ,  86.15      , 165.56      ,\n",
       "       136.42      ,  51.63      , 137.02      ,   1.22      ,\n",
       "        87.77      ,   1.        , 131.78      , 145.87      ,\n",
       "         5.58      , 146.95      , 207.9       , 137.1       ,\n",
       "       149.19      ,  97.07      ,   2.58      , 118.06      ,\n",
       "       155.14      , 152.49      ,   1.27      ,   1.88      ,\n",
       "        68.09      , 113.05      ,   1.        , 141.19      ,\n",
       "       192.77      , 229.62      , 183.51      , 156.88      ,\n",
       "       111.22      ,  68.56446524,   1.97      , 148.89      ,\n",
       "        59.11      ,   4.98      , 232.69      , 135.51      ,\n",
       "         1.03      , 159.42      , 228.5       ,   1.        ,\n",
       "         2.6       ,   2.66      ,  96.        ,   3.12      ,\n",
       "        53.14      , 115.51604278, 227.4       , 117.72      ,\n",
       "         1.        ,  66.27414439, 138.52      ,   1.18      ,\n",
       "        22.68      ,   1.        ,   1.95      ,  33.06449198,\n",
       "       133.04      ,   1.24      , 121.9       ,   1.        ,\n",
       "         1.69      ,   2.4       ,  85.18      ,  51.41      ,\n",
       "       187.63      ,   4.43548128,   1.34      , 109.04      ,\n",
       "       160.81      ,   1.9       ,   1.        , 141.24      ,\n",
       "       151.98      , 124.29      , 152.48      , 165.29      ,\n",
       "         5.02      ,   1.16      ,   1.        ,   1.        ,\n",
       "       167.31      , 136.34      , 137.74      , 115.51604278,\n",
       "        48.88      ,  82.79      , 136.33      ,   4.73      ,\n",
       "       189.62      , 119.69      ,   6.04      ,  25.56      ,\n",
       "       134.21      , 137.15      ,  67.89      , 129.42      ,\n",
       "       211.72      , 236.28      , 250.79      , 115.51604278,\n",
       "       130.35      ,  76.71      ,  86.69      ,  89.3       ,\n",
       "       133.91      , 158.54      ,   1.77      ,   5.48      ,\n",
       "         3.65      , 120.57      ,  33.06449198, 102.92927807,\n",
       "         2.64      , 136.47      , 164.67      , 136.74      ,\n",
       "       119.58      , 145.88      ])"
      ]
     },
     "execution_count": 84,
     "metadata": {},
     "output_type": "execute_result"
    }
   ],
   "source": [
    "final_predictions"
   ]
  },
  {
   "cell_type": "code",
   "execution_count": 85,
   "id": "13ce23ac-f84e-4b72-89ba-5f6ff486ece2",
   "metadata": {},
   "outputs": [
    {
     "data": {
      "text/plain": [
       "11.842376092529536"
      ]
     },
     "execution_count": 85,
     "metadata": {},
     "output_type": "execute_result"
    }
   ],
   "source": [
    "tree_rmse = mean_squared_error(y_test, final_predictions,squared=False)\n",
    "tree_rmse"
   ]
  },
  {
   "cell_type": "code",
   "execution_count": 86,
   "id": "04e28bc3-b000-4a0b-816b-ea404607e51e",
   "metadata": {},
   "outputs": [
    {
     "data": {
      "text/plain": [
       "0.9755168502887748"
      ]
     },
     "execution_count": 86,
     "metadata": {},
     "output_type": "execute_result"
    }
   ],
   "source": [
    "model.score(X_test,y_test)"
   ]
  },
  {
   "cell_type": "markdown",
   "id": "6c916a80-4b57-49eb-b837-07dbaf4de171",
   "metadata": {},
   "source": [
    "# Cross Validation using Pipeline"
   ]
  },
  {
   "cell_type": "code",
   "execution_count": 87,
   "id": "59f840e1-5a94-44fa-9ffd-d1866b5f651a",
   "metadata": {},
   "outputs": [],
   "source": [
    "from sklearn.model_selection import cross_val_score\n",
    "forest_rmses = -cross_val_score(model, X_train,y_train,\n",
    "                                scoring=\"neg_root_mean_squared_error\", cv=10)"
   ]
  },
  {
   "cell_type": "code",
   "execution_count": 88,
   "id": "df0ceed9-9fed-47cc-a9a2-96b1c1accf1c",
   "metadata": {},
   "outputs": [
    {
     "data": {
      "text/plain": [
       "count    10.000000\n",
       "mean     10.396067\n",
       "std       4.623706\n",
       "min       3.755082\n",
       "25%       6.696985\n",
       "50%       9.632928\n",
       "75%      13.866939\n",
       "max      18.255821\n",
       "dtype: float64"
      ]
     },
     "execution_count": 88,
     "metadata": {},
     "output_type": "execute_result"
    }
   ],
   "source": [
    "pd.Series(forest_rmses).describe()"
   ]
  },
  {
   "cell_type": "code",
   "execution_count": 89,
   "id": "7520b686-09b0-4061-a9fc-4f80841d451b",
   "metadata": {},
   "outputs": [
    {
     "data": {
      "text/plain": [
       "11.842376092529536"
      ]
     },
     "execution_count": 89,
     "metadata": {},
     "output_type": "execute_result"
    }
   ],
   "source": [
    "model.fit(X_train,y_train)\n",
    "final_predictions = model.predict(X_test)\n",
    "forest_rmse = mean_squared_error(y_test, final_predictions,squared=False)\n",
    "forest_rmse"
   ]
  },
  {
   "cell_type": "markdown",
   "id": "5e4c1b9d-31eb-40ca-9b05-d8804c1791da",
   "metadata": {},
   "source": [
    "# Fine-Tune Your Model\n",
    "Grid Search"
   ]
  },
  {
   "cell_type": "code",
   "execution_count": 90,
   "id": "d872e353-070b-4a60-9888-00512699f5c6",
   "metadata": {},
   "outputs": [],
   "source": [
    "from sklearn.model_selection import GridSearchCV\n",
    "\n",
    "grid_params = [\n",
    "    {\n",
    "     \"random_forest__max_depth\":[1,2,3,4,5,None]\n",
    "    }\n",
    "]\n",
    "grid_search = GridSearchCV(model,grid_params,cv=5,scoring='neg_root_mean_squared_error')"
   ]
  },
  {
   "cell_type": "code",
   "execution_count": 91,
   "id": "20eb7a2f-14f6-49df-96d6-e0c4ef4b6fb7",
   "metadata": {},
   "outputs": [
    {
     "data": {
      "text/html": [
       "<style>#sk-container-id-4 {color: black;}#sk-container-id-4 pre{padding: 0;}#sk-container-id-4 div.sk-toggleable {background-color: white;}#sk-container-id-4 label.sk-toggleable__label {cursor: pointer;display: block;width: 100%;margin-bottom: 0;padding: 0.3em;box-sizing: border-box;text-align: center;}#sk-container-id-4 label.sk-toggleable__label-arrow:before {content: \"▸\";float: left;margin-right: 0.25em;color: #696969;}#sk-container-id-4 label.sk-toggleable__label-arrow:hover:before {color: black;}#sk-container-id-4 div.sk-estimator:hover label.sk-toggleable__label-arrow:before {color: black;}#sk-container-id-4 div.sk-toggleable__content {max-height: 0;max-width: 0;overflow: hidden;text-align: left;background-color: #f0f8ff;}#sk-container-id-4 div.sk-toggleable__content pre {margin: 0.2em;color: black;border-radius: 0.25em;background-color: #f0f8ff;}#sk-container-id-4 input.sk-toggleable__control:checked~div.sk-toggleable__content {max-height: 200px;max-width: 100%;overflow: auto;}#sk-container-id-4 input.sk-toggleable__control:checked~label.sk-toggleable__label-arrow:before {content: \"▾\";}#sk-container-id-4 div.sk-estimator input.sk-toggleable__control:checked~label.sk-toggleable__label {background-color: #d4ebff;}#sk-container-id-4 div.sk-label input.sk-toggleable__control:checked~label.sk-toggleable__label {background-color: #d4ebff;}#sk-container-id-4 input.sk-hidden--visually {border: 0;clip: rect(1px 1px 1px 1px);clip: rect(1px, 1px, 1px, 1px);height: 1px;margin: -1px;overflow: hidden;padding: 0;position: absolute;width: 1px;}#sk-container-id-4 div.sk-estimator {font-family: monospace;background-color: #f0f8ff;border: 1px dotted black;border-radius: 0.25em;box-sizing: border-box;margin-bottom: 0.5em;}#sk-container-id-4 div.sk-estimator:hover {background-color: #d4ebff;}#sk-container-id-4 div.sk-parallel-item::after {content: \"\";width: 100%;border-bottom: 1px solid gray;flex-grow: 1;}#sk-container-id-4 div.sk-label:hover label.sk-toggleable__label {background-color: #d4ebff;}#sk-container-id-4 div.sk-serial::before {content: \"\";position: absolute;border-left: 1px solid gray;box-sizing: border-box;top: 0;bottom: 0;left: 50%;z-index: 0;}#sk-container-id-4 div.sk-serial {display: flex;flex-direction: column;align-items: center;background-color: white;padding-right: 0.2em;padding-left: 0.2em;position: relative;}#sk-container-id-4 div.sk-item {position: relative;z-index: 1;}#sk-container-id-4 div.sk-parallel {display: flex;align-items: stretch;justify-content: center;background-color: white;position: relative;}#sk-container-id-4 div.sk-item::before, #sk-container-id-4 div.sk-parallel-item::before {content: \"\";position: absolute;border-left: 1px solid gray;box-sizing: border-box;top: 0;bottom: 0;left: 50%;z-index: -1;}#sk-container-id-4 div.sk-parallel-item {display: flex;flex-direction: column;z-index: 1;position: relative;background-color: white;}#sk-container-id-4 div.sk-parallel-item:first-child::after {align-self: flex-end;width: 50%;}#sk-container-id-4 div.sk-parallel-item:last-child::after {align-self: flex-start;width: 50%;}#sk-container-id-4 div.sk-parallel-item:only-child::after {width: 0;}#sk-container-id-4 div.sk-dashed-wrapped {border: 1px dashed gray;margin: 0 0.4em 0.5em 0.4em;box-sizing: border-box;padding-bottom: 0.4em;background-color: white;}#sk-container-id-4 div.sk-label label {font-family: monospace;font-weight: bold;display: inline-block;line-height: 1.2em;}#sk-container-id-4 div.sk-label-container {text-align: center;}#sk-container-id-4 div.sk-container {/* jupyter's `normalize.less` sets `[hidden] { display: none; }` but bootstrap.min.css set `[hidden] { display: none !important; }` so we also need the `!important` here to be able to override the default hidden behavior on the sphinx rendered scikit-learn.org. See: https://github.com/scikit-learn/scikit-learn/issues/21755 */display: inline-block !important;position: relative;}#sk-container-id-4 div.sk-text-repr-fallback {display: none;}</style><div id=\"sk-container-id-4\" class=\"sk-top-container\"><div class=\"sk-text-repr-fallback\"><pre>GridSearchCV(cv=5,\n",
       "             estimator=Pipeline(steps=[(&#x27;precprocessor&#x27;,\n",
       "                                        ColumnTransformer(transformers=[(&#x27;num&#x27;,\n",
       "                                                                         Pipeline(steps=[(&#x27;scaler&#x27;,\n",
       "                                                                                          MinMaxScaler(feature_range=(-1,\n",
       "                                                                                                                      1)))]),\n",
       "                                                                         [&#x27;Year&#x27;]),\n",
       "                                                                        (&#x27;cat&#x27;,\n",
       "                                                                         Pipeline(steps=[(&#x27;onehot&#x27;,\n",
       "                                                                                          OneHotEncoder(handle_unknown=&#x27;ignore&#x27;))]),\n",
       "                                                                         [&#x27;States&#x27;,\n",
       "                                                                          &#x27;Types &#x27;\n",
       "                                                                          &#x27;of &#x27;\n",
       "                                                                          &#x27;Waste&#x27;])])),\n",
       "                                       (&#x27;random_forest&#x27;,\n",
       "                                        RandomForestRegressor(random_state=42))]),\n",
       "             param_grid=[{&#x27;random_forest__max_depth&#x27;: [1, 2, 3, 4, 5, None]}],\n",
       "             scoring=&#x27;neg_root_mean_squared_error&#x27;)</pre><b>In a Jupyter environment, please rerun this cell to show the HTML representation or trust the notebook. <br />On GitHub, the HTML representation is unable to render, please try loading this page with nbviewer.org.</b></div><div class=\"sk-container\" hidden><div class=\"sk-item sk-dashed-wrapped\"><div class=\"sk-label-container\"><div class=\"sk-label sk-toggleable\"><input class=\"sk-toggleable__control sk-hidden--visually\" id=\"sk-estimator-id-23\" type=\"checkbox\" ><label for=\"sk-estimator-id-23\" class=\"sk-toggleable__label sk-toggleable__label-arrow\">GridSearchCV</label><div class=\"sk-toggleable__content\"><pre>GridSearchCV(cv=5,\n",
       "             estimator=Pipeline(steps=[(&#x27;precprocessor&#x27;,\n",
       "                                        ColumnTransformer(transformers=[(&#x27;num&#x27;,\n",
       "                                                                         Pipeline(steps=[(&#x27;scaler&#x27;,\n",
       "                                                                                          MinMaxScaler(feature_range=(-1,\n",
       "                                                                                                                      1)))]),\n",
       "                                                                         [&#x27;Year&#x27;]),\n",
       "                                                                        (&#x27;cat&#x27;,\n",
       "                                                                         Pipeline(steps=[(&#x27;onehot&#x27;,\n",
       "                                                                                          OneHotEncoder(handle_unknown=&#x27;ignore&#x27;))]),\n",
       "                                                                         [&#x27;States&#x27;,\n",
       "                                                                          &#x27;Types &#x27;\n",
       "                                                                          &#x27;of &#x27;\n",
       "                                                                          &#x27;Waste&#x27;])])),\n",
       "                                       (&#x27;random_forest&#x27;,\n",
       "                                        RandomForestRegressor(random_state=42))]),\n",
       "             param_grid=[{&#x27;random_forest__max_depth&#x27;: [1, 2, 3, 4, 5, None]}],\n",
       "             scoring=&#x27;neg_root_mean_squared_error&#x27;)</pre></div></div></div><div class=\"sk-parallel\"><div class=\"sk-parallel-item\"><div class=\"sk-item\"><div class=\"sk-label-container\"><div class=\"sk-label sk-toggleable\"><input class=\"sk-toggleable__control sk-hidden--visually\" id=\"sk-estimator-id-24\" type=\"checkbox\" ><label for=\"sk-estimator-id-24\" class=\"sk-toggleable__label sk-toggleable__label-arrow\">estimator: Pipeline</label><div class=\"sk-toggleable__content\"><pre>Pipeline(steps=[(&#x27;precprocessor&#x27;,\n",
       "                 ColumnTransformer(transformers=[(&#x27;num&#x27;,\n",
       "                                                  Pipeline(steps=[(&#x27;scaler&#x27;,\n",
       "                                                                   MinMaxScaler(feature_range=(-1,\n",
       "                                                                                               1)))]),\n",
       "                                                  [&#x27;Year&#x27;]),\n",
       "                                                 (&#x27;cat&#x27;,\n",
       "                                                  Pipeline(steps=[(&#x27;onehot&#x27;,\n",
       "                                                                   OneHotEncoder(handle_unknown=&#x27;ignore&#x27;))]),\n",
       "                                                  [&#x27;States&#x27;,\n",
       "                                                   &#x27;Types of Waste&#x27;])])),\n",
       "                (&#x27;random_forest&#x27;, RandomForestRegressor(random_state=42))])</pre></div></div></div><div class=\"sk-serial\"><div class=\"sk-item\"><div class=\"sk-serial\"><div class=\"sk-item sk-dashed-wrapped\"><div class=\"sk-label-container\"><div class=\"sk-label sk-toggleable\"><input class=\"sk-toggleable__control sk-hidden--visually\" id=\"sk-estimator-id-25\" type=\"checkbox\" ><label for=\"sk-estimator-id-25\" class=\"sk-toggleable__label sk-toggleable__label-arrow\">precprocessor: ColumnTransformer</label><div class=\"sk-toggleable__content\"><pre>ColumnTransformer(transformers=[(&#x27;num&#x27;,\n",
       "                                 Pipeline(steps=[(&#x27;scaler&#x27;,\n",
       "                                                  MinMaxScaler(feature_range=(-1,\n",
       "                                                                              1)))]),\n",
       "                                 [&#x27;Year&#x27;]),\n",
       "                                (&#x27;cat&#x27;,\n",
       "                                 Pipeline(steps=[(&#x27;onehot&#x27;,\n",
       "                                                  OneHotEncoder(handle_unknown=&#x27;ignore&#x27;))]),\n",
       "                                 [&#x27;States&#x27;, &#x27;Types of Waste&#x27;])])</pre></div></div></div><div class=\"sk-parallel\"><div class=\"sk-parallel-item\"><div class=\"sk-item\"><div class=\"sk-label-container\"><div class=\"sk-label sk-toggleable\"><input class=\"sk-toggleable__control sk-hidden--visually\" id=\"sk-estimator-id-26\" type=\"checkbox\" ><label for=\"sk-estimator-id-26\" class=\"sk-toggleable__label sk-toggleable__label-arrow\">num</label><div class=\"sk-toggleable__content\"><pre>[&#x27;Year&#x27;]</pre></div></div></div><div class=\"sk-serial\"><div class=\"sk-item\"><div class=\"sk-serial\"><div class=\"sk-item\"><div class=\"sk-estimator sk-toggleable\"><input class=\"sk-toggleable__control sk-hidden--visually\" id=\"sk-estimator-id-27\" type=\"checkbox\" ><label for=\"sk-estimator-id-27\" class=\"sk-toggleable__label sk-toggleable__label-arrow\">MinMaxScaler</label><div class=\"sk-toggleable__content\"><pre>MinMaxScaler(feature_range=(-1, 1))</pre></div></div></div></div></div></div></div></div><div class=\"sk-parallel-item\"><div class=\"sk-item\"><div class=\"sk-label-container\"><div class=\"sk-label sk-toggleable\"><input class=\"sk-toggleable__control sk-hidden--visually\" id=\"sk-estimator-id-28\" type=\"checkbox\" ><label for=\"sk-estimator-id-28\" class=\"sk-toggleable__label sk-toggleable__label-arrow\">cat</label><div class=\"sk-toggleable__content\"><pre>[&#x27;States&#x27;, &#x27;Types of Waste&#x27;]</pre></div></div></div><div class=\"sk-serial\"><div class=\"sk-item\"><div class=\"sk-serial\"><div class=\"sk-item\"><div class=\"sk-estimator sk-toggleable\"><input class=\"sk-toggleable__control sk-hidden--visually\" id=\"sk-estimator-id-29\" type=\"checkbox\" ><label for=\"sk-estimator-id-29\" class=\"sk-toggleable__label sk-toggleable__label-arrow\">OneHotEncoder</label><div class=\"sk-toggleable__content\"><pre>OneHotEncoder(handle_unknown=&#x27;ignore&#x27;)</pre></div></div></div></div></div></div></div></div></div></div><div class=\"sk-item\"><div class=\"sk-estimator sk-toggleable\"><input class=\"sk-toggleable__control sk-hidden--visually\" id=\"sk-estimator-id-30\" type=\"checkbox\" ><label for=\"sk-estimator-id-30\" class=\"sk-toggleable__label sk-toggleable__label-arrow\">RandomForestRegressor</label><div class=\"sk-toggleable__content\"><pre>RandomForestRegressor(random_state=42)</pre></div></div></div></div></div></div></div></div></div></div></div></div>"
      ],
      "text/plain": [
       "GridSearchCV(cv=5,\n",
       "             estimator=Pipeline(steps=[('precprocessor',\n",
       "                                        ColumnTransformer(transformers=[('num',\n",
       "                                                                         Pipeline(steps=[('scaler',\n",
       "                                                                                          MinMaxScaler(feature_range=(-1,\n",
       "                                                                                                                      1)))]),\n",
       "                                                                         ['Year']),\n",
       "                                                                        ('cat',\n",
       "                                                                         Pipeline(steps=[('onehot',\n",
       "                                                                                          OneHotEncoder(handle_unknown='ignore'))]),\n",
       "                                                                         ['States',\n",
       "                                                                          'Types '\n",
       "                                                                          'of '\n",
       "                                                                          'Waste'])])),\n",
       "                                       ('random_forest',\n",
       "                                        RandomForestRegressor(random_state=42))]),\n",
       "             param_grid=[{'random_forest__max_depth': [1, 2, 3, 4, 5, None]}],\n",
       "             scoring='neg_root_mean_squared_error')"
      ]
     },
     "execution_count": 91,
     "metadata": {},
     "output_type": "execute_result"
    }
   ],
   "source": [
    "grid_search.fit(X_train,y_train)"
   ]
  },
  {
   "cell_type": "code",
   "execution_count": 92,
   "id": "3b75253e-e259-43de-badf-2c02283ce485",
   "metadata": {},
   "outputs": [
    {
     "data": {
      "text/plain": [
       "-10.891500327909936"
      ]
     },
     "execution_count": 92,
     "metadata": {},
     "output_type": "execute_result"
    }
   ],
   "source": [
    "\n",
    "grid_search.best_score_"
   ]
  },
  {
   "cell_type": "code",
   "execution_count": 93,
   "id": "7a6e92c3-644f-4aaf-b069-e6ea19c778e0",
   "metadata": {},
   "outputs": [
    {
     "data": {
      "text/plain": [
       "11.842376092529536"
      ]
     },
     "execution_count": 93,
     "metadata": {},
     "output_type": "execute_result"
    }
   ],
   "source": [
    "final_predictions_cv = model.predict(X_test)\n",
    "forest_rmse_cv = mean_squared_error(y_test, final_predictions_cv,squared=False)\n",
    "forest_rmse_cv"
   ]
  },
  {
   "cell_type": "markdown",
   "id": "10ff9628-e662-4f44-b7e9-f13475bc79fa",
   "metadata": {},
   "source": [
    "# Exporting the Pipeline"
   ]
  },
  {
   "cell_type": "code",
   "execution_count": 94,
   "id": "357dee2c-7b82-447c-9698-4b0854e64131",
   "metadata": {},
   "outputs": [],
   "source": [
    "# export \n",
    "import pickle"
   ]
  },
  {
   "cell_type": "code",
   "execution_count": 95,
   "id": "09c9e090-decb-4d6a-bb99-495469c15ad0",
   "metadata": {},
   "outputs": [],
   "source": [
    "pickle.dump(model,open('wm-model.pkl','wb'))"
   ]
  },
  {
   "cell_type": "code",
   "execution_count": null,
   "id": "a0b98513-17c9-4219-b6e8-9d671ee3196a",
   "metadata": {},
   "outputs": [],
   "source": []
  },
  {
   "cell_type": "code",
   "execution_count": null,
   "id": "c00db245-da6d-41b1-a0a4-23a2420b18ca",
   "metadata": {},
   "outputs": [],
   "source": []
  },
  {
   "cell_type": "code",
   "execution_count": 96,
   "id": "339b9c06-0892-43eb-a192-8884212bd687",
   "metadata": {},
   "outputs": [
    {
     "data": {
      "text/html": [
       "<div>\n",
       "<style scoped>\n",
       "    .dataframe tbody tr th:only-of-type {\n",
       "        vertical-align: middle;\n",
       "    }\n",
       "\n",
       "    .dataframe tbody tr th {\n",
       "        vertical-align: top;\n",
       "    }\n",
       "\n",
       "    .dataframe thead th {\n",
       "        text-align: right;\n",
       "    }\n",
       "</style>\n",
       "<table border=\"1\" class=\"dataframe\">\n",
       "  <thead>\n",
       "    <tr style=\"text-align: right;\">\n",
       "      <th></th>\n",
       "      <th>Year</th>\n",
       "      <th>States</th>\n",
       "      <th>Types of Waste</th>\n",
       "    </tr>\n",
       "  </thead>\n",
       "  <tbody>\n",
       "    <tr>\n",
       "      <th>773</th>\n",
       "      <td>2017</td>\n",
       "      <td>Bremen</td>\n",
       "      <td>Separately collected organic wastes</td>\n",
       "    </tr>\n",
       "    <tr>\n",
       "      <th>280</th>\n",
       "      <td>2008</td>\n",
       "      <td>Sachsen</td>\n",
       "      <td>Other wastes</td>\n",
       "    </tr>\n",
       "    <tr>\n",
       "      <th>629</th>\n",
       "      <td>2014</td>\n",
       "      <td>Sachsen</td>\n",
       "      <td>Residual household and bulky wastes</td>\n",
       "    </tr>\n",
       "    <tr>\n",
       "      <th>318</th>\n",
       "      <td>2009</td>\n",
       "      <td>Hessen</td>\n",
       "      <td>Other wastes</td>\n",
       "    </tr>\n",
       "    <tr>\n",
       "      <th>1008</th>\n",
       "      <td>2021</td>\n",
       "      <td>Hamburg</td>\n",
       "      <td>Other wastes</td>\n",
       "    </tr>\n",
       "  </tbody>\n",
       "</table>\n",
       "</div>"
      ],
      "text/plain": [
       "      Year   States                       Types of Waste\n",
       "773   2017   Bremen  Separately collected organic wastes\n",
       "280   2008  Sachsen                         Other wastes\n",
       "629   2014  Sachsen  Residual household and bulky wastes\n",
       "318   2009   Hessen                         Other wastes\n",
       "1008  2021  Hamburg                         Other wastes"
      ]
     },
     "execution_count": 96,
     "metadata": {},
     "output_type": "execute_result"
    }
   ],
   "source": [
    "X_test.head()"
   ]
  },
  {
   "cell_type": "code",
   "execution_count": 97,
   "id": "9a237f20-05c3-44c9-b917-07b29e14fa49",
   "metadata": {},
   "outputs": [],
   "source": [
    "states = data['States'].unique()"
   ]
  },
  {
   "cell_type": "code",
   "execution_count": 98,
   "id": "cd75e442-df16-41c2-a613-bb17020c5397",
   "metadata": {},
   "outputs": [
    {
     "data": {
      "text/plain": [
       "array(['Baden-Württemberg', 'Bayern', 'Berlin', 'Brandenburg', 'Bremen',\n",
       "       'Hamburg', 'Hessen', 'Mecklenburg-Vorpommern', 'Niedersachsen',\n",
       "       'Nordrhein-Westfalen', 'Rheinland-Pfalz', 'Saarland', 'Sachsen',\n",
       "       'Sachsen-Anhalt', 'Schleswig-Holstein', 'Thüringen'], dtype=object)"
      ]
     },
     "execution_count": 98,
     "metadata": {},
     "output_type": "execute_result"
    }
   ],
   "source": [
    "states"
   ]
  },
  {
   "cell_type": "code",
   "execution_count": 99,
   "id": "29570db5-88cf-4e11-9642-00130e3884fc",
   "metadata": {},
   "outputs": [],
   "source": [
    "df_input = pd.DataFrame(states,columns=['States'])"
   ]
  },
  {
   "cell_type": "code",
   "execution_count": 100,
   "id": "a59d610a-d49d-4335-8b47-1878fa7d5f62",
   "metadata": {},
   "outputs": [],
   "source": [
    "df_input['Year'] = 2022"
   ]
  },
  {
   "cell_type": "code",
   "execution_count": 101,
   "id": "ce3e56ff-f049-45d6-b297-86368bae8aa0",
   "metadata": {},
   "outputs": [],
   "source": [
    "df_input['Types of Waste'] = 'Residual household and bulky wastes'"
   ]
  },
  {
   "cell_type": "code",
   "execution_count": 102,
   "id": "f5ad1b46-3231-48c7-85dd-f80213c35e3a",
   "metadata": {},
   "outputs": [
    {
     "data": {
      "text/html": [
       "<div>\n",
       "<style scoped>\n",
       "    .dataframe tbody tr th:only-of-type {\n",
       "        vertical-align: middle;\n",
       "    }\n",
       "\n",
       "    .dataframe tbody tr th {\n",
       "        vertical-align: top;\n",
       "    }\n",
       "\n",
       "    .dataframe thead th {\n",
       "        text-align: right;\n",
       "    }\n",
       "</style>\n",
       "<table border=\"1\" class=\"dataframe\">\n",
       "  <thead>\n",
       "    <tr style=\"text-align: right;\">\n",
       "      <th></th>\n",
       "      <th>States</th>\n",
       "      <th>Year</th>\n",
       "      <th>Types of Waste</th>\n",
       "    </tr>\n",
       "  </thead>\n",
       "  <tbody>\n",
       "    <tr>\n",
       "      <th>0</th>\n",
       "      <td>Baden-Württemberg</td>\n",
       "      <td>2022</td>\n",
       "      <td>Residual household and bulky wastes</td>\n",
       "    </tr>\n",
       "    <tr>\n",
       "      <th>1</th>\n",
       "      <td>Bayern</td>\n",
       "      <td>2022</td>\n",
       "      <td>Residual household and bulky wastes</td>\n",
       "    </tr>\n",
       "    <tr>\n",
       "      <th>2</th>\n",
       "      <td>Berlin</td>\n",
       "      <td>2022</td>\n",
       "      <td>Residual household and bulky wastes</td>\n",
       "    </tr>\n",
       "    <tr>\n",
       "      <th>3</th>\n",
       "      <td>Brandenburg</td>\n",
       "      <td>2022</td>\n",
       "      <td>Residual household and bulky wastes</td>\n",
       "    </tr>\n",
       "    <tr>\n",
       "      <th>4</th>\n",
       "      <td>Bremen</td>\n",
       "      <td>2022</td>\n",
       "      <td>Residual household and bulky wastes</td>\n",
       "    </tr>\n",
       "    <tr>\n",
       "      <th>5</th>\n",
       "      <td>Hamburg</td>\n",
       "      <td>2022</td>\n",
       "      <td>Residual household and bulky wastes</td>\n",
       "    </tr>\n",
       "    <tr>\n",
       "      <th>6</th>\n",
       "      <td>Hessen</td>\n",
       "      <td>2022</td>\n",
       "      <td>Residual household and bulky wastes</td>\n",
       "    </tr>\n",
       "    <tr>\n",
       "      <th>7</th>\n",
       "      <td>Mecklenburg-Vorpommern</td>\n",
       "      <td>2022</td>\n",
       "      <td>Residual household and bulky wastes</td>\n",
       "    </tr>\n",
       "    <tr>\n",
       "      <th>8</th>\n",
       "      <td>Niedersachsen</td>\n",
       "      <td>2022</td>\n",
       "      <td>Residual household and bulky wastes</td>\n",
       "    </tr>\n",
       "    <tr>\n",
       "      <th>9</th>\n",
       "      <td>Nordrhein-Westfalen</td>\n",
       "      <td>2022</td>\n",
       "      <td>Residual household and bulky wastes</td>\n",
       "    </tr>\n",
       "    <tr>\n",
       "      <th>10</th>\n",
       "      <td>Rheinland-Pfalz</td>\n",
       "      <td>2022</td>\n",
       "      <td>Residual household and bulky wastes</td>\n",
       "    </tr>\n",
       "    <tr>\n",
       "      <th>11</th>\n",
       "      <td>Saarland</td>\n",
       "      <td>2022</td>\n",
       "      <td>Residual household and bulky wastes</td>\n",
       "    </tr>\n",
       "    <tr>\n",
       "      <th>12</th>\n",
       "      <td>Sachsen</td>\n",
       "      <td>2022</td>\n",
       "      <td>Residual household and bulky wastes</td>\n",
       "    </tr>\n",
       "    <tr>\n",
       "      <th>13</th>\n",
       "      <td>Sachsen-Anhalt</td>\n",
       "      <td>2022</td>\n",
       "      <td>Residual household and bulky wastes</td>\n",
       "    </tr>\n",
       "    <tr>\n",
       "      <th>14</th>\n",
       "      <td>Schleswig-Holstein</td>\n",
       "      <td>2022</td>\n",
       "      <td>Residual household and bulky wastes</td>\n",
       "    </tr>\n",
       "    <tr>\n",
       "      <th>15</th>\n",
       "      <td>Thüringen</td>\n",
       "      <td>2022</td>\n",
       "      <td>Residual household and bulky wastes</td>\n",
       "    </tr>\n",
       "  </tbody>\n",
       "</table>\n",
       "</div>"
      ],
      "text/plain": [
       "                    States  Year                       Types of Waste\n",
       "0        Baden-Württemberg  2022  Residual household and bulky wastes\n",
       "1                   Bayern  2022  Residual household and bulky wastes\n",
       "2                   Berlin  2022  Residual household and bulky wastes\n",
       "3              Brandenburg  2022  Residual household and bulky wastes\n",
       "4                   Bremen  2022  Residual household and bulky wastes\n",
       "5                  Hamburg  2022  Residual household and bulky wastes\n",
       "6                   Hessen  2022  Residual household and bulky wastes\n",
       "7   Mecklenburg-Vorpommern  2022  Residual household and bulky wastes\n",
       "8            Niedersachsen  2022  Residual household and bulky wastes\n",
       "9      Nordrhein-Westfalen  2022  Residual household and bulky wastes\n",
       "10         Rheinland-Pfalz  2022  Residual household and bulky wastes\n",
       "11                Saarland  2022  Residual household and bulky wastes\n",
       "12                 Sachsen  2022  Residual household and bulky wastes\n",
       "13          Sachsen-Anhalt  2022  Residual household and bulky wastes\n",
       "14      Schleswig-Holstein  2022  Residual household and bulky wastes\n",
       "15               Thüringen  2022  Residual household and bulky wastes"
      ]
     },
     "execution_count": 102,
     "metadata": {},
     "output_type": "execute_result"
    }
   ],
   "source": [
    "df_input"
   ]
  },
  {
   "cell_type": "code",
   "execution_count": 103,
   "id": "8ff5bdaf-1a20-4a0d-9f59-b163422c469b",
   "metadata": {},
   "outputs": [],
   "source": [
    "output = model.predict(df_input)"
   ]
  },
  {
   "cell_type": "code",
   "execution_count": 104,
   "id": "af56304b-1739-4044-b6d8-1ee6f23a1a35",
   "metadata": {},
   "outputs": [],
   "source": [
    "df_predicted = pd.DataFrame(output, columns=['Household Waste Generated per Inhabitant (kg)'])"
   ]
  },
  {
   "cell_type": "code",
   "execution_count": 105,
   "id": "66345eb7-cb9f-44b7-a209-6138d5318850",
   "metadata": {},
   "outputs": [],
   "source": [
    "df_final_bulk = pd.concat([df_input,df_predicted],axis=1)"
   ]
  },
  {
   "cell_type": "code",
   "execution_count": 107,
   "id": "2c53901c-b25f-43dc-8ac4-27aa02051fa9",
   "metadata": {},
   "outputs": [],
   "source": [
    "df_final_bulk.index = df_final_bulk.index+1"
   ]
  },
  {
   "cell_type": "code",
   "execution_count": 269,
   "id": "ea68d956-6abf-46fa-a813-d02854e30e86",
   "metadata": {},
   "outputs": [
    {
     "data": {
      "text/html": [
       "<div>\n",
       "<style scoped>\n",
       "    .dataframe tbody tr th:only-of-type {\n",
       "        vertical-align: middle;\n",
       "    }\n",
       "\n",
       "    .dataframe tbody tr th {\n",
       "        vertical-align: top;\n",
       "    }\n",
       "\n",
       "    .dataframe thead th {\n",
       "        text-align: right;\n",
       "    }\n",
       "</style>\n",
       "<table border=\"1\" class=\"dataframe\">\n",
       "  <thead>\n",
       "    <tr style=\"text-align: right;\">\n",
       "      <th></th>\n",
       "      <th>States</th>\n",
       "      <th>Year</th>\n",
       "      <th>Types of Waste</th>\n",
       "      <th>Household Waste Generated per Inhabitant (kg)</th>\n",
       "    </tr>\n",
       "  </thead>\n",
       "  <tbody>\n",
       "    <tr>\n",
       "      <th>2</th>\n",
       "      <td>Baden-Württemberg</td>\n",
       "      <td>2022</td>\n",
       "      <td>Residual household and bulky wastes</td>\n",
       "      <td>143.61</td>\n",
       "    </tr>\n",
       "    <tr>\n",
       "      <th>3</th>\n",
       "      <td>Bayern</td>\n",
       "      <td>2022</td>\n",
       "      <td>Residual household and bulky wastes</td>\n",
       "      <td>189.68</td>\n",
       "    </tr>\n",
       "    <tr>\n",
       "      <th>4</th>\n",
       "      <td>Berlin</td>\n",
       "      <td>2022</td>\n",
       "      <td>Residual household and bulky wastes</td>\n",
       "      <td>239.47</td>\n",
       "    </tr>\n",
       "    <tr>\n",
       "      <th>5</th>\n",
       "      <td>Brandenburg</td>\n",
       "      <td>2022</td>\n",
       "      <td>Residual household and bulky wastes</td>\n",
       "      <td>218.42</td>\n",
       "    </tr>\n",
       "    <tr>\n",
       "      <th>6</th>\n",
       "      <td>Bremen</td>\n",
       "      <td>2022</td>\n",
       "      <td>Residual household and bulky wastes</td>\n",
       "      <td>234.40</td>\n",
       "    </tr>\n",
       "    <tr>\n",
       "      <th>7</th>\n",
       "      <td>Hamburg</td>\n",
       "      <td>2022</td>\n",
       "      <td>Residual household and bulky wastes</td>\n",
       "      <td>256.67</td>\n",
       "    </tr>\n",
       "    <tr>\n",
       "      <th>8</th>\n",
       "      <td>Hessen</td>\n",
       "      <td>2022</td>\n",
       "      <td>Residual household and bulky wastes</td>\n",
       "      <td>176.26</td>\n",
       "    </tr>\n",
       "    <tr>\n",
       "      <th>9</th>\n",
       "      <td>Mecklenburg-Vorpommern</td>\n",
       "      <td>2022</td>\n",
       "      <td>Residual household and bulky wastes</td>\n",
       "      <td>231.00</td>\n",
       "    </tr>\n",
       "    <tr>\n",
       "      <th>10</th>\n",
       "      <td>Niedersachsen</td>\n",
       "      <td>2022</td>\n",
       "      <td>Residual household and bulky wastes</td>\n",
       "      <td>190.09</td>\n",
       "    </tr>\n",
       "    <tr>\n",
       "      <th>11</th>\n",
       "      <td>Nordrhein-Westfalen</td>\n",
       "      <td>2022</td>\n",
       "      <td>Residual household and bulky wastes</td>\n",
       "      <td>189.68</td>\n",
       "    </tr>\n",
       "    <tr>\n",
       "      <th>12</th>\n",
       "      <td>Rheinland-Pfalz</td>\n",
       "      <td>2022</td>\n",
       "      <td>Residual household and bulky wastes</td>\n",
       "      <td>183.51</td>\n",
       "    </tr>\n",
       "    <tr>\n",
       "      <th>13</th>\n",
       "      <td>Saarland</td>\n",
       "      <td>2022</td>\n",
       "      <td>Residual household and bulky wastes</td>\n",
       "      <td>192.37</td>\n",
       "    </tr>\n",
       "    <tr>\n",
       "      <th>14</th>\n",
       "      <td>Sachsen</td>\n",
       "      <td>2022</td>\n",
       "      <td>Residual household and bulky wastes</td>\n",
       "      <td>158.31</td>\n",
       "    </tr>\n",
       "    <tr>\n",
       "      <th>15</th>\n",
       "      <td>Sachsen-Anhalt</td>\n",
       "      <td>2022</td>\n",
       "      <td>Residual household and bulky wastes</td>\n",
       "      <td>201.03</td>\n",
       "    </tr>\n",
       "    <tr>\n",
       "      <th>16</th>\n",
       "      <td>Schleswig-Holstein</td>\n",
       "      <td>2022</td>\n",
       "      <td>Residual household and bulky wastes</td>\n",
       "      <td>232.05</td>\n",
       "    </tr>\n",
       "    <tr>\n",
       "      <th>17</th>\n",
       "      <td>Thüringen</td>\n",
       "      <td>2022</td>\n",
       "      <td>Residual household and bulky wastes</td>\n",
       "      <td>188.09</td>\n",
       "    </tr>\n",
       "  </tbody>\n",
       "</table>\n",
       "</div>"
      ],
      "text/plain": [
       "                    States  Year                       Types of Waste  \\\n",
       "2        Baden-Württemberg  2022  Residual household and bulky wastes   \n",
       "3                   Bayern  2022  Residual household and bulky wastes   \n",
       "4                   Berlin  2022  Residual household and bulky wastes   \n",
       "5              Brandenburg  2022  Residual household and bulky wastes   \n",
       "6                   Bremen  2022  Residual household and bulky wastes   \n",
       "7                  Hamburg  2022  Residual household and bulky wastes   \n",
       "8                   Hessen  2022  Residual household and bulky wastes   \n",
       "9   Mecklenburg-Vorpommern  2022  Residual household and bulky wastes   \n",
       "10           Niedersachsen  2022  Residual household and bulky wastes   \n",
       "11     Nordrhein-Westfalen  2022  Residual household and bulky wastes   \n",
       "12         Rheinland-Pfalz  2022  Residual household and bulky wastes   \n",
       "13                Saarland  2022  Residual household and bulky wastes   \n",
       "14                 Sachsen  2022  Residual household and bulky wastes   \n",
       "15          Sachsen-Anhalt  2022  Residual household and bulky wastes   \n",
       "16      Schleswig-Holstein  2022  Residual household and bulky wastes   \n",
       "17               Thüringen  2022  Residual household and bulky wastes   \n",
       "\n",
       "    Household Waste Generated per Inhabitant (kg)  \n",
       "2                                          143.61  \n",
       "3                                          189.68  \n",
       "4                                          239.47  \n",
       "5                                          218.42  \n",
       "6                                          234.40  \n",
       "7                                          256.67  \n",
       "8                                          176.26  \n",
       "9                                          231.00  \n",
       "10                                         190.09  \n",
       "11                                         189.68  \n",
       "12                                         183.51  \n",
       "13                                         192.37  \n",
       "14                                         158.31  \n",
       "15                                         201.03  \n",
       "16                                         232.05  \n",
       "17                                         188.09  "
      ]
     },
     "execution_count": 269,
     "metadata": {},
     "output_type": "execute_result"
    }
   ],
   "source": [
    "df_final_bulk"
   ]
  },
  {
   "cell_type": "raw",
   "id": "a50395a5-aa63-42f4-97de-34708d1302cc",
   "metadata": {},
   "source": [
    "Second Type waste - Separately collected recyclables"
   ]
  },
  {
   "cell_type": "code",
   "execution_count": 270,
   "id": "8663213e-e6cd-464e-93d0-4ecca2e83518",
   "metadata": {},
   "outputs": [],
   "source": [
    "df_input_rec = df_input"
   ]
  },
  {
   "cell_type": "code",
   "execution_count": 271,
   "id": "8bec1312-9a31-47ec-a642-e0c8fd24e586",
   "metadata": {},
   "outputs": [],
   "source": [
    "df_input_rec['Types of Waste'] ='Separately collected recyclables'"
   ]
  },
  {
   "cell_type": "code",
   "execution_count": 272,
   "id": "a6698c28-375d-43ac-8d86-755b0fd38c27",
   "metadata": {},
   "outputs": [],
   "source": [
    "output_rec = model.predict(df_input_rec)"
   ]
  },
  {
   "cell_type": "code",
   "execution_count": 273,
   "id": "a216e128-19e2-4629-83f6-737d39e9d31e",
   "metadata": {},
   "outputs": [],
   "source": [
    "df_predicted_rec = pd.DataFrame(output_rec, columns=['Household Waste Generated per Inhabitant (kg)'])"
   ]
  },
  {
   "cell_type": "code",
   "execution_count": 274,
   "id": "98142ed8-a6fd-4fff-95d8-d4a4d206184c",
   "metadata": {},
   "outputs": [],
   "source": [
    "df_final_rec = pd.concat([df_input_rec,df_predicted_rec],axis=1)"
   ]
  },
  {
   "cell_type": "code",
   "execution_count": 275,
   "id": "e33667cb-b7a4-4c1c-a7c7-5885fbe070b7",
   "metadata": {},
   "outputs": [],
   "source": [
    "df_final_rec.index = df_final_rec.index+1"
   ]
  },
  {
   "cell_type": "code",
   "execution_count": 276,
   "id": "90b3d06c-8f8b-4f74-aab6-2319c1ca5500",
   "metadata": {},
   "outputs": [
    {
     "data": {
      "text/html": [
       "<div>\n",
       "<style scoped>\n",
       "    .dataframe tbody tr th:only-of-type {\n",
       "        vertical-align: middle;\n",
       "    }\n",
       "\n",
       "    .dataframe tbody tr th {\n",
       "        vertical-align: top;\n",
       "    }\n",
       "\n",
       "    .dataframe thead th {\n",
       "        text-align: right;\n",
       "    }\n",
       "</style>\n",
       "<table border=\"1\" class=\"dataframe\">\n",
       "  <thead>\n",
       "    <tr style=\"text-align: right;\">\n",
       "      <th></th>\n",
       "      <th>States</th>\n",
       "      <th>Year</th>\n",
       "      <th>Types of Waste</th>\n",
       "      <th>Household Waste Generated per Inhabitant (kg)</th>\n",
       "    </tr>\n",
       "  </thead>\n",
       "  <tbody>\n",
       "    <tr>\n",
       "      <th>1</th>\n",
       "      <td>Baden-Württemberg</td>\n",
       "      <td>2022</td>\n",
       "      <td>Separately collected recyclables</td>\n",
       "      <td>162.97</td>\n",
       "    </tr>\n",
       "    <tr>\n",
       "      <th>2</th>\n",
       "      <td>Bayern</td>\n",
       "      <td>2022</td>\n",
       "      <td>Separately collected recyclables</td>\n",
       "      <td>141.94</td>\n",
       "    </tr>\n",
       "    <tr>\n",
       "      <th>3</th>\n",
       "      <td>Berlin</td>\n",
       "      <td>2022</td>\n",
       "      <td>Separately collected recyclables</td>\n",
       "      <td>106.80</td>\n",
       "    </tr>\n",
       "    <tr>\n",
       "      <th>4</th>\n",
       "      <td>Brandenburg</td>\n",
       "      <td>2022</td>\n",
       "      <td>Separately collected recyclables</td>\n",
       "      <td>143.67</td>\n",
       "    </tr>\n",
       "    <tr>\n",
       "      <th>5</th>\n",
       "      <td>Bremen</td>\n",
       "      <td>2022</td>\n",
       "      <td>Separately collected recyclables</td>\n",
       "      <td>122.10</td>\n",
       "    </tr>\n",
       "    <tr>\n",
       "      <th>6</th>\n",
       "      <td>Hamburg</td>\n",
       "      <td>2022</td>\n",
       "      <td>Separately collected recyclables</td>\n",
       "      <td>119.58</td>\n",
       "    </tr>\n",
       "    <tr>\n",
       "      <th>7</th>\n",
       "      <td>Hessen</td>\n",
       "      <td>2022</td>\n",
       "      <td>Separately collected recyclables</td>\n",
       "      <td>138.48</td>\n",
       "    </tr>\n",
       "    <tr>\n",
       "      <th>8</th>\n",
       "      <td>Mecklenburg-Vorpommern</td>\n",
       "      <td>2022</td>\n",
       "      <td>Separately collected recyclables</td>\n",
       "      <td>141.19</td>\n",
       "    </tr>\n",
       "    <tr>\n",
       "      <th>9</th>\n",
       "      <td>Niedersachsen</td>\n",
       "      <td>2022</td>\n",
       "      <td>Separately collected recyclables</td>\n",
       "      <td>166.34</td>\n",
       "    </tr>\n",
       "    <tr>\n",
       "      <th>10</th>\n",
       "      <td>Nordrhein-Westfalen</td>\n",
       "      <td>2022</td>\n",
       "      <td>Separately collected recyclables</td>\n",
       "      <td>141.94</td>\n",
       "    </tr>\n",
       "    <tr>\n",
       "      <th>11</th>\n",
       "      <td>Rheinland-Pfalz</td>\n",
       "      <td>2022</td>\n",
       "      <td>Separately collected recyclables</td>\n",
       "      <td>168.66</td>\n",
       "    </tr>\n",
       "    <tr>\n",
       "      <th>12</th>\n",
       "      <td>Saarland</td>\n",
       "      <td>2022</td>\n",
       "      <td>Separately collected recyclables</td>\n",
       "      <td>156.88</td>\n",
       "    </tr>\n",
       "    <tr>\n",
       "      <th>13</th>\n",
       "      <td>Sachsen</td>\n",
       "      <td>2022</td>\n",
       "      <td>Separately collected recyclables</td>\n",
       "      <td>175.88</td>\n",
       "    </tr>\n",
       "    <tr>\n",
       "      <th>14</th>\n",
       "      <td>Sachsen-Anhalt</td>\n",
       "      <td>2022</td>\n",
       "      <td>Separately collected recyclables</td>\n",
       "      <td>146.70</td>\n",
       "    </tr>\n",
       "    <tr>\n",
       "      <th>15</th>\n",
       "      <td>Schleswig-Holstein</td>\n",
       "      <td>2022</td>\n",
       "      <td>Separately collected recyclables</td>\n",
       "      <td>149.54</td>\n",
       "    </tr>\n",
       "    <tr>\n",
       "      <th>16</th>\n",
       "      <td>Thüringen</td>\n",
       "      <td>2022</td>\n",
       "      <td>Separately collected recyclables</td>\n",
       "      <td>141.32</td>\n",
       "    </tr>\n",
       "  </tbody>\n",
       "</table>\n",
       "</div>"
      ],
      "text/plain": [
       "                    States  Year                    Types of Waste  \\\n",
       "1        Baden-Württemberg  2022  Separately collected recyclables   \n",
       "2                   Bayern  2022  Separately collected recyclables   \n",
       "3                   Berlin  2022  Separately collected recyclables   \n",
       "4              Brandenburg  2022  Separately collected recyclables   \n",
       "5                   Bremen  2022  Separately collected recyclables   \n",
       "6                  Hamburg  2022  Separately collected recyclables   \n",
       "7                   Hessen  2022  Separately collected recyclables   \n",
       "8   Mecklenburg-Vorpommern  2022  Separately collected recyclables   \n",
       "9            Niedersachsen  2022  Separately collected recyclables   \n",
       "10     Nordrhein-Westfalen  2022  Separately collected recyclables   \n",
       "11         Rheinland-Pfalz  2022  Separately collected recyclables   \n",
       "12                Saarland  2022  Separately collected recyclables   \n",
       "13                 Sachsen  2022  Separately collected recyclables   \n",
       "14          Sachsen-Anhalt  2022  Separately collected recyclables   \n",
       "15      Schleswig-Holstein  2022  Separately collected recyclables   \n",
       "16               Thüringen  2022  Separately collected recyclables   \n",
       "\n",
       "    Household Waste Generated per Inhabitant (kg)  \n",
       "1                                          162.97  \n",
       "2                                          141.94  \n",
       "3                                          106.80  \n",
       "4                                          143.67  \n",
       "5                                          122.10  \n",
       "6                                          119.58  \n",
       "7                                          138.48  \n",
       "8                                          141.19  \n",
       "9                                          166.34  \n",
       "10                                         141.94  \n",
       "11                                         168.66  \n",
       "12                                         156.88  \n",
       "13                                         175.88  \n",
       "14                                         146.70  \n",
       "15                                         149.54  \n",
       "16                                         141.32  "
      ]
     },
     "execution_count": 276,
     "metadata": {},
     "output_type": "execute_result"
    }
   ],
   "source": [
    "df_final_rec"
   ]
  },
  {
   "cell_type": "code",
   "execution_count": null,
   "id": "c4429ef4-aa4c-43ec-b947-fac5779644e9",
   "metadata": {},
   "outputs": [],
   "source": [
    "df[['city'] == 'Hamburg] "
   ]
  },
  {
   "cell_type": "code",
   "execution_count": null,
   "id": "d8425925-b1d0-4604-915b-0e6fba7bc308",
   "metadata": {},
   "outputs": [],
   "source": []
  }
 ],
 "metadata": {
  "kernelspec": {
   "display_name": "Python 3 (ipykernel)",
   "language": "python",
   "name": "python3"
  },
  "language_info": {
   "codemirror_mode": {
    "name": "ipython",
    "version": 3
   },
   "file_extension": ".py",
   "mimetype": "text/x-python",
   "name": "python",
   "nbconvert_exporter": "python",
   "pygments_lexer": "ipython3",
   "version": "3.9.13"
  }
 },
 "nbformat": 4,
 "nbformat_minor": 5
}
