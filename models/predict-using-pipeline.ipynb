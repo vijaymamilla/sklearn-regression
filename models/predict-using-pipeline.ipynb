{
 "cells": [
  {
   "cell_type": "code",
   "execution_count": 2,
   "id": "7957e7c2",
   "metadata": {},
   "outputs": [],
   "source": [
    "import pickle\n",
    "import numpy as np\n",
    "import pandas as pd"
   ]
  },
  {
   "cell_type": "code",
   "execution_count": 3,
   "id": "94bd1105",
   "metadata": {},
   "outputs": [],
   "source": [
    "pipe = pickle.load(open('iryss-model.pkl','rb'))"
   ]
  },
  {
   "cell_type": "code",
   "execution_count": 4,
   "id": "b626ce1e",
   "metadata": {},
   "outputs": [],
   "source": [
    "df= pd.read_csv('iryss-data.csv')"
   ]
  },
  {
   "cell_type": "code",
   "execution_count": 5,
   "id": "41adaf78",
   "metadata": {},
   "outputs": [],
   "source": [
    "input = df.iloc[0].to_numpy()"
   ]
  },
  {
   "cell_type": "code",
   "execution_count": 6,
   "id": "ecfc9b18",
   "metadata": {},
   "outputs": [
    {
     "data": {
      "text/plain": [
       "(21,)"
      ]
     },
     "execution_count": 6,
     "metadata": {},
     "output_type": "execute_result"
    }
   ],
   "source": [
    "input.shape"
   ]
  },
  {
   "cell_type": "code",
   "execution_count": 7,
   "id": "0bc4eb5f",
   "metadata": {},
   "outputs": [
    {
     "data": {
      "text/plain": [
       "array([56, 'Other', 'Black', 2, 'ICD-10-CM', 1365516690, 1, 3, 'Medicare',\n",
       "       'None', 'no', 'no', 'no', 'no', 'no', 'yes', 'current', 3,\n",
       "       'Transferred from acute care hospital', 'Not a transfer', 43000.0],\n",
       "      dtype=object)"
      ]
     },
     "execution_count": 7,
     "metadata": {},
     "output_type": "execute_result"
    }
   ],
   "source": [
    "input"
   ]
  },
  {
   "cell_type": "code",
   "execution_count": 8,
   "id": "a819eb56",
   "metadata": {},
   "outputs": [],
   "source": [
    "test_input = np.array([56, 'Other', 'Black', 2, 'ICD-10-CM', 1365516690, 1, 3,\n",
    "        'Medicare', 'None', 'no', 'no', 'no', 'no', 'no', 'yes',\n",
    "        'current', 3, 'Transferred from acute care hospital',\n",
    "        'Not a transfer'], dtype=object).reshape(1,20)"
   ]
  },
  {
   "cell_type": "code",
   "execution_count": 9,
   "id": "26d083de",
   "metadata": {},
   "outputs": [
    {
     "name": "stderr",
     "output_type": "stream",
     "text": [
      "/Users/hadoop/opt/anaconda3/lib/python3.9/site-packages/sklearn/base.py:464: UserWarning: X does not have valid feature names, but MinMaxScaler was fitted with feature names\n",
      "  warnings.warn(\n",
      "/Users/hadoop/opt/anaconda3/lib/python3.9/site-packages/sklearn/base.py:464: UserWarning: X does not have valid feature names, but OneHotEncoder was fitted with feature names\n",
      "  warnings.warn(\n"
     ]
    },
    {
     "data": {
      "text/plain": [
       "array([44015.])"
      ]
     },
     "execution_count": 9,
     "metadata": {},
     "output_type": "execute_result"
    }
   ],
   "source": [
    "pipe.predict(test_input)"
   ]
  },
  {
   "cell_type": "code",
   "execution_count": 10,
   "id": "ed5e8f6e",
   "metadata": {},
   "outputs": [
    {
     "name": "stdout",
     "output_type": "stream",
     "text": [
      "1.3.0\n"
     ]
    }
   ],
   "source": [
    "import sklearn\n",
    "print(sklearn.__version__)"
   ]
  },
  {
   "cell_type": "code",
   "execution_count": null,
   "id": "f764d0fa",
   "metadata": {},
   "outputs": [],
   "source": []
  }
 ],
 "metadata": {
  "kernelspec": {
   "display_name": "Python 3 (ipykernel)",
   "language": "python",
   "name": "python3"
  },
  "language_info": {
   "codemirror_mode": {
    "name": "ipython",
    "version": 3
   },
   "file_extension": ".py",
   "mimetype": "text/x-python",
   "name": "python",
   "nbconvert_exporter": "python",
   "pygments_lexer": "ipython3",
   "version": "3.9.13"
  }
 },
 "nbformat": 4,
 "nbformat_minor": 5
}
